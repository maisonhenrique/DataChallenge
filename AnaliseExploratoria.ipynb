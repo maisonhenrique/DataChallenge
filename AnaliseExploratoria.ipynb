{
 "cells": [
  {
   "attachments": {},
   "cell_type": "markdown",
   "metadata": {},
   "source": [
    "ANALISE EXPLORATÓRIA - NETFLIX E AMAZON PRIME"
   ]
  },
  {
   "cell_type": "code",
   "execution_count": 1130,
   "metadata": {},
   "outputs": [],
   "source": [
    "# Importar as Bibliotecas\n",
    "import pandas as pd\n",
    "import numpy as np\n",
    "import seaborn as sns\n",
    "import matplotlib.pyplot as plt\n",
    "%matplotlib inline\n",
    "from collections import Counter\n",
    "from plotly.subplots import make_subplots\n",
    "import plotly.graph_objs as go\n",
    "\n",
    "import warnings\n",
    "warnings.filterwarnings('ignore')"
   ]
  },
  {
   "cell_type": "code",
   "execution_count": 1131,
   "metadata": {},
   "outputs": [],
   "source": [
    "# Configurações\n",
    "pd.set_option('display.max_rows', 200)\n",
    "pd.set_option('display.max_columns', 100)\n",
    "\n",
    "# Parametros Gráfico\n",
    "rc_params = {'axes.spines.top': False,\n",
    "             'axes.spines.right': False,\n",
    "             'legend.fontsize': 8,\n",
    "             'legend.title_fontsize': 8,\n",
    "             'legend.loc': 'upper right',\n",
    "             'legend.fancybox': False,\n",
    "             'axes.titleweight': 'bold',\n",
    "             'axes.titlesize': 12,\n",
    "             'axes.titlepad': 12}\n",
    "sns.set_theme(style='ticks', rc=rc_params)\n",
    "sns.set_color_codes('muted')"
   ]
  },
  {
   "cell_type": "code",
   "execution_count": 1132,
   "metadata": {},
   "outputs": [],
   "source": [
    "# Base de Dados - Netflix\n",
    "df_netflix = pd.read_csv('netflix_titles.csv', sep=',')\n",
    "df_netflix['plataforma'] = 'Netflix'"
   ]
  },
  {
   "cell_type": "code",
   "execution_count": 1133,
   "metadata": {},
   "outputs": [
    {
     "data": {
      "text/html": [
       "<div>\n",
       "<style scoped>\n",
       "    .dataframe tbody tr th:only-of-type {\n",
       "        vertical-align: middle;\n",
       "    }\n",
       "\n",
       "    .dataframe tbody tr th {\n",
       "        vertical-align: top;\n",
       "    }\n",
       "\n",
       "    .dataframe thead th {\n",
       "        text-align: right;\n",
       "    }\n",
       "</style>\n",
       "<table border=\"1\" class=\"dataframe\">\n",
       "  <thead>\n",
       "    <tr style=\"text-align: right;\">\n",
       "      <th></th>\n",
       "      <th>show_id</th>\n",
       "      <th>type</th>\n",
       "      <th>title</th>\n",
       "      <th>director</th>\n",
       "      <th>cast</th>\n",
       "      <th>country</th>\n",
       "      <th>date_added</th>\n",
       "      <th>release_year</th>\n",
       "      <th>rating</th>\n",
       "      <th>duration</th>\n",
       "      <th>listed_in</th>\n",
       "      <th>description</th>\n",
       "      <th>plataforma</th>\n",
       "    </tr>\n",
       "  </thead>\n",
       "  <tbody>\n",
       "    <tr>\n",
       "      <th>0</th>\n",
       "      <td>s1</td>\n",
       "      <td>Movie</td>\n",
       "      <td>Dick Johnson Is Dead</td>\n",
       "      <td>Kirsten Johnson</td>\n",
       "      <td>No Data</td>\n",
       "      <td>United States</td>\n",
       "      <td>September 25, 2021</td>\n",
       "      <td>2020</td>\n",
       "      <td>PG-13</td>\n",
       "      <td>90 min</td>\n",
       "      <td>Documentaries</td>\n",
       "      <td>As her father nears the end of his life, filmm...</td>\n",
       "      <td>Netflix</td>\n",
       "    </tr>\n",
       "    <tr>\n",
       "      <th>1</th>\n",
       "      <td>s2</td>\n",
       "      <td>TV Show</td>\n",
       "      <td>Blood &amp; Water</td>\n",
       "      <td>No Data</td>\n",
       "      <td>Ama Qamata, Khosi Ngema, Gail Mabalane, Thaban...</td>\n",
       "      <td>South Africa</td>\n",
       "      <td>September 24, 2021</td>\n",
       "      <td>2021</td>\n",
       "      <td>TV-MA</td>\n",
       "      <td>2 Seasons</td>\n",
       "      <td>International TV Shows, TV Dramas, TV Mysteries</td>\n",
       "      <td>After crossing paths at a party, a Cape Town t...</td>\n",
       "      <td>Netflix</td>\n",
       "    </tr>\n",
       "    <tr>\n",
       "      <th>4</th>\n",
       "      <td>s5</td>\n",
       "      <td>TV Show</td>\n",
       "      <td>Kota Factory</td>\n",
       "      <td>No Data</td>\n",
       "      <td>Mayur More, Jitendra Kumar, Ranjan Raj, Alam K...</td>\n",
       "      <td>India</td>\n",
       "      <td>September 24, 2021</td>\n",
       "      <td>2021</td>\n",
       "      <td>TV-MA</td>\n",
       "      <td>2 Seasons</td>\n",
       "      <td>International TV Shows, Romantic TV Shows, TV ...</td>\n",
       "      <td>In a city of coaching centers known to train I...</td>\n",
       "      <td>Netflix</td>\n",
       "    </tr>\n",
       "    <tr>\n",
       "      <th>7</th>\n",
       "      <td>s8</td>\n",
       "      <td>Movie</td>\n",
       "      <td>Sankofa</td>\n",
       "      <td>Haile Gerima</td>\n",
       "      <td>Kofi Ghanaba, Oyafunmike Ogunlano, Alexandra D...</td>\n",
       "      <td>United States, Ghana, Burkina Faso, United Kin...</td>\n",
       "      <td>September 24, 2021</td>\n",
       "      <td>1993</td>\n",
       "      <td>TV-MA</td>\n",
       "      <td>125 min</td>\n",
       "      <td>Dramas, Independent Movies, International Movies</td>\n",
       "      <td>On a photo shoot in Ghana, an American model s...</td>\n",
       "      <td>Netflix</td>\n",
       "    </tr>\n",
       "    <tr>\n",
       "      <th>8</th>\n",
       "      <td>s9</td>\n",
       "      <td>TV Show</td>\n",
       "      <td>The Great British Baking Show</td>\n",
       "      <td>Andy Devonshire</td>\n",
       "      <td>Mel Giedroyc, Sue Perkins, Mary Berry, Paul Ho...</td>\n",
       "      <td>United Kingdom</td>\n",
       "      <td>September 24, 2021</td>\n",
       "      <td>2021</td>\n",
       "      <td>TV-14</td>\n",
       "      <td>9 Seasons</td>\n",
       "      <td>British TV Shows, Reality TV</td>\n",
       "      <td>A talented batch of amateur bakers face off in...</td>\n",
       "      <td>Netflix</td>\n",
       "    </tr>\n",
       "    <tr>\n",
       "      <th>...</th>\n",
       "      <td>...</td>\n",
       "      <td>...</td>\n",
       "      <td>...</td>\n",
       "      <td>...</td>\n",
       "      <td>...</td>\n",
       "      <td>...</td>\n",
       "      <td>...</td>\n",
       "      <td>...</td>\n",
       "      <td>...</td>\n",
       "      <td>...</td>\n",
       "      <td>...</td>\n",
       "      <td>...</td>\n",
       "      <td>...</td>\n",
       "    </tr>\n",
       "    <tr>\n",
       "      <th>8801</th>\n",
       "      <td>s8802</td>\n",
       "      <td>Movie</td>\n",
       "      <td>Zinzana</td>\n",
       "      <td>Majid Al Ansari</td>\n",
       "      <td>Ali Suliman, Saleh Bakri, Yasa, Ali Al-Jabri, ...</td>\n",
       "      <td>United Arab Emirates, Jordan</td>\n",
       "      <td>March 9, 2016</td>\n",
       "      <td>2015</td>\n",
       "      <td>TV-MA</td>\n",
       "      <td>96 min</td>\n",
       "      <td>Dramas, International Movies, Thrillers</td>\n",
       "      <td>Recovering alcoholic Talal wakes up inside a s...</td>\n",
       "      <td>Netflix</td>\n",
       "    </tr>\n",
       "    <tr>\n",
       "      <th>8802</th>\n",
       "      <td>s8803</td>\n",
       "      <td>Movie</td>\n",
       "      <td>Zodiac</td>\n",
       "      <td>David Fincher</td>\n",
       "      <td>Mark Ruffalo, Jake Gyllenhaal, Robert Downey J...</td>\n",
       "      <td>United States</td>\n",
       "      <td>November 20, 2019</td>\n",
       "      <td>2007</td>\n",
       "      <td>R</td>\n",
       "      <td>158 min</td>\n",
       "      <td>Cult Movies, Dramas, Thrillers</td>\n",
       "      <td>A political cartoonist, a crime reporter and a...</td>\n",
       "      <td>Netflix</td>\n",
       "    </tr>\n",
       "    <tr>\n",
       "      <th>8804</th>\n",
       "      <td>s8805</td>\n",
       "      <td>Movie</td>\n",
       "      <td>Zombieland</td>\n",
       "      <td>Ruben Fleischer</td>\n",
       "      <td>Jesse Eisenberg, Woody Harrelson, Emma Stone, ...</td>\n",
       "      <td>United States</td>\n",
       "      <td>November 1, 2019</td>\n",
       "      <td>2009</td>\n",
       "      <td>R</td>\n",
       "      <td>88 min</td>\n",
       "      <td>Comedies, Horror Movies</td>\n",
       "      <td>Looking to survive in a world taken over by zo...</td>\n",
       "      <td>Netflix</td>\n",
       "    </tr>\n",
       "    <tr>\n",
       "      <th>8805</th>\n",
       "      <td>s8806</td>\n",
       "      <td>Movie</td>\n",
       "      <td>Zoom</td>\n",
       "      <td>Peter Hewitt</td>\n",
       "      <td>Tim Allen, Courteney Cox, Chevy Chase, Kate Ma...</td>\n",
       "      <td>United States</td>\n",
       "      <td>January 11, 2020</td>\n",
       "      <td>2006</td>\n",
       "      <td>PG</td>\n",
       "      <td>88 min</td>\n",
       "      <td>Children &amp; Family Movies, Comedies</td>\n",
       "      <td>Dragged from civilian life, a former superhero...</td>\n",
       "      <td>Netflix</td>\n",
       "    </tr>\n",
       "    <tr>\n",
       "      <th>8806</th>\n",
       "      <td>s8807</td>\n",
       "      <td>Movie</td>\n",
       "      <td>Zubaan</td>\n",
       "      <td>Mozez Singh</td>\n",
       "      <td>Vicky Kaushal, Sarah-Jane Dias, Raaghav Chanan...</td>\n",
       "      <td>India</td>\n",
       "      <td>March 2, 2019</td>\n",
       "      <td>2015</td>\n",
       "      <td>TV-14</td>\n",
       "      <td>111 min</td>\n",
       "      <td>Dramas, International Movies, Music &amp; Musicals</td>\n",
       "      <td>A scrappy but poor boy worms his way into a ty...</td>\n",
       "      <td>Netflix</td>\n",
       "    </tr>\n",
       "  </tbody>\n",
       "</table>\n",
       "<p>7961 rows × 13 columns</p>\n",
       "</div>"
      ],
      "text/plain": [
       "     show_id     type                          title         director  \\\n",
       "0         s1    Movie           Dick Johnson Is Dead  Kirsten Johnson   \n",
       "1         s2  TV Show                  Blood & Water          No Data   \n",
       "4         s5  TV Show                   Kota Factory          No Data   \n",
       "7         s8    Movie                        Sankofa     Haile Gerima   \n",
       "8         s9  TV Show  The Great British Baking Show  Andy Devonshire   \n",
       "...      ...      ...                            ...              ...   \n",
       "8801   s8802    Movie                        Zinzana  Majid Al Ansari   \n",
       "8802   s8803    Movie                         Zodiac    David Fincher   \n",
       "8804   s8805    Movie                     Zombieland  Ruben Fleischer   \n",
       "8805   s8806    Movie                           Zoom     Peter Hewitt   \n",
       "8806   s8807    Movie                         Zubaan      Mozez Singh   \n",
       "\n",
       "                                                   cast  \\\n",
       "0                                               No Data   \n",
       "1     Ama Qamata, Khosi Ngema, Gail Mabalane, Thaban...   \n",
       "4     Mayur More, Jitendra Kumar, Ranjan Raj, Alam K...   \n",
       "7     Kofi Ghanaba, Oyafunmike Ogunlano, Alexandra D...   \n",
       "8     Mel Giedroyc, Sue Perkins, Mary Berry, Paul Ho...   \n",
       "...                                                 ...   \n",
       "8801  Ali Suliman, Saleh Bakri, Yasa, Ali Al-Jabri, ...   \n",
       "8802  Mark Ruffalo, Jake Gyllenhaal, Robert Downey J...   \n",
       "8804  Jesse Eisenberg, Woody Harrelson, Emma Stone, ...   \n",
       "8805  Tim Allen, Courteney Cox, Chevy Chase, Kate Ma...   \n",
       "8806  Vicky Kaushal, Sarah-Jane Dias, Raaghav Chanan...   \n",
       "\n",
       "                                                country          date_added  \\\n",
       "0                                         United States  September 25, 2021   \n",
       "1                                          South Africa  September 24, 2021   \n",
       "4                                                 India  September 24, 2021   \n",
       "7     United States, Ghana, Burkina Faso, United Kin...  September 24, 2021   \n",
       "8                                        United Kingdom  September 24, 2021   \n",
       "...                                                 ...                 ...   \n",
       "8801                       United Arab Emirates, Jordan       March 9, 2016   \n",
       "8802                                      United States   November 20, 2019   \n",
       "8804                                      United States    November 1, 2019   \n",
       "8805                                      United States    January 11, 2020   \n",
       "8806                                              India       March 2, 2019   \n",
       "\n",
       "      release_year rating   duration  \\\n",
       "0             2020  PG-13     90 min   \n",
       "1             2021  TV-MA  2 Seasons   \n",
       "4             2021  TV-MA  2 Seasons   \n",
       "7             1993  TV-MA    125 min   \n",
       "8             2021  TV-14  9 Seasons   \n",
       "...            ...    ...        ...   \n",
       "8801          2015  TV-MA     96 min   \n",
       "8802          2007      R    158 min   \n",
       "8804          2009      R     88 min   \n",
       "8805          2006     PG     88 min   \n",
       "8806          2015  TV-14    111 min   \n",
       "\n",
       "                                              listed_in  \\\n",
       "0                                         Documentaries   \n",
       "1       International TV Shows, TV Dramas, TV Mysteries   \n",
       "4     International TV Shows, Romantic TV Shows, TV ...   \n",
       "7      Dramas, Independent Movies, International Movies   \n",
       "8                          British TV Shows, Reality TV   \n",
       "...                                                 ...   \n",
       "8801            Dramas, International Movies, Thrillers   \n",
       "8802                     Cult Movies, Dramas, Thrillers   \n",
       "8804                            Comedies, Horror Movies   \n",
       "8805                 Children & Family Movies, Comedies   \n",
       "8806     Dramas, International Movies, Music & Musicals   \n",
       "\n",
       "                                            description plataforma  \n",
       "0     As her father nears the end of his life, filmm...    Netflix  \n",
       "1     After crossing paths at a party, a Cape Town t...    Netflix  \n",
       "4     In a city of coaching centers known to train I...    Netflix  \n",
       "7     On a photo shoot in Ghana, an American model s...    Netflix  \n",
       "8     A talented batch of amateur bakers face off in...    Netflix  \n",
       "...                                                 ...        ...  \n",
       "8801  Recovering alcoholic Talal wakes up inside a s...    Netflix  \n",
       "8802  A political cartoonist, a crime reporter and a...    Netflix  \n",
       "8804  Looking to survive in a world taken over by zo...    Netflix  \n",
       "8805  Dragged from civilian life, a former superhero...    Netflix  \n",
       "8806  A scrappy but poor boy worms his way into a ty...    Netflix  \n",
       "\n",
       "[7961 rows x 13 columns]"
      ]
     },
     "execution_count": 1133,
     "metadata": {},
     "output_type": "execute_result"
    }
   ],
   "source": [
    "# Substituindo valores no dataset - Netflix\n",
    "#df_netflix['country'] = df_netflix['country'].fillna(df_netflix['country'].mode()[0])\n",
    "\n",
    "df_netflix['cast'].replace(np.nan, 'No Data',inplace  = True)\n",
    "df_netflix['director'].replace(np.nan, 'No Data',inplace  = True)\n",
    "\n",
    "# Drops\n",
    "df_netflix.dropna(inplace=True)\n",
    "\n",
    "# Drop Duplicates\n",
    "df_netflix = df_netflix.drop_duplicates([\"title\"])\n",
    "df_netflix\n"
   ]
  },
  {
   "cell_type": "code",
   "execution_count": 1134,
   "metadata": {},
   "outputs": [
    {
     "data": {
      "text/html": [
       "<div>\n",
       "<style scoped>\n",
       "    .dataframe tbody tr th:only-of-type {\n",
       "        vertical-align: middle;\n",
       "    }\n",
       "\n",
       "    .dataframe tbody tr th {\n",
       "        vertical-align: top;\n",
       "    }\n",
       "\n",
       "    .dataframe thead th {\n",
       "        text-align: right;\n",
       "    }\n",
       "</style>\n",
       "<table border=\"1\" class=\"dataframe\">\n",
       "  <thead>\n",
       "    <tr style=\"text-align: right;\">\n",
       "      <th></th>\n",
       "      <th>type</th>\n",
       "      <th>missing</th>\n",
       "      <th>size</th>\n",
       "      <th>unique</th>\n",
       "      <th>percentual_missing</th>\n",
       "    </tr>\n",
       "  </thead>\n",
       "  <tbody>\n",
       "    <tr>\n",
       "      <th>show_id</th>\n",
       "      <td>object</td>\n",
       "      <td>0</td>\n",
       "      <td>7961</td>\n",
       "      <td>7961</td>\n",
       "      <td>0.0</td>\n",
       "    </tr>\n",
       "    <tr>\n",
       "      <th>type</th>\n",
       "      <td>object</td>\n",
       "      <td>0</td>\n",
       "      <td>7961</td>\n",
       "      <td>2</td>\n",
       "      <td>0.0</td>\n",
       "    </tr>\n",
       "    <tr>\n",
       "      <th>title</th>\n",
       "      <td>object</td>\n",
       "      <td>0</td>\n",
       "      <td>7961</td>\n",
       "      <td>7961</td>\n",
       "      <td>0.0</td>\n",
       "    </tr>\n",
       "    <tr>\n",
       "      <th>director</th>\n",
       "      <td>object</td>\n",
       "      <td>0</td>\n",
       "      <td>7961</td>\n",
       "      <td>4286</td>\n",
       "      <td>0.0</td>\n",
       "    </tr>\n",
       "    <tr>\n",
       "      <th>cast</th>\n",
       "      <td>object</td>\n",
       "      <td>0</td>\n",
       "      <td>7961</td>\n",
       "      <td>7093</td>\n",
       "      <td>0.0</td>\n",
       "    </tr>\n",
       "    <tr>\n",
       "      <th>country</th>\n",
       "      <td>object</td>\n",
       "      <td>0</td>\n",
       "      <td>7961</td>\n",
       "      <td>748</td>\n",
       "      <td>0.0</td>\n",
       "    </tr>\n",
       "    <tr>\n",
       "      <th>date_added</th>\n",
       "      <td>object</td>\n",
       "      <td>0</td>\n",
       "      <td>7961</td>\n",
       "      <td>1733</td>\n",
       "      <td>0.0</td>\n",
       "    </tr>\n",
       "    <tr>\n",
       "      <th>release_year</th>\n",
       "      <td>int64</td>\n",
       "      <td>0</td>\n",
       "      <td>7961</td>\n",
       "      <td>73</td>\n",
       "      <td>0.0</td>\n",
       "    </tr>\n",
       "    <tr>\n",
       "      <th>rating</th>\n",
       "      <td>object</td>\n",
       "      <td>0</td>\n",
       "      <td>7961</td>\n",
       "      <td>14</td>\n",
       "      <td>0.0</td>\n",
       "    </tr>\n",
       "    <tr>\n",
       "      <th>duration</th>\n",
       "      <td>object</td>\n",
       "      <td>0</td>\n",
       "      <td>7961</td>\n",
       "      <td>212</td>\n",
       "      <td>0.0</td>\n",
       "    </tr>\n",
       "    <tr>\n",
       "      <th>listed_in</th>\n",
       "      <td>object</td>\n",
       "      <td>0</td>\n",
       "      <td>7961</td>\n",
       "      <td>497</td>\n",
       "      <td>0.0</td>\n",
       "    </tr>\n",
       "    <tr>\n",
       "      <th>description</th>\n",
       "      <td>object</td>\n",
       "      <td>0</td>\n",
       "      <td>7961</td>\n",
       "      <td>7946</td>\n",
       "      <td>0.0</td>\n",
       "    </tr>\n",
       "    <tr>\n",
       "      <th>plataforma</th>\n",
       "      <td>object</td>\n",
       "      <td>0</td>\n",
       "      <td>7961</td>\n",
       "      <td>1</td>\n",
       "      <td>0.0</td>\n",
       "    </tr>\n",
       "  </tbody>\n",
       "</table>\n",
       "</div>"
      ],
      "text/plain": [
       "                type  missing  size  unique  percentual_missing\n",
       "show_id       object        0  7961    7961                 0.0\n",
       "type          object        0  7961       2                 0.0\n",
       "title         object        0  7961    7961                 0.0\n",
       "director      object        0  7961    4286                 0.0\n",
       "cast          object        0  7961    7093                 0.0\n",
       "country       object        0  7961     748                 0.0\n",
       "date_added    object        0  7961    1733                 0.0\n",
       "release_year   int64        0  7961      73                 0.0\n",
       "rating        object        0  7961      14                 0.0\n",
       "duration      object        0  7961     212                 0.0\n",
       "listed_in     object        0  7961     497                 0.0\n",
       "description   object        0  7961    7946                 0.0\n",
       "plataforma    object        0  7961       1                 0.0"
      ]
     },
     "execution_count": 1134,
     "metadata": {},
     "output_type": "execute_result"
    }
   ],
   "source": [
    "# Verificação do dataset Netflix\n",
    "check_df = pd.DataFrame({\n",
    "                    'type': df_netflix.dtypes,\n",
    "                    'missing': df_netflix.isna().sum(),\n",
    "                    'size': df_netflix.shape[0],\n",
    "                    'unique': df_netflix.nunique()})\n",
    "check_df['percentual_missing'] = round(check_df['missing'] / check_df['size'], 2)\n",
    "check_df"
   ]
  },
  {
   "cell_type": "code",
   "execution_count": 1135,
   "metadata": {},
   "outputs": [
    {
     "data": {
      "text/plain": [
       "Movie      71.44\n",
       "TV Show    28.56\n",
       "Name: type, dtype: float64"
      ]
     },
     "execution_count": 1135,
     "metadata": {},
     "output_type": "execute_result"
    }
   ],
   "source": [
    "# Porcentagem no dataset Netflix\n",
    "percent = df_netflix[\"type\"].value_counts(normalize=True)*100\n",
    "percent.round(2)"
   ]
  },
  {
   "cell_type": "code",
   "execution_count": 1136,
   "metadata": {},
   "outputs": [
    {
     "data": {
      "text/html": [
       "<div>\n",
       "<style scoped>\n",
       "    .dataframe tbody tr th:only-of-type {\n",
       "        vertical-align: middle;\n",
       "    }\n",
       "\n",
       "    .dataframe tbody tr th {\n",
       "        vertical-align: top;\n",
       "    }\n",
       "\n",
       "    .dataframe thead th {\n",
       "        text-align: right;\n",
       "    }\n",
       "</style>\n",
       "<table border=\"1\" class=\"dataframe\">\n",
       "  <thead>\n",
       "    <tr style=\"text-align: right;\">\n",
       "      <th></th>\n",
       "      <th>show_id</th>\n",
       "      <th>type</th>\n",
       "      <th>title</th>\n",
       "      <th>director</th>\n",
       "      <th>cast</th>\n",
       "      <th>country</th>\n",
       "      <th>date_added</th>\n",
       "      <th>release_year</th>\n",
       "      <th>rating</th>\n",
       "      <th>duration</th>\n",
       "      <th>listed_in</th>\n",
       "      <th>description</th>\n",
       "      <th>plataforma</th>\n",
       "    </tr>\n",
       "  </thead>\n",
       "  <tbody>\n",
       "    <tr>\n",
       "      <th>0</th>\n",
       "      <td>s1</td>\n",
       "      <td>Movie</td>\n",
       "      <td>The Grand Seduction</td>\n",
       "      <td>Don McKellar</td>\n",
       "      <td>Brendan Gleeson, Taylor Kitsch, Gordon Pinsent</td>\n",
       "      <td>Canada</td>\n",
       "      <td>March 30, 2021</td>\n",
       "      <td>2014</td>\n",
       "      <td>NaN</td>\n",
       "      <td>113 min</td>\n",
       "      <td>Comedy, Drama</td>\n",
       "      <td>A small fishing village must procure a local d...</td>\n",
       "      <td>Amazon Prime</td>\n",
       "    </tr>\n",
       "    <tr>\n",
       "      <th>1</th>\n",
       "      <td>s2</td>\n",
       "      <td>Movie</td>\n",
       "      <td>Take Care Good Night</td>\n",
       "      <td>Girish Joshi</td>\n",
       "      <td>Mahesh Manjrekar, Abhay Mahajan, Sachin Khedekar</td>\n",
       "      <td>India</td>\n",
       "      <td>March 30, 2021</td>\n",
       "      <td>2018</td>\n",
       "      <td>13+</td>\n",
       "      <td>110 min</td>\n",
       "      <td>Drama, International</td>\n",
       "      <td>A Metro Family decides to fight a Cyber Crimin...</td>\n",
       "      <td>Amazon Prime</td>\n",
       "    </tr>\n",
       "    <tr>\n",
       "      <th>2</th>\n",
       "      <td>s3</td>\n",
       "      <td>Movie</td>\n",
       "      <td>Secrets of Deception</td>\n",
       "      <td>Josh Webber</td>\n",
       "      <td>Tom Sizemore, Lorenzo Lamas, Robert LaSardo, R...</td>\n",
       "      <td>United States</td>\n",
       "      <td>March 30, 2021</td>\n",
       "      <td>2017</td>\n",
       "      <td>NaN</td>\n",
       "      <td>74 min</td>\n",
       "      <td>Action, Drama, Suspense</td>\n",
       "      <td>After a man discovers his wife is cheating on ...</td>\n",
       "      <td>Amazon Prime</td>\n",
       "    </tr>\n",
       "    <tr>\n",
       "      <th>3</th>\n",
       "      <td>s4</td>\n",
       "      <td>Movie</td>\n",
       "      <td>Pink: Staying True</td>\n",
       "      <td>Sonia Anderson</td>\n",
       "      <td>Interviews with: Pink, Adele, Beyoncé, Britney...</td>\n",
       "      <td>United States</td>\n",
       "      <td>March 30, 2021</td>\n",
       "      <td>2014</td>\n",
       "      <td>NaN</td>\n",
       "      <td>69 min</td>\n",
       "      <td>Documentary</td>\n",
       "      <td>Pink breaks the mold once again, bringing her ...</td>\n",
       "      <td>Amazon Prime</td>\n",
       "    </tr>\n",
       "    <tr>\n",
       "      <th>4</th>\n",
       "      <td>s5</td>\n",
       "      <td>Movie</td>\n",
       "      <td>Monster Maker</td>\n",
       "      <td>Giles Foster</td>\n",
       "      <td>Harry Dean Stanton, Kieran O'Brien, George Cos...</td>\n",
       "      <td>United Kingdom</td>\n",
       "      <td>March 30, 2021</td>\n",
       "      <td>1989</td>\n",
       "      <td>NaN</td>\n",
       "      <td>45 min</td>\n",
       "      <td>Drama, Fantasy</td>\n",
       "      <td>Teenage Matt Banting wants to work with a famo...</td>\n",
       "      <td>Amazon Prime</td>\n",
       "    </tr>\n",
       "    <tr>\n",
       "      <th>...</th>\n",
       "      <td>...</td>\n",
       "      <td>...</td>\n",
       "      <td>...</td>\n",
       "      <td>...</td>\n",
       "      <td>...</td>\n",
       "      <td>...</td>\n",
       "      <td>...</td>\n",
       "      <td>...</td>\n",
       "      <td>...</td>\n",
       "      <td>...</td>\n",
       "      <td>...</td>\n",
       "      <td>...</td>\n",
       "      <td>...</td>\n",
       "    </tr>\n",
       "    <tr>\n",
       "      <th>9663</th>\n",
       "      <td>s9664</td>\n",
       "      <td>Movie</td>\n",
       "      <td>Pride Of The Bowery</td>\n",
       "      <td>Joseph H. Lewis</td>\n",
       "      <td>Leo Gorcey, Bobby Jordan</td>\n",
       "      <td>NaN</td>\n",
       "      <td>NaN</td>\n",
       "      <td>1940</td>\n",
       "      <td>7+</td>\n",
       "      <td>60 min</td>\n",
       "      <td>Comedy</td>\n",
       "      <td>New York City street principles get an East Si...</td>\n",
       "      <td>Amazon Prime</td>\n",
       "    </tr>\n",
       "    <tr>\n",
       "      <th>9664</th>\n",
       "      <td>s9665</td>\n",
       "      <td>TV Show</td>\n",
       "      <td>Planet Patrol</td>\n",
       "      <td>NaN</td>\n",
       "      <td>DICK VOSBURGH, RONNIE STEVENS, LIBBY MORRIS, M...</td>\n",
       "      <td>NaN</td>\n",
       "      <td>NaN</td>\n",
       "      <td>2018</td>\n",
       "      <td>13+</td>\n",
       "      <td>4 Seasons</td>\n",
       "      <td>TV Shows</td>\n",
       "      <td>This is Earth, 2100AD - and these are the adve...</td>\n",
       "      <td>Amazon Prime</td>\n",
       "    </tr>\n",
       "    <tr>\n",
       "      <th>9665</th>\n",
       "      <td>s9666</td>\n",
       "      <td>Movie</td>\n",
       "      <td>Outpost</td>\n",
       "      <td>Steve Barker</td>\n",
       "      <td>Ray Stevenson, Julian Wadham, Richard Brake, M...</td>\n",
       "      <td>NaN</td>\n",
       "      <td>NaN</td>\n",
       "      <td>2008</td>\n",
       "      <td>R</td>\n",
       "      <td>90 min</td>\n",
       "      <td>Action</td>\n",
       "      <td>In war-torn Eastern Europe, a world-weary grou...</td>\n",
       "      <td>Amazon Prime</td>\n",
       "    </tr>\n",
       "    <tr>\n",
       "      <th>9666</th>\n",
       "      <td>s9667</td>\n",
       "      <td>TV Show</td>\n",
       "      <td>Maradona: Blessed Dream</td>\n",
       "      <td>NaN</td>\n",
       "      <td>Esteban Recagno, Ezequiel Stremiz, Luciano Vit...</td>\n",
       "      <td>NaN</td>\n",
       "      <td>NaN</td>\n",
       "      <td>2021</td>\n",
       "      <td>TV-MA</td>\n",
       "      <td>1 Season</td>\n",
       "      <td>Drama, Sports</td>\n",
       "      <td>The series tells the story of Diego Maradona, ...</td>\n",
       "      <td>Amazon Prime</td>\n",
       "    </tr>\n",
       "    <tr>\n",
       "      <th>9667</th>\n",
       "      <td>s9668</td>\n",
       "      <td>Movie</td>\n",
       "      <td>Harry Brown</td>\n",
       "      <td>Daniel Barber</td>\n",
       "      <td>Michael Caine, Emily Mortimer, Joseph Gilgun, ...</td>\n",
       "      <td>NaN</td>\n",
       "      <td>NaN</td>\n",
       "      <td>2010</td>\n",
       "      <td>R</td>\n",
       "      <td>103 min</td>\n",
       "      <td>Action, Drama, Suspense</td>\n",
       "      <td>Harry Brown, starring two-time Academy Award w...</td>\n",
       "      <td>Amazon Prime</td>\n",
       "    </tr>\n",
       "  </tbody>\n",
       "</table>\n",
       "<p>9668 rows × 13 columns</p>\n",
       "</div>"
      ],
      "text/plain": [
       "     show_id     type                    title         director  \\\n",
       "0         s1    Movie      The Grand Seduction     Don McKellar   \n",
       "1         s2    Movie     Take Care Good Night     Girish Joshi   \n",
       "2         s3    Movie     Secrets of Deception      Josh Webber   \n",
       "3         s4    Movie       Pink: Staying True   Sonia Anderson   \n",
       "4         s5    Movie            Monster Maker     Giles Foster   \n",
       "...      ...      ...                      ...              ...   \n",
       "9663   s9664    Movie      Pride Of The Bowery  Joseph H. Lewis   \n",
       "9664   s9665  TV Show            Planet Patrol              NaN   \n",
       "9665   s9666    Movie                  Outpost     Steve Barker   \n",
       "9666   s9667  TV Show  Maradona: Blessed Dream              NaN   \n",
       "9667   s9668    Movie              Harry Brown    Daniel Barber   \n",
       "\n",
       "                                                   cast         country  \\\n",
       "0        Brendan Gleeson, Taylor Kitsch, Gordon Pinsent          Canada   \n",
       "1      Mahesh Manjrekar, Abhay Mahajan, Sachin Khedekar           India   \n",
       "2     Tom Sizemore, Lorenzo Lamas, Robert LaSardo, R...   United States   \n",
       "3     Interviews with: Pink, Adele, Beyoncé, Britney...   United States   \n",
       "4     Harry Dean Stanton, Kieran O'Brien, George Cos...  United Kingdom   \n",
       "...                                                 ...             ...   \n",
       "9663                           Leo Gorcey, Bobby Jordan             NaN   \n",
       "9664  DICK VOSBURGH, RONNIE STEVENS, LIBBY MORRIS, M...             NaN   \n",
       "9665  Ray Stevenson, Julian Wadham, Richard Brake, M...             NaN   \n",
       "9666  Esteban Recagno, Ezequiel Stremiz, Luciano Vit...             NaN   \n",
       "9667  Michael Caine, Emily Mortimer, Joseph Gilgun, ...             NaN   \n",
       "\n",
       "          date_added  release_year rating   duration                listed_in  \\\n",
       "0     March 30, 2021          2014    NaN    113 min            Comedy, Drama   \n",
       "1     March 30, 2021          2018    13+    110 min     Drama, International   \n",
       "2     March 30, 2021          2017    NaN     74 min  Action, Drama, Suspense   \n",
       "3     March 30, 2021          2014    NaN     69 min              Documentary   \n",
       "4     March 30, 2021          1989    NaN     45 min           Drama, Fantasy   \n",
       "...              ...           ...    ...        ...                      ...   \n",
       "9663             NaN          1940     7+     60 min                   Comedy   \n",
       "9664             NaN          2018    13+  4 Seasons                 TV Shows   \n",
       "9665             NaN          2008      R     90 min                   Action   \n",
       "9666             NaN          2021  TV-MA   1 Season            Drama, Sports   \n",
       "9667             NaN          2010      R    103 min  Action, Drama, Suspense   \n",
       "\n",
       "                                            description    plataforma  \n",
       "0     A small fishing village must procure a local d...  Amazon Prime  \n",
       "1     A Metro Family decides to fight a Cyber Crimin...  Amazon Prime  \n",
       "2     After a man discovers his wife is cheating on ...  Amazon Prime  \n",
       "3     Pink breaks the mold once again, bringing her ...  Amazon Prime  \n",
       "4     Teenage Matt Banting wants to work with a famo...  Amazon Prime  \n",
       "...                                                 ...           ...  \n",
       "9663  New York City street principles get an East Si...  Amazon Prime  \n",
       "9664  This is Earth, 2100AD - and these are the adve...  Amazon Prime  \n",
       "9665  In war-torn Eastern Europe, a world-weary grou...  Amazon Prime  \n",
       "9666  The series tells the story of Diego Maradona, ...  Amazon Prime  \n",
       "9667  Harry Brown, starring two-time Academy Award w...  Amazon Prime  \n",
       "\n",
       "[9668 rows x 13 columns]"
      ]
     },
     "execution_count": 1136,
     "metadata": {},
     "output_type": "execute_result"
    }
   ],
   "source": [
    "# Base de Dados - Amazon Prime\n",
    "df_amazon = pd.read_csv('amazon_prime_titles.csv', sep=',')\n",
    "df_amazon['plataforma'] = 'Amazon Prime'\n",
    "df_amazon"
   ]
  },
  {
   "cell_type": "code",
   "execution_count": 1137,
   "metadata": {},
   "outputs": [
    {
     "data": {
      "text/html": [
       "<div>\n",
       "<style scoped>\n",
       "    .dataframe tbody tr th:only-of-type {\n",
       "        vertical-align: middle;\n",
       "    }\n",
       "\n",
       "    .dataframe tbody tr th {\n",
       "        vertical-align: top;\n",
       "    }\n",
       "\n",
       "    .dataframe thead th {\n",
       "        text-align: right;\n",
       "    }\n",
       "</style>\n",
       "<table border=\"1\" class=\"dataframe\">\n",
       "  <thead>\n",
       "    <tr style=\"text-align: right;\">\n",
       "      <th></th>\n",
       "      <th>show_id</th>\n",
       "      <th>type</th>\n",
       "      <th>title</th>\n",
       "      <th>director</th>\n",
       "      <th>cast</th>\n",
       "      <th>country</th>\n",
       "      <th>date_added</th>\n",
       "      <th>release_year</th>\n",
       "      <th>rating</th>\n",
       "      <th>duration</th>\n",
       "      <th>listed_in</th>\n",
       "      <th>description</th>\n",
       "      <th>plataforma</th>\n",
       "    </tr>\n",
       "  </thead>\n",
       "  <tbody>\n",
       "    <tr>\n",
       "      <th>0</th>\n",
       "      <td>s1</td>\n",
       "      <td>Movie</td>\n",
       "      <td>The Grand Seduction</td>\n",
       "      <td>Don McKellar</td>\n",
       "      <td>Brendan Gleeson, Taylor Kitsch, Gordon Pinsent</td>\n",
       "      <td>Canada</td>\n",
       "      <td>March 30, 2021</td>\n",
       "      <td>2014</td>\n",
       "      <td>NaN</td>\n",
       "      <td>113 min</td>\n",
       "      <td>Comedy, Drama</td>\n",
       "      <td>A small fishing village must procure a local d...</td>\n",
       "      <td>Amazon Prime</td>\n",
       "    </tr>\n",
       "    <tr>\n",
       "      <th>1</th>\n",
       "      <td>s2</td>\n",
       "      <td>Movie</td>\n",
       "      <td>Take Care Good Night</td>\n",
       "      <td>Girish Joshi</td>\n",
       "      <td>Mahesh Manjrekar, Abhay Mahajan, Sachin Khedekar</td>\n",
       "      <td>India</td>\n",
       "      <td>March 30, 2021</td>\n",
       "      <td>2018</td>\n",
       "      <td>13+</td>\n",
       "      <td>110 min</td>\n",
       "      <td>Drama, International</td>\n",
       "      <td>A Metro Family decides to fight a Cyber Crimin...</td>\n",
       "      <td>Amazon Prime</td>\n",
       "    </tr>\n",
       "    <tr>\n",
       "      <th>2</th>\n",
       "      <td>s3</td>\n",
       "      <td>Movie</td>\n",
       "      <td>Secrets of Deception</td>\n",
       "      <td>Josh Webber</td>\n",
       "      <td>Tom Sizemore, Lorenzo Lamas, Robert LaSardo, R...</td>\n",
       "      <td>United States</td>\n",
       "      <td>March 30, 2021</td>\n",
       "      <td>2017</td>\n",
       "      <td>NaN</td>\n",
       "      <td>74 min</td>\n",
       "      <td>Action, Drama, Suspense</td>\n",
       "      <td>After a man discovers his wife is cheating on ...</td>\n",
       "      <td>Amazon Prime</td>\n",
       "    </tr>\n",
       "    <tr>\n",
       "      <th>3</th>\n",
       "      <td>s4</td>\n",
       "      <td>Movie</td>\n",
       "      <td>Pink: Staying True</td>\n",
       "      <td>Sonia Anderson</td>\n",
       "      <td>Interviews with: Pink, Adele, Beyoncé, Britney...</td>\n",
       "      <td>United States</td>\n",
       "      <td>March 30, 2021</td>\n",
       "      <td>2014</td>\n",
       "      <td>NaN</td>\n",
       "      <td>69 min</td>\n",
       "      <td>Documentary</td>\n",
       "      <td>Pink breaks the mold once again, bringing her ...</td>\n",
       "      <td>Amazon Prime</td>\n",
       "    </tr>\n",
       "    <tr>\n",
       "      <th>4</th>\n",
       "      <td>s5</td>\n",
       "      <td>Movie</td>\n",
       "      <td>Monster Maker</td>\n",
       "      <td>Giles Foster</td>\n",
       "      <td>Harry Dean Stanton, Kieran O'Brien, George Cos...</td>\n",
       "      <td>United Kingdom</td>\n",
       "      <td>March 30, 2021</td>\n",
       "      <td>1989</td>\n",
       "      <td>NaN</td>\n",
       "      <td>45 min</td>\n",
       "      <td>Drama, Fantasy</td>\n",
       "      <td>Teenage Matt Banting wants to work with a famo...</td>\n",
       "      <td>Amazon Prime</td>\n",
       "    </tr>\n",
       "    <tr>\n",
       "      <th>...</th>\n",
       "      <td>...</td>\n",
       "      <td>...</td>\n",
       "      <td>...</td>\n",
       "      <td>...</td>\n",
       "      <td>...</td>\n",
       "      <td>...</td>\n",
       "      <td>...</td>\n",
       "      <td>...</td>\n",
       "      <td>...</td>\n",
       "      <td>...</td>\n",
       "      <td>...</td>\n",
       "      <td>...</td>\n",
       "      <td>...</td>\n",
       "    </tr>\n",
       "    <tr>\n",
       "      <th>9663</th>\n",
       "      <td>s9664</td>\n",
       "      <td>Movie</td>\n",
       "      <td>Pride Of The Bowery</td>\n",
       "      <td>Joseph H. Lewis</td>\n",
       "      <td>Leo Gorcey, Bobby Jordan</td>\n",
       "      <td>No Data</td>\n",
       "      <td>NaN</td>\n",
       "      <td>1940</td>\n",
       "      <td>7+</td>\n",
       "      <td>60 min</td>\n",
       "      <td>Comedy</td>\n",
       "      <td>New York City street principles get an East Si...</td>\n",
       "      <td>Amazon Prime</td>\n",
       "    </tr>\n",
       "    <tr>\n",
       "      <th>9664</th>\n",
       "      <td>s9665</td>\n",
       "      <td>TV Show</td>\n",
       "      <td>Planet Patrol</td>\n",
       "      <td>No Data</td>\n",
       "      <td>DICK VOSBURGH, RONNIE STEVENS, LIBBY MORRIS, M...</td>\n",
       "      <td>No Data</td>\n",
       "      <td>NaN</td>\n",
       "      <td>2018</td>\n",
       "      <td>13+</td>\n",
       "      <td>4 Seasons</td>\n",
       "      <td>TV Shows</td>\n",
       "      <td>This is Earth, 2100AD - and these are the adve...</td>\n",
       "      <td>Amazon Prime</td>\n",
       "    </tr>\n",
       "    <tr>\n",
       "      <th>9665</th>\n",
       "      <td>s9666</td>\n",
       "      <td>Movie</td>\n",
       "      <td>Outpost</td>\n",
       "      <td>Steve Barker</td>\n",
       "      <td>Ray Stevenson, Julian Wadham, Richard Brake, M...</td>\n",
       "      <td>No Data</td>\n",
       "      <td>NaN</td>\n",
       "      <td>2008</td>\n",
       "      <td>R</td>\n",
       "      <td>90 min</td>\n",
       "      <td>Action</td>\n",
       "      <td>In war-torn Eastern Europe, a world-weary grou...</td>\n",
       "      <td>Amazon Prime</td>\n",
       "    </tr>\n",
       "    <tr>\n",
       "      <th>9666</th>\n",
       "      <td>s9667</td>\n",
       "      <td>TV Show</td>\n",
       "      <td>Maradona: Blessed Dream</td>\n",
       "      <td>No Data</td>\n",
       "      <td>Esteban Recagno, Ezequiel Stremiz, Luciano Vit...</td>\n",
       "      <td>No Data</td>\n",
       "      <td>NaN</td>\n",
       "      <td>2021</td>\n",
       "      <td>TV-MA</td>\n",
       "      <td>1 Season</td>\n",
       "      <td>Drama, Sports</td>\n",
       "      <td>The series tells the story of Diego Maradona, ...</td>\n",
       "      <td>Amazon Prime</td>\n",
       "    </tr>\n",
       "    <tr>\n",
       "      <th>9667</th>\n",
       "      <td>s9668</td>\n",
       "      <td>Movie</td>\n",
       "      <td>Harry Brown</td>\n",
       "      <td>Daniel Barber</td>\n",
       "      <td>Michael Caine, Emily Mortimer, Joseph Gilgun, ...</td>\n",
       "      <td>No Data</td>\n",
       "      <td>NaN</td>\n",
       "      <td>2010</td>\n",
       "      <td>R</td>\n",
       "      <td>103 min</td>\n",
       "      <td>Action, Drama, Suspense</td>\n",
       "      <td>Harry Brown, starring two-time Academy Award w...</td>\n",
       "      <td>Amazon Prime</td>\n",
       "    </tr>\n",
       "  </tbody>\n",
       "</table>\n",
       "<p>9668 rows × 13 columns</p>\n",
       "</div>"
      ],
      "text/plain": [
       "     show_id     type                    title         director  \\\n",
       "0         s1    Movie      The Grand Seduction     Don McKellar   \n",
       "1         s2    Movie     Take Care Good Night     Girish Joshi   \n",
       "2         s3    Movie     Secrets of Deception      Josh Webber   \n",
       "3         s4    Movie       Pink: Staying True   Sonia Anderson   \n",
       "4         s5    Movie            Monster Maker     Giles Foster   \n",
       "...      ...      ...                      ...              ...   \n",
       "9663   s9664    Movie      Pride Of The Bowery  Joseph H. Lewis   \n",
       "9664   s9665  TV Show            Planet Patrol          No Data   \n",
       "9665   s9666    Movie                  Outpost     Steve Barker   \n",
       "9666   s9667  TV Show  Maradona: Blessed Dream          No Data   \n",
       "9667   s9668    Movie              Harry Brown    Daniel Barber   \n",
       "\n",
       "                                                   cast         country  \\\n",
       "0        Brendan Gleeson, Taylor Kitsch, Gordon Pinsent          Canada   \n",
       "1      Mahesh Manjrekar, Abhay Mahajan, Sachin Khedekar           India   \n",
       "2     Tom Sizemore, Lorenzo Lamas, Robert LaSardo, R...   United States   \n",
       "3     Interviews with: Pink, Adele, Beyoncé, Britney...   United States   \n",
       "4     Harry Dean Stanton, Kieran O'Brien, George Cos...  United Kingdom   \n",
       "...                                                 ...             ...   \n",
       "9663                           Leo Gorcey, Bobby Jordan         No Data   \n",
       "9664  DICK VOSBURGH, RONNIE STEVENS, LIBBY MORRIS, M...         No Data   \n",
       "9665  Ray Stevenson, Julian Wadham, Richard Brake, M...         No Data   \n",
       "9666  Esteban Recagno, Ezequiel Stremiz, Luciano Vit...         No Data   \n",
       "9667  Michael Caine, Emily Mortimer, Joseph Gilgun, ...         No Data   \n",
       "\n",
       "          date_added  release_year rating   duration                listed_in  \\\n",
       "0     March 30, 2021          2014    NaN    113 min            Comedy, Drama   \n",
       "1     March 30, 2021          2018    13+    110 min     Drama, International   \n",
       "2     March 30, 2021          2017    NaN     74 min  Action, Drama, Suspense   \n",
       "3     March 30, 2021          2014    NaN     69 min              Documentary   \n",
       "4     March 30, 2021          1989    NaN     45 min           Drama, Fantasy   \n",
       "...              ...           ...    ...        ...                      ...   \n",
       "9663             NaN          1940     7+     60 min                   Comedy   \n",
       "9664             NaN          2018    13+  4 Seasons                 TV Shows   \n",
       "9665             NaN          2008      R     90 min                   Action   \n",
       "9666             NaN          2021  TV-MA   1 Season            Drama, Sports   \n",
       "9667             NaN          2010      R    103 min  Action, Drama, Suspense   \n",
       "\n",
       "                                            description    plataforma  \n",
       "0     A small fishing village must procure a local d...  Amazon Prime  \n",
       "1     A Metro Family decides to fight a Cyber Crimin...  Amazon Prime  \n",
       "2     After a man discovers his wife is cheating on ...  Amazon Prime  \n",
       "3     Pink breaks the mold once again, bringing her ...  Amazon Prime  \n",
       "4     Teenage Matt Banting wants to work with a famo...  Amazon Prime  \n",
       "...                                                 ...           ...  \n",
       "9663  New York City street principles get an East Si...  Amazon Prime  \n",
       "9664  This is Earth, 2100AD - and these are the adve...  Amazon Prime  \n",
       "9665  In war-torn Eastern Europe, a world-weary grou...  Amazon Prime  \n",
       "9666  The series tells the story of Diego Maradona, ...  Amazon Prime  \n",
       "9667  Harry Brown, starring two-time Academy Award w...  Amazon Prime  \n",
       "\n",
       "[9668 rows x 13 columns]"
      ]
     },
     "execution_count": 1137,
     "metadata": {},
     "output_type": "execute_result"
    }
   ],
   "source": [
    "# Substituindo valores no dataset - Amazon\n",
    "df_amazon['country'].replace(np.nan, 'No Data',inplace  = True)\n",
    "df_amazon['cast'].replace(np.nan, 'No Data',inplace  = True)\n",
    "df_amazon['director'].replace(np.nan, 'No Data',inplace  = True)\n",
    "\n",
    "# Drop Duplicates\n",
    "df_amazon = df_amazon.drop_duplicates([\"title\"])\n",
    "df_amazon"
   ]
  },
  {
   "cell_type": "code",
   "execution_count": 1138,
   "metadata": {},
   "outputs": [
    {
     "data": {
      "text/html": [
       "<div>\n",
       "<style scoped>\n",
       "    .dataframe tbody tr th:only-of-type {\n",
       "        vertical-align: middle;\n",
       "    }\n",
       "\n",
       "    .dataframe tbody tr th {\n",
       "        vertical-align: top;\n",
       "    }\n",
       "\n",
       "    .dataframe thead th {\n",
       "        text-align: right;\n",
       "    }\n",
       "</style>\n",
       "<table border=\"1\" class=\"dataframe\">\n",
       "  <thead>\n",
       "    <tr style=\"text-align: right;\">\n",
       "      <th></th>\n",
       "      <th>type</th>\n",
       "      <th>missing</th>\n",
       "      <th>size</th>\n",
       "      <th>unique</th>\n",
       "      <th>percentual_missing</th>\n",
       "    </tr>\n",
       "  </thead>\n",
       "  <tbody>\n",
       "    <tr>\n",
       "      <th>show_id</th>\n",
       "      <td>object</td>\n",
       "      <td>0</td>\n",
       "      <td>9668</td>\n",
       "      <td>9668</td>\n",
       "      <td>0.00</td>\n",
       "    </tr>\n",
       "    <tr>\n",
       "      <th>type</th>\n",
       "      <td>object</td>\n",
       "      <td>0</td>\n",
       "      <td>9668</td>\n",
       "      <td>2</td>\n",
       "      <td>0.00</td>\n",
       "    </tr>\n",
       "    <tr>\n",
       "      <th>title</th>\n",
       "      <td>object</td>\n",
       "      <td>0</td>\n",
       "      <td>9668</td>\n",
       "      <td>9668</td>\n",
       "      <td>0.00</td>\n",
       "    </tr>\n",
       "    <tr>\n",
       "      <th>director</th>\n",
       "      <td>object</td>\n",
       "      <td>0</td>\n",
       "      <td>9668</td>\n",
       "      <td>5775</td>\n",
       "      <td>0.00</td>\n",
       "    </tr>\n",
       "    <tr>\n",
       "      <th>cast</th>\n",
       "      <td>object</td>\n",
       "      <td>0</td>\n",
       "      <td>9668</td>\n",
       "      <td>7928</td>\n",
       "      <td>0.00</td>\n",
       "    </tr>\n",
       "    <tr>\n",
       "      <th>country</th>\n",
       "      <td>object</td>\n",
       "      <td>0</td>\n",
       "      <td>9668</td>\n",
       "      <td>87</td>\n",
       "      <td>0.00</td>\n",
       "    </tr>\n",
       "    <tr>\n",
       "      <th>date_added</th>\n",
       "      <td>object</td>\n",
       "      <td>9513</td>\n",
       "      <td>9668</td>\n",
       "      <td>84</td>\n",
       "      <td>0.98</td>\n",
       "    </tr>\n",
       "    <tr>\n",
       "      <th>release_year</th>\n",
       "      <td>int64</td>\n",
       "      <td>0</td>\n",
       "      <td>9668</td>\n",
       "      <td>100</td>\n",
       "      <td>0.00</td>\n",
       "    </tr>\n",
       "    <tr>\n",
       "      <th>rating</th>\n",
       "      <td>object</td>\n",
       "      <td>337</td>\n",
       "      <td>9668</td>\n",
       "      <td>24</td>\n",
       "      <td>0.03</td>\n",
       "    </tr>\n",
       "    <tr>\n",
       "      <th>duration</th>\n",
       "      <td>object</td>\n",
       "      <td>0</td>\n",
       "      <td>9668</td>\n",
       "      <td>219</td>\n",
       "      <td>0.00</td>\n",
       "    </tr>\n",
       "    <tr>\n",
       "      <th>listed_in</th>\n",
       "      <td>object</td>\n",
       "      <td>0</td>\n",
       "      <td>9668</td>\n",
       "      <td>518</td>\n",
       "      <td>0.00</td>\n",
       "    </tr>\n",
       "    <tr>\n",
       "      <th>description</th>\n",
       "      <td>object</td>\n",
       "      <td>0</td>\n",
       "      <td>9668</td>\n",
       "      <td>9414</td>\n",
       "      <td>0.00</td>\n",
       "    </tr>\n",
       "    <tr>\n",
       "      <th>plataforma</th>\n",
       "      <td>object</td>\n",
       "      <td>0</td>\n",
       "      <td>9668</td>\n",
       "      <td>1</td>\n",
       "      <td>0.00</td>\n",
       "    </tr>\n",
       "  </tbody>\n",
       "</table>\n",
       "</div>"
      ],
      "text/plain": [
       "                type  missing  size  unique  percentual_missing\n",
       "show_id       object        0  9668    9668                0.00\n",
       "type          object        0  9668       2                0.00\n",
       "title         object        0  9668    9668                0.00\n",
       "director      object        0  9668    5775                0.00\n",
       "cast          object        0  9668    7928                0.00\n",
       "country       object        0  9668      87                0.00\n",
       "date_added    object     9513  9668      84                0.98\n",
       "release_year   int64        0  9668     100                0.00\n",
       "rating        object      337  9668      24                0.03\n",
       "duration      object        0  9668     219                0.00\n",
       "listed_in     object        0  9668     518                0.00\n",
       "description   object        0  9668    9414                0.00\n",
       "plataforma    object        0  9668       1                0.00"
      ]
     },
     "execution_count": 1138,
     "metadata": {},
     "output_type": "execute_result"
    }
   ],
   "source": [
    "# Verificação do dataset Amazon Prime\n",
    "check_df = pd.DataFrame({\n",
    "                    'type': df_amazon.dtypes,\n",
    "                    'missing': df_amazon.isna().sum(),\n",
    "                    'size': df_amazon.shape[0],\n",
    "                    'unique': df_amazon.nunique()})\n",
    "check_df['percentual_missing'] = round(check_df['missing'] / check_df['size'], 2)\n",
    "check_df"
   ]
  },
  {
   "cell_type": "code",
   "execution_count": 1139,
   "metadata": {},
   "outputs": [
    {
     "data": {
      "text/plain": [
       "Movie      80.82\n",
       "TV Show    19.18\n",
       "Name: type, dtype: float64"
      ]
     },
     "execution_count": 1139,
     "metadata": {},
     "output_type": "execute_result"
    }
   ],
   "source": [
    "# Porcentagem no dataset Amazon Prime\n",
    "percent = df_amazon[\"type\"].value_counts(normalize=True)*100\n",
    "percent.round(2)"
   ]
  },
  {
   "cell_type": "code",
   "execution_count": 1140,
   "metadata": {},
   "outputs": [
    {
     "data": {
      "text/html": [
       "<div>\n",
       "<style scoped>\n",
       "    .dataframe tbody tr th:only-of-type {\n",
       "        vertical-align: middle;\n",
       "    }\n",
       "\n",
       "    .dataframe tbody tr th {\n",
       "        vertical-align: top;\n",
       "    }\n",
       "\n",
       "    .dataframe thead th {\n",
       "        text-align: right;\n",
       "    }\n",
       "</style>\n",
       "<table border=\"1\" class=\"dataframe\">\n",
       "  <thead>\n",
       "    <tr style=\"text-align: right;\">\n",
       "      <th></th>\n",
       "      <th>show_id</th>\n",
       "      <th>type</th>\n",
       "      <th>title</th>\n",
       "      <th>director</th>\n",
       "      <th>cast</th>\n",
       "      <th>country</th>\n",
       "      <th>date_added</th>\n",
       "      <th>release_year</th>\n",
       "      <th>rating</th>\n",
       "      <th>duration</th>\n",
       "      <th>listed_in</th>\n",
       "      <th>description</th>\n",
       "      <th>plataforma</th>\n",
       "    </tr>\n",
       "  </thead>\n",
       "  <tbody>\n",
       "    <tr>\n",
       "      <th>0</th>\n",
       "      <td>s1</td>\n",
       "      <td>Movie</td>\n",
       "      <td>Dick Johnson Is Dead</td>\n",
       "      <td>Kirsten Johnson</td>\n",
       "      <td>No Data</td>\n",
       "      <td>United States</td>\n",
       "      <td>September 25, 2021</td>\n",
       "      <td>2020</td>\n",
       "      <td>PG-13</td>\n",
       "      <td>90 min</td>\n",
       "      <td>Documentaries</td>\n",
       "      <td>As her father nears the end of his life, filmm...</td>\n",
       "      <td>Netflix</td>\n",
       "    </tr>\n",
       "    <tr>\n",
       "      <th>1</th>\n",
       "      <td>s2</td>\n",
       "      <td>TV Show</td>\n",
       "      <td>Blood &amp; Water</td>\n",
       "      <td>No Data</td>\n",
       "      <td>Ama Qamata, Khosi Ngema, Gail Mabalane, Thaban...</td>\n",
       "      <td>South Africa</td>\n",
       "      <td>September 24, 2021</td>\n",
       "      <td>2021</td>\n",
       "      <td>TV-MA</td>\n",
       "      <td>2 Seasons</td>\n",
       "      <td>International TV Shows, TV Dramas, TV Mysteries</td>\n",
       "      <td>After crossing paths at a party, a Cape Town t...</td>\n",
       "      <td>Netflix</td>\n",
       "    </tr>\n",
       "    <tr>\n",
       "      <th>4</th>\n",
       "      <td>s5</td>\n",
       "      <td>TV Show</td>\n",
       "      <td>Kota Factory</td>\n",
       "      <td>No Data</td>\n",
       "      <td>Mayur More, Jitendra Kumar, Ranjan Raj, Alam K...</td>\n",
       "      <td>India</td>\n",
       "      <td>September 24, 2021</td>\n",
       "      <td>2021</td>\n",
       "      <td>TV-MA</td>\n",
       "      <td>2 Seasons</td>\n",
       "      <td>International TV Shows, Romantic TV Shows, TV ...</td>\n",
       "      <td>In a city of coaching centers known to train I...</td>\n",
       "      <td>Netflix</td>\n",
       "    </tr>\n",
       "    <tr>\n",
       "      <th>7</th>\n",
       "      <td>s8</td>\n",
       "      <td>Movie</td>\n",
       "      <td>Sankofa</td>\n",
       "      <td>Haile Gerima</td>\n",
       "      <td>Kofi Ghanaba, Oyafunmike Ogunlano, Alexandra D...</td>\n",
       "      <td>United States, Ghana, Burkina Faso, United Kin...</td>\n",
       "      <td>September 24, 2021</td>\n",
       "      <td>1993</td>\n",
       "      <td>TV-MA</td>\n",
       "      <td>125 min</td>\n",
       "      <td>Dramas, Independent Movies, International Movies</td>\n",
       "      <td>On a photo shoot in Ghana, an American model s...</td>\n",
       "      <td>Netflix</td>\n",
       "    </tr>\n",
       "    <tr>\n",
       "      <th>8</th>\n",
       "      <td>s9</td>\n",
       "      <td>TV Show</td>\n",
       "      <td>The Great British Baking Show</td>\n",
       "      <td>Andy Devonshire</td>\n",
       "      <td>Mel Giedroyc, Sue Perkins, Mary Berry, Paul Ho...</td>\n",
       "      <td>United Kingdom</td>\n",
       "      <td>September 24, 2021</td>\n",
       "      <td>2021</td>\n",
       "      <td>TV-14</td>\n",
       "      <td>9 Seasons</td>\n",
       "      <td>British TV Shows, Reality TV</td>\n",
       "      <td>A talented batch of amateur bakers face off in...</td>\n",
       "      <td>Netflix</td>\n",
       "    </tr>\n",
       "    <tr>\n",
       "      <th>...</th>\n",
       "      <td>...</td>\n",
       "      <td>...</td>\n",
       "      <td>...</td>\n",
       "      <td>...</td>\n",
       "      <td>...</td>\n",
       "      <td>...</td>\n",
       "      <td>...</td>\n",
       "      <td>...</td>\n",
       "      <td>...</td>\n",
       "      <td>...</td>\n",
       "      <td>...</td>\n",
       "      <td>...</td>\n",
       "      <td>...</td>\n",
       "    </tr>\n",
       "    <tr>\n",
       "      <th>9663</th>\n",
       "      <td>s9664</td>\n",
       "      <td>Movie</td>\n",
       "      <td>Pride Of The Bowery</td>\n",
       "      <td>Joseph H. Lewis</td>\n",
       "      <td>Leo Gorcey, Bobby Jordan</td>\n",
       "      <td>No Data</td>\n",
       "      <td>NaN</td>\n",
       "      <td>1940</td>\n",
       "      <td>7+</td>\n",
       "      <td>60 min</td>\n",
       "      <td>Comedy</td>\n",
       "      <td>New York City street principles get an East Si...</td>\n",
       "      <td>Amazon Prime</td>\n",
       "    </tr>\n",
       "    <tr>\n",
       "      <th>9664</th>\n",
       "      <td>s9665</td>\n",
       "      <td>TV Show</td>\n",
       "      <td>Planet Patrol</td>\n",
       "      <td>No Data</td>\n",
       "      <td>DICK VOSBURGH, RONNIE STEVENS, LIBBY MORRIS, M...</td>\n",
       "      <td>No Data</td>\n",
       "      <td>NaN</td>\n",
       "      <td>2018</td>\n",
       "      <td>13+</td>\n",
       "      <td>4 Seasons</td>\n",
       "      <td>TV Shows</td>\n",
       "      <td>This is Earth, 2100AD - and these are the adve...</td>\n",
       "      <td>Amazon Prime</td>\n",
       "    </tr>\n",
       "    <tr>\n",
       "      <th>9665</th>\n",
       "      <td>s9666</td>\n",
       "      <td>Movie</td>\n",
       "      <td>Outpost</td>\n",
       "      <td>Steve Barker</td>\n",
       "      <td>Ray Stevenson, Julian Wadham, Richard Brake, M...</td>\n",
       "      <td>No Data</td>\n",
       "      <td>NaN</td>\n",
       "      <td>2008</td>\n",
       "      <td>R</td>\n",
       "      <td>90 min</td>\n",
       "      <td>Action</td>\n",
       "      <td>In war-torn Eastern Europe, a world-weary grou...</td>\n",
       "      <td>Amazon Prime</td>\n",
       "    </tr>\n",
       "    <tr>\n",
       "      <th>9666</th>\n",
       "      <td>s9667</td>\n",
       "      <td>TV Show</td>\n",
       "      <td>Maradona: Blessed Dream</td>\n",
       "      <td>No Data</td>\n",
       "      <td>Esteban Recagno, Ezequiel Stremiz, Luciano Vit...</td>\n",
       "      <td>No Data</td>\n",
       "      <td>NaN</td>\n",
       "      <td>2021</td>\n",
       "      <td>TV-MA</td>\n",
       "      <td>1 Season</td>\n",
       "      <td>Drama, Sports</td>\n",
       "      <td>The series tells the story of Diego Maradona, ...</td>\n",
       "      <td>Amazon Prime</td>\n",
       "    </tr>\n",
       "    <tr>\n",
       "      <th>9667</th>\n",
       "      <td>s9668</td>\n",
       "      <td>Movie</td>\n",
       "      <td>Harry Brown</td>\n",
       "      <td>Daniel Barber</td>\n",
       "      <td>Michael Caine, Emily Mortimer, Joseph Gilgun, ...</td>\n",
       "      <td>No Data</td>\n",
       "      <td>NaN</td>\n",
       "      <td>2010</td>\n",
       "      <td>R</td>\n",
       "      <td>103 min</td>\n",
       "      <td>Action, Drama, Suspense</td>\n",
       "      <td>Harry Brown, starring two-time Academy Award w...</td>\n",
       "      <td>Amazon Prime</td>\n",
       "    </tr>\n",
       "  </tbody>\n",
       "</table>\n",
       "<p>17629 rows × 13 columns</p>\n",
       "</div>"
      ],
      "text/plain": [
       "     show_id     type                          title         director  \\\n",
       "0         s1    Movie           Dick Johnson Is Dead  Kirsten Johnson   \n",
       "1         s2  TV Show                  Blood & Water          No Data   \n",
       "4         s5  TV Show                   Kota Factory          No Data   \n",
       "7         s8    Movie                        Sankofa     Haile Gerima   \n",
       "8         s9  TV Show  The Great British Baking Show  Andy Devonshire   \n",
       "...      ...      ...                            ...              ...   \n",
       "9663   s9664    Movie            Pride Of The Bowery  Joseph H. Lewis   \n",
       "9664   s9665  TV Show                  Planet Patrol          No Data   \n",
       "9665   s9666    Movie                        Outpost     Steve Barker   \n",
       "9666   s9667  TV Show        Maradona: Blessed Dream          No Data   \n",
       "9667   s9668    Movie                    Harry Brown    Daniel Barber   \n",
       "\n",
       "                                                   cast  \\\n",
       "0                                               No Data   \n",
       "1     Ama Qamata, Khosi Ngema, Gail Mabalane, Thaban...   \n",
       "4     Mayur More, Jitendra Kumar, Ranjan Raj, Alam K...   \n",
       "7     Kofi Ghanaba, Oyafunmike Ogunlano, Alexandra D...   \n",
       "8     Mel Giedroyc, Sue Perkins, Mary Berry, Paul Ho...   \n",
       "...                                                 ...   \n",
       "9663                           Leo Gorcey, Bobby Jordan   \n",
       "9664  DICK VOSBURGH, RONNIE STEVENS, LIBBY MORRIS, M...   \n",
       "9665  Ray Stevenson, Julian Wadham, Richard Brake, M...   \n",
       "9666  Esteban Recagno, Ezequiel Stremiz, Luciano Vit...   \n",
       "9667  Michael Caine, Emily Mortimer, Joseph Gilgun, ...   \n",
       "\n",
       "                                                country          date_added  \\\n",
       "0                                         United States  September 25, 2021   \n",
       "1                                          South Africa  September 24, 2021   \n",
       "4                                                 India  September 24, 2021   \n",
       "7     United States, Ghana, Burkina Faso, United Kin...  September 24, 2021   \n",
       "8                                        United Kingdom  September 24, 2021   \n",
       "...                                                 ...                 ...   \n",
       "9663                                            No Data                 NaN   \n",
       "9664                                            No Data                 NaN   \n",
       "9665                                            No Data                 NaN   \n",
       "9666                                            No Data                 NaN   \n",
       "9667                                            No Data                 NaN   \n",
       "\n",
       "      release_year rating   duration  \\\n",
       "0             2020  PG-13     90 min   \n",
       "1             2021  TV-MA  2 Seasons   \n",
       "4             2021  TV-MA  2 Seasons   \n",
       "7             1993  TV-MA    125 min   \n",
       "8             2021  TV-14  9 Seasons   \n",
       "...            ...    ...        ...   \n",
       "9663          1940     7+     60 min   \n",
       "9664          2018    13+  4 Seasons   \n",
       "9665          2008      R     90 min   \n",
       "9666          2021  TV-MA   1 Season   \n",
       "9667          2010      R    103 min   \n",
       "\n",
       "                                              listed_in  \\\n",
       "0                                         Documentaries   \n",
       "1       International TV Shows, TV Dramas, TV Mysteries   \n",
       "4     International TV Shows, Romantic TV Shows, TV ...   \n",
       "7      Dramas, Independent Movies, International Movies   \n",
       "8                          British TV Shows, Reality TV   \n",
       "...                                                 ...   \n",
       "9663                                             Comedy   \n",
       "9664                                           TV Shows   \n",
       "9665                                             Action   \n",
       "9666                                      Drama, Sports   \n",
       "9667                            Action, Drama, Suspense   \n",
       "\n",
       "                                            description    plataforma  \n",
       "0     As her father nears the end of his life, filmm...       Netflix  \n",
       "1     After crossing paths at a party, a Cape Town t...       Netflix  \n",
       "4     In a city of coaching centers known to train I...       Netflix  \n",
       "7     On a photo shoot in Ghana, an American model s...       Netflix  \n",
       "8     A talented batch of amateur bakers face off in...       Netflix  \n",
       "...                                                 ...           ...  \n",
       "9663  New York City street principles get an East Si...  Amazon Prime  \n",
       "9664  This is Earth, 2100AD - and these are the adve...  Amazon Prime  \n",
       "9665  In war-torn Eastern Europe, a world-weary grou...  Amazon Prime  \n",
       "9666  The series tells the story of Diego Maradona, ...  Amazon Prime  \n",
       "9667  Harry Brown, starring two-time Academy Award w...  Amazon Prime  \n",
       "\n",
       "[17629 rows x 13 columns]"
      ]
     },
     "execution_count": 1140,
     "metadata": {},
     "output_type": "execute_result"
    }
   ],
   "source": [
    "# Unificando os datasets\n",
    "df = pd.concat([df_netflix, df_amazon])\n",
    "df"
   ]
  },
  {
   "cell_type": "code",
   "execution_count": 1141,
   "metadata": {},
   "outputs": [
    {
     "data": {
      "text/html": [
       "<div>\n",
       "<style scoped>\n",
       "    .dataframe tbody tr th:only-of-type {\n",
       "        vertical-align: middle;\n",
       "    }\n",
       "\n",
       "    .dataframe tbody tr th {\n",
       "        vertical-align: top;\n",
       "    }\n",
       "\n",
       "    .dataframe thead th {\n",
       "        text-align: right;\n",
       "    }\n",
       "</style>\n",
       "<table border=\"1\" class=\"dataframe\">\n",
       "  <thead>\n",
       "    <tr style=\"text-align: right;\">\n",
       "      <th></th>\n",
       "      <th>show_id</th>\n",
       "      <th>type</th>\n",
       "      <th>title</th>\n",
       "      <th>director</th>\n",
       "      <th>cast</th>\n",
       "      <th>country</th>\n",
       "      <th>date_added</th>\n",
       "      <th>release_year</th>\n",
       "      <th>rating</th>\n",
       "      <th>duration</th>\n",
       "      <th>listed_in</th>\n",
       "      <th>description</th>\n",
       "      <th>plataforma</th>\n",
       "      <th>year_added</th>\n",
       "      <th>month_added</th>\n",
       "    </tr>\n",
       "  </thead>\n",
       "  <tbody>\n",
       "    <tr>\n",
       "      <th>0</th>\n",
       "      <td>s1</td>\n",
       "      <td>Movie</td>\n",
       "      <td>Dick Johnson Is Dead</td>\n",
       "      <td>Kirsten Johnson</td>\n",
       "      <td>No Data</td>\n",
       "      <td>United States</td>\n",
       "      <td>2021-09-25</td>\n",
       "      <td>2020</td>\n",
       "      <td>PG-13</td>\n",
       "      <td>90 min</td>\n",
       "      <td>Documentaries</td>\n",
       "      <td>As her father nears the end of his life, filmm...</td>\n",
       "      <td>Netflix</td>\n",
       "      <td>2021.0</td>\n",
       "      <td>Setembro</td>\n",
       "    </tr>\n",
       "    <tr>\n",
       "      <th>1</th>\n",
       "      <td>s2</td>\n",
       "      <td>TV Show</td>\n",
       "      <td>Blood &amp; Water</td>\n",
       "      <td>No Data</td>\n",
       "      <td>Ama Qamata, Khosi Ngema, Gail Mabalane, Thaban...</td>\n",
       "      <td>South Africa</td>\n",
       "      <td>2021-09-24</td>\n",
       "      <td>2021</td>\n",
       "      <td>TV-MA</td>\n",
       "      <td>2 Seasons</td>\n",
       "      <td>International TV Shows, TV Dramas, TV Mysteries</td>\n",
       "      <td>After crossing paths at a party, a Cape Town t...</td>\n",
       "      <td>Netflix</td>\n",
       "      <td>2021.0</td>\n",
       "      <td>Setembro</td>\n",
       "    </tr>\n",
       "    <tr>\n",
       "      <th>4</th>\n",
       "      <td>s5</td>\n",
       "      <td>TV Show</td>\n",
       "      <td>Kota Factory</td>\n",
       "      <td>No Data</td>\n",
       "      <td>Mayur More, Jitendra Kumar, Ranjan Raj, Alam K...</td>\n",
       "      <td>India</td>\n",
       "      <td>2021-09-24</td>\n",
       "      <td>2021</td>\n",
       "      <td>TV-MA</td>\n",
       "      <td>2 Seasons</td>\n",
       "      <td>International TV Shows, Romantic TV Shows, TV ...</td>\n",
       "      <td>In a city of coaching centers known to train I...</td>\n",
       "      <td>Netflix</td>\n",
       "      <td>2021.0</td>\n",
       "      <td>Setembro</td>\n",
       "    </tr>\n",
       "    <tr>\n",
       "      <th>7</th>\n",
       "      <td>s8</td>\n",
       "      <td>Movie</td>\n",
       "      <td>Sankofa</td>\n",
       "      <td>Haile Gerima</td>\n",
       "      <td>Kofi Ghanaba, Oyafunmike Ogunlano, Alexandra D...</td>\n",
       "      <td>United States, Ghana, Burkina Faso, United Kin...</td>\n",
       "      <td>2021-09-24</td>\n",
       "      <td>1993</td>\n",
       "      <td>TV-MA</td>\n",
       "      <td>125 min</td>\n",
       "      <td>Dramas, Independent Movies, International Movies</td>\n",
       "      <td>On a photo shoot in Ghana, an American model s...</td>\n",
       "      <td>Netflix</td>\n",
       "      <td>2021.0</td>\n",
       "      <td>Setembro</td>\n",
       "    </tr>\n",
       "    <tr>\n",
       "      <th>8</th>\n",
       "      <td>s9</td>\n",
       "      <td>TV Show</td>\n",
       "      <td>The Great British Baking Show</td>\n",
       "      <td>Andy Devonshire</td>\n",
       "      <td>Mel Giedroyc, Sue Perkins, Mary Berry, Paul Ho...</td>\n",
       "      <td>United Kingdom</td>\n",
       "      <td>2021-09-24</td>\n",
       "      <td>2021</td>\n",
       "      <td>TV-14</td>\n",
       "      <td>9 Seasons</td>\n",
       "      <td>British TV Shows, Reality TV</td>\n",
       "      <td>A talented batch of amateur bakers face off in...</td>\n",
       "      <td>Netflix</td>\n",
       "      <td>2021.0</td>\n",
       "      <td>Setembro</td>\n",
       "    </tr>\n",
       "    <tr>\n",
       "      <th>...</th>\n",
       "      <td>...</td>\n",
       "      <td>...</td>\n",
       "      <td>...</td>\n",
       "      <td>...</td>\n",
       "      <td>...</td>\n",
       "      <td>...</td>\n",
       "      <td>...</td>\n",
       "      <td>...</td>\n",
       "      <td>...</td>\n",
       "      <td>...</td>\n",
       "      <td>...</td>\n",
       "      <td>...</td>\n",
       "      <td>...</td>\n",
       "      <td>...</td>\n",
       "      <td>...</td>\n",
       "    </tr>\n",
       "    <tr>\n",
       "      <th>9663</th>\n",
       "      <td>s9664</td>\n",
       "      <td>Movie</td>\n",
       "      <td>Pride Of The Bowery</td>\n",
       "      <td>Joseph H. Lewis</td>\n",
       "      <td>Leo Gorcey, Bobby Jordan</td>\n",
       "      <td>No Data</td>\n",
       "      <td>NaT</td>\n",
       "      <td>1940</td>\n",
       "      <td>7+</td>\n",
       "      <td>60 min</td>\n",
       "      <td>Comedy</td>\n",
       "      <td>New York City street principles get an East Si...</td>\n",
       "      <td>Amazon Prime</td>\n",
       "      <td>NaN</td>\n",
       "      <td>NaN</td>\n",
       "    </tr>\n",
       "    <tr>\n",
       "      <th>9664</th>\n",
       "      <td>s9665</td>\n",
       "      <td>TV Show</td>\n",
       "      <td>Planet Patrol</td>\n",
       "      <td>No Data</td>\n",
       "      <td>DICK VOSBURGH, RONNIE STEVENS, LIBBY MORRIS, M...</td>\n",
       "      <td>No Data</td>\n",
       "      <td>NaT</td>\n",
       "      <td>2018</td>\n",
       "      <td>13+</td>\n",
       "      <td>4 Seasons</td>\n",
       "      <td>TV Shows</td>\n",
       "      <td>This is Earth, 2100AD - and these are the adve...</td>\n",
       "      <td>Amazon Prime</td>\n",
       "      <td>NaN</td>\n",
       "      <td>NaN</td>\n",
       "    </tr>\n",
       "    <tr>\n",
       "      <th>9665</th>\n",
       "      <td>s9666</td>\n",
       "      <td>Movie</td>\n",
       "      <td>Outpost</td>\n",
       "      <td>Steve Barker</td>\n",
       "      <td>Ray Stevenson, Julian Wadham, Richard Brake, M...</td>\n",
       "      <td>No Data</td>\n",
       "      <td>NaT</td>\n",
       "      <td>2008</td>\n",
       "      <td>R</td>\n",
       "      <td>90 min</td>\n",
       "      <td>Action</td>\n",
       "      <td>In war-torn Eastern Europe, a world-weary grou...</td>\n",
       "      <td>Amazon Prime</td>\n",
       "      <td>NaN</td>\n",
       "      <td>NaN</td>\n",
       "    </tr>\n",
       "    <tr>\n",
       "      <th>9666</th>\n",
       "      <td>s9667</td>\n",
       "      <td>TV Show</td>\n",
       "      <td>Maradona: Blessed Dream</td>\n",
       "      <td>No Data</td>\n",
       "      <td>Esteban Recagno, Ezequiel Stremiz, Luciano Vit...</td>\n",
       "      <td>No Data</td>\n",
       "      <td>NaT</td>\n",
       "      <td>2021</td>\n",
       "      <td>TV-MA</td>\n",
       "      <td>1 Season</td>\n",
       "      <td>Drama, Sports</td>\n",
       "      <td>The series tells the story of Diego Maradona, ...</td>\n",
       "      <td>Amazon Prime</td>\n",
       "      <td>NaN</td>\n",
       "      <td>NaN</td>\n",
       "    </tr>\n",
       "    <tr>\n",
       "      <th>9667</th>\n",
       "      <td>s9668</td>\n",
       "      <td>Movie</td>\n",
       "      <td>Harry Brown</td>\n",
       "      <td>Daniel Barber</td>\n",
       "      <td>Michael Caine, Emily Mortimer, Joseph Gilgun, ...</td>\n",
       "      <td>No Data</td>\n",
       "      <td>NaT</td>\n",
       "      <td>2010</td>\n",
       "      <td>R</td>\n",
       "      <td>103 min</td>\n",
       "      <td>Action, Drama, Suspense</td>\n",
       "      <td>Harry Brown, starring two-time Academy Award w...</td>\n",
       "      <td>Amazon Prime</td>\n",
       "      <td>NaN</td>\n",
       "      <td>NaN</td>\n",
       "    </tr>\n",
       "  </tbody>\n",
       "</table>\n",
       "<p>17629 rows × 15 columns</p>\n",
       "</div>"
      ],
      "text/plain": [
       "     show_id     type                          title         director  \\\n",
       "0         s1    Movie           Dick Johnson Is Dead  Kirsten Johnson   \n",
       "1         s2  TV Show                  Blood & Water          No Data   \n",
       "4         s5  TV Show                   Kota Factory          No Data   \n",
       "7         s8    Movie                        Sankofa     Haile Gerima   \n",
       "8         s9  TV Show  The Great British Baking Show  Andy Devonshire   \n",
       "...      ...      ...                            ...              ...   \n",
       "9663   s9664    Movie            Pride Of The Bowery  Joseph H. Lewis   \n",
       "9664   s9665  TV Show                  Planet Patrol          No Data   \n",
       "9665   s9666    Movie                        Outpost     Steve Barker   \n",
       "9666   s9667  TV Show        Maradona: Blessed Dream          No Data   \n",
       "9667   s9668    Movie                    Harry Brown    Daniel Barber   \n",
       "\n",
       "                                                   cast  \\\n",
       "0                                               No Data   \n",
       "1     Ama Qamata, Khosi Ngema, Gail Mabalane, Thaban...   \n",
       "4     Mayur More, Jitendra Kumar, Ranjan Raj, Alam K...   \n",
       "7     Kofi Ghanaba, Oyafunmike Ogunlano, Alexandra D...   \n",
       "8     Mel Giedroyc, Sue Perkins, Mary Berry, Paul Ho...   \n",
       "...                                                 ...   \n",
       "9663                           Leo Gorcey, Bobby Jordan   \n",
       "9664  DICK VOSBURGH, RONNIE STEVENS, LIBBY MORRIS, M...   \n",
       "9665  Ray Stevenson, Julian Wadham, Richard Brake, M...   \n",
       "9666  Esteban Recagno, Ezequiel Stremiz, Luciano Vit...   \n",
       "9667  Michael Caine, Emily Mortimer, Joseph Gilgun, ...   \n",
       "\n",
       "                                                country date_added  \\\n",
       "0                                         United States 2021-09-25   \n",
       "1                                          South Africa 2021-09-24   \n",
       "4                                                 India 2021-09-24   \n",
       "7     United States, Ghana, Burkina Faso, United Kin... 2021-09-24   \n",
       "8                                        United Kingdom 2021-09-24   \n",
       "...                                                 ...        ...   \n",
       "9663                                            No Data        NaT   \n",
       "9664                                            No Data        NaT   \n",
       "9665                                            No Data        NaT   \n",
       "9666                                            No Data        NaT   \n",
       "9667                                            No Data        NaT   \n",
       "\n",
       "      release_year rating   duration  \\\n",
       "0             2020  PG-13     90 min   \n",
       "1             2021  TV-MA  2 Seasons   \n",
       "4             2021  TV-MA  2 Seasons   \n",
       "7             1993  TV-MA    125 min   \n",
       "8             2021  TV-14  9 Seasons   \n",
       "...            ...    ...        ...   \n",
       "9663          1940     7+     60 min   \n",
       "9664          2018    13+  4 Seasons   \n",
       "9665          2008      R     90 min   \n",
       "9666          2021  TV-MA   1 Season   \n",
       "9667          2010      R    103 min   \n",
       "\n",
       "                                              listed_in  \\\n",
       "0                                         Documentaries   \n",
       "1       International TV Shows, TV Dramas, TV Mysteries   \n",
       "4     International TV Shows, Romantic TV Shows, TV ...   \n",
       "7      Dramas, Independent Movies, International Movies   \n",
       "8                          British TV Shows, Reality TV   \n",
       "...                                                 ...   \n",
       "9663                                             Comedy   \n",
       "9664                                           TV Shows   \n",
       "9665                                             Action   \n",
       "9666                                      Drama, Sports   \n",
       "9667                            Action, Drama, Suspense   \n",
       "\n",
       "                                            description    plataforma  \\\n",
       "0     As her father nears the end of his life, filmm...       Netflix   \n",
       "1     After crossing paths at a party, a Cape Town t...       Netflix   \n",
       "4     In a city of coaching centers known to train I...       Netflix   \n",
       "7     On a photo shoot in Ghana, an American model s...       Netflix   \n",
       "8     A talented batch of amateur bakers face off in...       Netflix   \n",
       "...                                                 ...           ...   \n",
       "9663  New York City street principles get an East Si...  Amazon Prime   \n",
       "9664  This is Earth, 2100AD - and these are the adve...  Amazon Prime   \n",
       "9665  In war-torn Eastern Europe, a world-weary grou...  Amazon Prime   \n",
       "9666  The series tells the story of Diego Maradona, ...  Amazon Prime   \n",
       "9667  Harry Brown, starring two-time Academy Award w...  Amazon Prime   \n",
       "\n",
       "      year_added month_added  \n",
       "0         2021.0    Setembro  \n",
       "1         2021.0    Setembro  \n",
       "4         2021.0    Setembro  \n",
       "7         2021.0    Setembro  \n",
       "8         2021.0    Setembro  \n",
       "...          ...         ...  \n",
       "9663         NaN         NaN  \n",
       "9664         NaN         NaN  \n",
       "9665         NaN         NaN  \n",
       "9666         NaN         NaN  \n",
       "9667         NaN         NaN  \n",
       "\n",
       "[17629 rows x 15 columns]"
      ]
     },
     "execution_count": 1141,
     "metadata": {},
     "output_type": "execute_result"
    }
   ],
   "source": [
    "# Adicionando coluna de Mês e Ano\n",
    "df['date_added'] = pd.to_datetime(df['date_added'])\n",
    "df['year_added'] = df['date_added'].dt.year\n",
    "df['month_added'] = df['date_added'].dt.month\n",
    "\n",
    "#Renomeando os Meses\n",
    "mes= {1:'Janeiro', 2:'Fevereiro', 3:'Março', 4:'Abril', 5:'Maio', 6:'Junho', 7:'Julho', 8: \n",
    "                    'Agosto', 9:'Setembro', 10:'Outubro', 11:'Novembro', 12:'Dezembro'}\n",
    "df['month_added'] = df['month_added'].replace(mes)\n",
    "df"
   ]
  },
  {
   "cell_type": "code",
   "execution_count": 1142,
   "metadata": {},
   "outputs": [
    {
     "data": {
      "text/html": [
       "<div>\n",
       "<style scoped>\n",
       "    .dataframe tbody tr th:only-of-type {\n",
       "        vertical-align: middle;\n",
       "    }\n",
       "\n",
       "    .dataframe tbody tr th {\n",
       "        vertical-align: top;\n",
       "    }\n",
       "\n",
       "    .dataframe thead th {\n",
       "        text-align: right;\n",
       "    }\n",
       "</style>\n",
       "<table border=\"1\" class=\"dataframe\">\n",
       "  <thead>\n",
       "    <tr style=\"text-align: right;\">\n",
       "      <th></th>\n",
       "      <th>show_id</th>\n",
       "      <th>type</th>\n",
       "      <th>title</th>\n",
       "      <th>director</th>\n",
       "      <th>cast</th>\n",
       "      <th>country</th>\n",
       "      <th>date_added</th>\n",
       "      <th>release_year</th>\n",
       "      <th>rating</th>\n",
       "      <th>duration</th>\n",
       "      <th>listed_in</th>\n",
       "      <th>description</th>\n",
       "      <th>plataforma</th>\n",
       "      <th>year_added</th>\n",
       "      <th>month_added</th>\n",
       "    </tr>\n",
       "  </thead>\n",
       "  <tbody>\n",
       "    <tr>\n",
       "      <th>0</th>\n",
       "      <td>s1</td>\n",
       "      <td>Movie</td>\n",
       "      <td>Dick Johnson Is Dead</td>\n",
       "      <td>Kirsten Johnson</td>\n",
       "      <td>No Data</td>\n",
       "      <td>United States</td>\n",
       "      <td>2021-09-25</td>\n",
       "      <td>2020</td>\n",
       "      <td>PG-13</td>\n",
       "      <td>90 min</td>\n",
       "      <td>Documentaries</td>\n",
       "      <td>As her father nears the end of his life, filmm...</td>\n",
       "      <td>Netflix</td>\n",
       "      <td>2021.0</td>\n",
       "      <td>Setembro</td>\n",
       "    </tr>\n",
       "    <tr>\n",
       "      <th>1</th>\n",
       "      <td>s2</td>\n",
       "      <td>TV Show</td>\n",
       "      <td>Blood &amp; Water</td>\n",
       "      <td>No Data</td>\n",
       "      <td>Ama Qamata, Khosi Ngema, Gail Mabalane, Thaban...</td>\n",
       "      <td>South Africa</td>\n",
       "      <td>2021-09-24</td>\n",
       "      <td>2021</td>\n",
       "      <td>TV-MA</td>\n",
       "      <td>2 Seasons</td>\n",
       "      <td>International TV Shows, TV Dramas, TV Mysteries</td>\n",
       "      <td>After crossing paths at a party, a Cape Town t...</td>\n",
       "      <td>Netflix</td>\n",
       "      <td>2021.0</td>\n",
       "      <td>Setembro</td>\n",
       "    </tr>\n",
       "    <tr>\n",
       "      <th>4</th>\n",
       "      <td>s5</td>\n",
       "      <td>TV Show</td>\n",
       "      <td>Kota Factory</td>\n",
       "      <td>No Data</td>\n",
       "      <td>Mayur More, Jitendra Kumar, Ranjan Raj, Alam K...</td>\n",
       "      <td>India</td>\n",
       "      <td>2021-09-24</td>\n",
       "      <td>2021</td>\n",
       "      <td>TV-MA</td>\n",
       "      <td>2 Seasons</td>\n",
       "      <td>International TV Shows, Romantic TV Shows, TV ...</td>\n",
       "      <td>In a city of coaching centers known to train I...</td>\n",
       "      <td>Netflix</td>\n",
       "      <td>2021.0</td>\n",
       "      <td>Setembro</td>\n",
       "    </tr>\n",
       "    <tr>\n",
       "      <th>7</th>\n",
       "      <td>s8</td>\n",
       "      <td>Movie</td>\n",
       "      <td>Sankofa</td>\n",
       "      <td>Haile Gerima</td>\n",
       "      <td>Kofi Ghanaba, Oyafunmike Ogunlano, Alexandra D...</td>\n",
       "      <td>United States, Ghana, Burkina Faso, United Kin...</td>\n",
       "      <td>2021-09-24</td>\n",
       "      <td>1993</td>\n",
       "      <td>TV-MA</td>\n",
       "      <td>125 min</td>\n",
       "      <td>Dramas, Independent Movies, International Movies</td>\n",
       "      <td>On a photo shoot in Ghana, an American model s...</td>\n",
       "      <td>Netflix</td>\n",
       "      <td>2021.0</td>\n",
       "      <td>Setembro</td>\n",
       "    </tr>\n",
       "    <tr>\n",
       "      <th>8</th>\n",
       "      <td>s9</td>\n",
       "      <td>TV Show</td>\n",
       "      <td>The Great British Baking Show</td>\n",
       "      <td>Andy Devonshire</td>\n",
       "      <td>Mel Giedroyc, Sue Perkins, Mary Berry, Paul Ho...</td>\n",
       "      <td>United Kingdom</td>\n",
       "      <td>2021-09-24</td>\n",
       "      <td>2021</td>\n",
       "      <td>TV-14</td>\n",
       "      <td>9 Seasons</td>\n",
       "      <td>British TV Shows, Reality TV</td>\n",
       "      <td>A talented batch of amateur bakers face off in...</td>\n",
       "      <td>Netflix</td>\n",
       "      <td>2021.0</td>\n",
       "      <td>Setembro</td>\n",
       "    </tr>\n",
       "    <tr>\n",
       "      <th>...</th>\n",
       "      <td>...</td>\n",
       "      <td>...</td>\n",
       "      <td>...</td>\n",
       "      <td>...</td>\n",
       "      <td>...</td>\n",
       "      <td>...</td>\n",
       "      <td>...</td>\n",
       "      <td>...</td>\n",
       "      <td>...</td>\n",
       "      <td>...</td>\n",
       "      <td>...</td>\n",
       "      <td>...</td>\n",
       "      <td>...</td>\n",
       "      <td>...</td>\n",
       "      <td>...</td>\n",
       "    </tr>\n",
       "    <tr>\n",
       "      <th>9663</th>\n",
       "      <td>s9664</td>\n",
       "      <td>Movie</td>\n",
       "      <td>Pride Of The Bowery</td>\n",
       "      <td>Joseph H. Lewis</td>\n",
       "      <td>Leo Gorcey, Bobby Jordan</td>\n",
       "      <td>No Data</td>\n",
       "      <td>NaT</td>\n",
       "      <td>1940</td>\n",
       "      <td>7+</td>\n",
       "      <td>60 min</td>\n",
       "      <td>Comedy</td>\n",
       "      <td>New York City street principles get an East Si...</td>\n",
       "      <td>Amazon Prime</td>\n",
       "      <td>1940.0</td>\n",
       "      <td>NaN</td>\n",
       "    </tr>\n",
       "    <tr>\n",
       "      <th>9664</th>\n",
       "      <td>s9665</td>\n",
       "      <td>TV Show</td>\n",
       "      <td>Planet Patrol</td>\n",
       "      <td>No Data</td>\n",
       "      <td>DICK VOSBURGH, RONNIE STEVENS, LIBBY MORRIS, M...</td>\n",
       "      <td>No Data</td>\n",
       "      <td>NaT</td>\n",
       "      <td>2018</td>\n",
       "      <td>13+</td>\n",
       "      <td>4 Seasons</td>\n",
       "      <td>TV Shows</td>\n",
       "      <td>This is Earth, 2100AD - and these are the adve...</td>\n",
       "      <td>Amazon Prime</td>\n",
       "      <td>2018.0</td>\n",
       "      <td>NaN</td>\n",
       "    </tr>\n",
       "    <tr>\n",
       "      <th>9665</th>\n",
       "      <td>s9666</td>\n",
       "      <td>Movie</td>\n",
       "      <td>Outpost</td>\n",
       "      <td>Steve Barker</td>\n",
       "      <td>Ray Stevenson, Julian Wadham, Richard Brake, M...</td>\n",
       "      <td>No Data</td>\n",
       "      <td>NaT</td>\n",
       "      <td>2008</td>\n",
       "      <td>R</td>\n",
       "      <td>90 min</td>\n",
       "      <td>Action</td>\n",
       "      <td>In war-torn Eastern Europe, a world-weary grou...</td>\n",
       "      <td>Amazon Prime</td>\n",
       "      <td>2008.0</td>\n",
       "      <td>NaN</td>\n",
       "    </tr>\n",
       "    <tr>\n",
       "      <th>9666</th>\n",
       "      <td>s9667</td>\n",
       "      <td>TV Show</td>\n",
       "      <td>Maradona: Blessed Dream</td>\n",
       "      <td>No Data</td>\n",
       "      <td>Esteban Recagno, Ezequiel Stremiz, Luciano Vit...</td>\n",
       "      <td>No Data</td>\n",
       "      <td>NaT</td>\n",
       "      <td>2021</td>\n",
       "      <td>TV-MA</td>\n",
       "      <td>1 Season</td>\n",
       "      <td>Drama, Sports</td>\n",
       "      <td>The series tells the story of Diego Maradona, ...</td>\n",
       "      <td>Amazon Prime</td>\n",
       "      <td>2021.0</td>\n",
       "      <td>NaN</td>\n",
       "    </tr>\n",
       "    <tr>\n",
       "      <th>9667</th>\n",
       "      <td>s9668</td>\n",
       "      <td>Movie</td>\n",
       "      <td>Harry Brown</td>\n",
       "      <td>Daniel Barber</td>\n",
       "      <td>Michael Caine, Emily Mortimer, Joseph Gilgun, ...</td>\n",
       "      <td>No Data</td>\n",
       "      <td>NaT</td>\n",
       "      <td>2010</td>\n",
       "      <td>R</td>\n",
       "      <td>103 min</td>\n",
       "      <td>Action, Drama, Suspense</td>\n",
       "      <td>Harry Brown, starring two-time Academy Award w...</td>\n",
       "      <td>Amazon Prime</td>\n",
       "      <td>2010.0</td>\n",
       "      <td>NaN</td>\n",
       "    </tr>\n",
       "  </tbody>\n",
       "</table>\n",
       "<p>17629 rows × 15 columns</p>\n",
       "</div>"
      ],
      "text/plain": [
       "     show_id     type                          title         director  \\\n",
       "0         s1    Movie           Dick Johnson Is Dead  Kirsten Johnson   \n",
       "1         s2  TV Show                  Blood & Water          No Data   \n",
       "4         s5  TV Show                   Kota Factory          No Data   \n",
       "7         s8    Movie                        Sankofa     Haile Gerima   \n",
       "8         s9  TV Show  The Great British Baking Show  Andy Devonshire   \n",
       "...      ...      ...                            ...              ...   \n",
       "9663   s9664    Movie            Pride Of The Bowery  Joseph H. Lewis   \n",
       "9664   s9665  TV Show                  Planet Patrol          No Data   \n",
       "9665   s9666    Movie                        Outpost     Steve Barker   \n",
       "9666   s9667  TV Show        Maradona: Blessed Dream          No Data   \n",
       "9667   s9668    Movie                    Harry Brown    Daniel Barber   \n",
       "\n",
       "                                                   cast  \\\n",
       "0                                               No Data   \n",
       "1     Ama Qamata, Khosi Ngema, Gail Mabalane, Thaban...   \n",
       "4     Mayur More, Jitendra Kumar, Ranjan Raj, Alam K...   \n",
       "7     Kofi Ghanaba, Oyafunmike Ogunlano, Alexandra D...   \n",
       "8     Mel Giedroyc, Sue Perkins, Mary Berry, Paul Ho...   \n",
       "...                                                 ...   \n",
       "9663                           Leo Gorcey, Bobby Jordan   \n",
       "9664  DICK VOSBURGH, RONNIE STEVENS, LIBBY MORRIS, M...   \n",
       "9665  Ray Stevenson, Julian Wadham, Richard Brake, M...   \n",
       "9666  Esteban Recagno, Ezequiel Stremiz, Luciano Vit...   \n",
       "9667  Michael Caine, Emily Mortimer, Joseph Gilgun, ...   \n",
       "\n",
       "                                                country date_added  \\\n",
       "0                                         United States 2021-09-25   \n",
       "1                                          South Africa 2021-09-24   \n",
       "4                                                 India 2021-09-24   \n",
       "7     United States, Ghana, Burkina Faso, United Kin... 2021-09-24   \n",
       "8                                        United Kingdom 2021-09-24   \n",
       "...                                                 ...        ...   \n",
       "9663                                            No Data        NaT   \n",
       "9664                                            No Data        NaT   \n",
       "9665                                            No Data        NaT   \n",
       "9666                                            No Data        NaT   \n",
       "9667                                            No Data        NaT   \n",
       "\n",
       "      release_year rating   duration  \\\n",
       "0             2020  PG-13     90 min   \n",
       "1             2021  TV-MA  2 Seasons   \n",
       "4             2021  TV-MA  2 Seasons   \n",
       "7             1993  TV-MA    125 min   \n",
       "8             2021  TV-14  9 Seasons   \n",
       "...            ...    ...        ...   \n",
       "9663          1940     7+     60 min   \n",
       "9664          2018    13+  4 Seasons   \n",
       "9665          2008      R     90 min   \n",
       "9666          2021  TV-MA   1 Season   \n",
       "9667          2010      R    103 min   \n",
       "\n",
       "                                              listed_in  \\\n",
       "0                                         Documentaries   \n",
       "1       International TV Shows, TV Dramas, TV Mysteries   \n",
       "4     International TV Shows, Romantic TV Shows, TV ...   \n",
       "7      Dramas, Independent Movies, International Movies   \n",
       "8                          British TV Shows, Reality TV   \n",
       "...                                                 ...   \n",
       "9663                                             Comedy   \n",
       "9664                                           TV Shows   \n",
       "9665                                             Action   \n",
       "9666                                      Drama, Sports   \n",
       "9667                            Action, Drama, Suspense   \n",
       "\n",
       "                                            description    plataforma  \\\n",
       "0     As her father nears the end of his life, filmm...       Netflix   \n",
       "1     After crossing paths at a party, a Cape Town t...       Netflix   \n",
       "4     In a city of coaching centers known to train I...       Netflix   \n",
       "7     On a photo shoot in Ghana, an American model s...       Netflix   \n",
       "8     A talented batch of amateur bakers face off in...       Netflix   \n",
       "...                                                 ...           ...   \n",
       "9663  New York City street principles get an East Si...  Amazon Prime   \n",
       "9664  This is Earth, 2100AD - and these are the adve...  Amazon Prime   \n",
       "9665  In war-torn Eastern Europe, a world-weary grou...  Amazon Prime   \n",
       "9666  The series tells the story of Diego Maradona, ...  Amazon Prime   \n",
       "9667  Harry Brown, starring two-time Academy Award w...  Amazon Prime   \n",
       "\n",
       "      year_added month_added  \n",
       "0         2021.0    Setembro  \n",
       "1         2021.0    Setembro  \n",
       "4         2021.0    Setembro  \n",
       "7         2021.0    Setembro  \n",
       "8         2021.0    Setembro  \n",
       "...          ...         ...  \n",
       "9663      1940.0         NaN  \n",
       "9664      2018.0         NaN  \n",
       "9665      2008.0         NaN  \n",
       "9666      2021.0         NaN  \n",
       "9667      2010.0         NaN  \n",
       "\n",
       "[17629 rows x 15 columns]"
      ]
     },
     "execution_count": 1142,
     "metadata": {},
     "output_type": "execute_result"
    }
   ],
   "source": [
    "# Preencher valores faltantes no ano de lançamento\n",
    "\n",
    "df['year_added'] = df['year_added'].fillna(df['release_year'])\n",
    "df"
   ]
  },
  {
   "cell_type": "code",
   "execution_count": 1143,
   "metadata": {},
   "outputs": [
    {
     "data": {
      "text/plain": [
       "['No Data',\n",
       " 'Ama Qamata',\n",
       " 'Khosi Ngema',\n",
       " 'Gail Mabalane',\n",
       " 'Thabang Molaba',\n",
       " 'Dillon Windvogel',\n",
       " 'Natasha Thahane',\n",
       " 'Arno Greeff',\n",
       " 'Xolile Tshabalala',\n",
       " 'Getmore Sithole',\n",
       " 'Cindy Mahlangu',\n",
       " 'Ryle De Morny',\n",
       " 'Greteli Fincham',\n",
       " 'Sello Maake Ka-Ncube',\n",
       " 'Odwa Gwanya',\n",
       " 'Mekaila Mathys',\n",
       " 'Sandi Schultz',\n",
       " 'Duane Williams',\n",
       " 'Shamilla Miller',\n",
       " 'Patrick Mofokeng',\n",
       " 'Mayur More',\n",
       " 'Jitendra Kumar',\n",
       " 'Ranjan Raj',\n",
       " 'Alam Khan',\n",
       " 'Ahsaas Channa',\n",
       " 'Revathi Pillai',\n",
       " 'Urvi Singh',\n",
       " 'Arun Kumar',\n",
       " 'Kofi Ghanaba',\n",
       " 'Oyafunmike Ogunlano',\n",
       " 'Alexandra Duah',\n",
       " 'Nick Medley',\n",
       " 'Mutabaruka',\n",
       " 'Afemo Omilami',\n",
       " 'Reggie Carter',\n",
       " 'Mzuri',\n",
       " 'Mel Giedroyc',\n",
       " 'Sue Perkins',\n",
       " 'Mary Berry',\n",
       " 'Paul Hollywood',\n",
       " 'Melissa McCarthy',\n",
       " \"Chris O'Dowd\",\n",
       " 'Kevin Kline',\n",
       " 'Timothy Olyphant',\n",
       " 'Daveed Diggs',\n",
       " 'Skyler Gisondo',\n",
       " 'Laura Harrier',\n",
       " 'Rosalind Chao',\n",
       " 'Kimberly Quinn',\n",
       " 'Loretta Devine',\n",
       " 'Ravi Kapoor',\n",
       " 'Luna Wedler',\n",
       " 'Jannis Niewöhner',\n",
       " 'Milan Peschel',\n",
       " 'Edin Hasanović',\n",
       " 'Anna Fialová',\n",
       " 'Marlon Boess',\n",
       " 'Victor Boccard',\n",
       " 'Fleur Geffrier',\n",
       " 'Aziz Dyab',\n",
       " 'Mélanie Fouché',\n",
       " 'Elizaveta Maximová',\n",
       " 'Logan Browning',\n",
       " 'Brandon P. Bell',\n",
       " 'DeRon Horton',\n",
       " 'Antoinette Robertson',\n",
       " 'John Patrick Amedori',\n",
       " 'Ashley Blaine Featherson',\n",
       " 'Marque Richardson',\n",
       " 'Giancarlo Esposito',\n",
       " 'Luis Ernesto Franco',\n",
       " 'Camila Sodi',\n",
       " 'Sergio Goyri',\n",
       " 'Samadhi Zendejas',\n",
       " 'Eduardo Yáñez',\n",
       " 'Sonya Smith',\n",
       " 'Alejandro Camacho',\n",
       " 'Azela Robinson',\n",
       " 'Uriel del Toro',\n",
       " 'Géraldine Bazán',\n",
       " 'Gabriela Roel',\n",
       " 'Marcus Ornellas',\n",
       " 'Engin Altan Düzyatan',\n",
       " 'Serdar Gökhan',\n",
       " 'Hülya Darcan',\n",
       " 'Kaan Taşaner',\n",
       " 'Esra Bilgiç',\n",
       " 'Osman Soykut',\n",
       " 'Serdar Deniz',\n",
       " 'Cengiz Coşkun',\n",
       " 'Reshad Strik',\n",
       " 'Hande Subaşı',\n",
       " 'Prashanth',\n",
       " 'Aishwarya Rai Bachchan',\n",
       " 'Sri Lakshmi',\n",
       " 'Nassar',\n",
       " 'Brooke Satchwell',\n",
       " 'Adam Sandler',\n",
       " 'Kevin James',\n",
       " 'Chris Rock',\n",
       " 'David Spade',\n",
       " 'Rob Schneider',\n",
       " 'Salma Hayek',\n",
       " 'Maria Bello',\n",
       " 'Maya Rudolph',\n",
       " 'Colin Quinn',\n",
       " 'Tim Meadows',\n",
       " 'Joyce Van Patten',\n",
       " 'Keri Russell',\n",
       " 'Josh Hamilton',\n",
       " 'J.K. Simmons',\n",
       " 'Dakota Goyo',\n",
       " 'Kadan Rockett',\n",
       " 'L.J. Benet',\n",
       " 'Rich Hutchman',\n",
       " 'Myndy Crist',\n",
       " 'Annie Thurman',\n",
       " 'Jake Brennan',\n",
       " 'Liam Hemsworth',\n",
       " 'Gary Oldman',\n",
       " 'Amber Heard',\n",
       " 'Harrison Ford',\n",
       " 'Lucas Till',\n",
       " 'Embeth Davidtz',\n",
       " 'Julian McMahon',\n",
       " 'Josh Holloway',\n",
       " 'Richard Dreyfuss',\n",
       " 'Angela Sarafyan',\n",
       " 'Asa Butterfield',\n",
       " 'Gillian Anderson',\n",
       " 'Ncuti Gatwa',\n",
       " 'Emma Mackey',\n",
       " 'Connor Swindells',\n",
       " 'Kedar Williams-Stirling',\n",
       " 'Alistair Petrie',\n",
       " 'Antti Pääkkönen',\n",
       " 'Heljä Heikkinen',\n",
       " 'Lynne Guaglione',\n",
       " 'Pasi Ruohonen',\n",
       " 'Rauno Ahonen',\n",
       " 'Billy Magnussen',\n",
       " 'Ron Yuan',\n",
       " 'Qu Jingjing',\n",
       " 'Terry Chen',\n",
       " 'Vanness Wu',\n",
       " 'Jin Xing',\n",
       " 'Philip Ng',\n",
       " 'Xia Yu',\n",
       " 'Yu Xia',\n",
       " 'Vatsal Dubey',\n",
       " 'Julie Tejwani',\n",
       " 'Rupa Bhimani',\n",
       " 'Jigna Bhardwaj',\n",
       " 'Rajesh Kava',\n",
       " 'Mousam',\n",
       " 'Swapnil',\n",
       " 'Yuri Lowenthal',\n",
       " 'Kimberly Brooks',\n",
       " 'Antony Del Rio',\n",
       " 'Trevor Devall',\n",
       " 'Ben Diskin',\n",
       " 'Grey Griffin',\n",
       " 'David Kaye',\n",
       " 'Tom Kenny',\n",
       " 'Judy Alice Lee',\n",
       " 'Roger Craig Smith',\n",
       " 'Fred Tatasciore',\n",
       " 'Roy Scheider',\n",
       " 'Robert Shaw',\n",
       " 'Richard Dreyfuss',\n",
       " 'Lorraine Gary',\n",
       " 'Murray Hamilton',\n",
       " 'Carl Gottlieb',\n",
       " 'Jeffrey Kramer',\n",
       " 'Susan Backlinie',\n",
       " 'Jonathan Filley',\n",
       " 'Ted Grossman',\n",
       " 'Roy Scheider',\n",
       " 'Lorraine Gary',\n",
       " 'Murray Hamilton',\n",
       " 'Joseph Mascolo',\n",
       " 'Jeffrey Kramer',\n",
       " 'Collin Wilcox Paxton',\n",
       " 'Ann Dusenberry',\n",
       " 'Mark Gruner',\n",
       " 'Barry Coe',\n",
       " 'Susan French',\n",
       " 'Dennis Quaid',\n",
       " 'Bess Armstrong',\n",
       " 'Simon MacCorkindale',\n",
       " 'Louis Gossett Jr.',\n",
       " 'John Putch',\n",
       " 'Lea Thompson',\n",
       " 'P.H. Moriarty',\n",
       " 'Dan Blasko',\n",
       " 'Liz Morris',\n",
       " 'Lisa Maurer',\n",
       " 'Lorraine Gary',\n",
       " 'Lance Guest',\n",
       " 'Mario Van Peebles',\n",
       " 'Karen Young',\n",
       " 'Michael Caine',\n",
       " 'Judith Barsi',\n",
       " 'Mitchell Anderson',\n",
       " 'Lynn Whitfield',\n",
       " 'Denzel Washington',\n",
       " 'Ryan Reynolds',\n",
       " 'Vera Farmiga',\n",
       " 'Brendan Gleeson',\n",
       " 'Sam Shepard',\n",
       " 'Rubén Blades',\n",
       " 'Nora Arnezeder',\n",
       " 'Robert Patrick',\n",
       " 'Liam Cunningham',\n",
       " 'Joel Kinnaman',\n",
       " 'Denzel Washington',\n",
       " 'Ethan Hawke',\n",
       " 'Scott Glenn',\n",
       " 'Tom Berenger',\n",
       " 'Harris Yulin',\n",
       " 'Raymond J. Barry',\n",
       " 'Cliff Curtis',\n",
       " 'Dr. Dre',\n",
       " 'Snoop Dogg',\n",
       " 'Macy Gray',\n",
       " 'Eva Mendes',\n",
       " 'Richard Mofe-Damijo',\n",
       " 'Dakore Akande',\n",
       " 'Bimbo Manuel',\n",
       " 'Blossom Chukwujekwu',\n",
       " 'Deyemi Okanlawon',\n",
       " 'Etim Effiong',\n",
       " 'Denola Grey',\n",
       " 'Duke Akintola',\n",
       " 'Eku Edewor',\n",
       " 'Ade Laoye',\n",
       " 'Anee Icha',\n",
       " 'Kevin Ushi',\n",
       " 'Jude Chukwuka',\n",
       " 'Amanda Afolabi',\n",
       " 'Kashmira Irani',\n",
       " 'Chandan Anand',\n",
       " 'Dinesh Mehta',\n",
       " 'Ankit Arora',\n",
       " 'Pushkar Goggiaa',\n",
       " 'Anjali Rana',\n",
       " 'Aarya DharmChand Kumar',\n",
       " 'Amit Behl',\n",
       " 'Maleeka Ghai',\n",
       " 'Kappei Yamaguchi',\n",
       " 'Satsuki Yukino',\n",
       " 'Mieko Harada',\n",
       " 'Koji Tsujitani',\n",
       " 'Houko Kuwashima',\n",
       " 'Kumiko Watanabe',\n",
       " 'Noriko Hidaka',\n",
       " 'Kenichi Ogata',\n",
       " 'Toshiyuki Morikawa',\n",
       " 'Izumi Ogami',\n",
       " 'Kappei Yamaguchi',\n",
       " 'Satsuki Yukino',\n",
       " 'Koji Tsujitani',\n",
       " 'Houko Kuwashima',\n",
       " 'Kumiko Watanabe',\n",
       " 'Ken Narita',\n",
       " 'Akio Otsuka',\n",
       " 'Kikuko Inoue',\n",
       " 'Kappei Yamaguchi',\n",
       " 'Satsuki Yukino',\n",
       " 'Koji Tsujitani',\n",
       " 'Houko Kuwashima',\n",
       " 'Kumiko Watanabe',\n",
       " 'Noriko Hidaka',\n",
       " 'Ken Narita',\n",
       " 'Cho',\n",
       " 'Mamiko Noto',\n",
       " 'Nobutoshi Canna',\n",
       " 'Kappei Yamaguchi',\n",
       " 'Satsuki Yukino',\n",
       " 'Koji Tsujitani',\n",
       " 'Houko Kuwashima',\n",
       " 'Kumiko Watanabe',\n",
       " 'Kenichi Ogata',\n",
       " 'Noriko Hidaka',\n",
       " 'Hisako Kyoda',\n",
       " 'Ken Narita',\n",
       " 'Tomokazu Seki',\n",
       " 'Nicole Byer',\n",
       " 'Jacques Torres',\n",
       " 'Junko Takeuchi',\n",
       " 'Chie Nakamura',\n",
       " 'Rikiya Koyama',\n",
       " 'Kazuhiko Inoue',\n",
       " 'Masaki Terasoma',\n",
       " 'Mie Sonozaki',\n",
       " 'Yuichi Nakamura',\n",
       " 'Kengo Kawanishi',\n",
       " 'Kosei Hirota',\n",
       " 'Masako Katsuki',\n",
       " 'Junko Takeuchi',\n",
       " 'Chie Nakamura',\n",
       " 'Noriaki Sugiyama',\n",
       " 'Unsho Ishizuka',\n",
       " 'Motoko Kumai',\n",
       " 'Kazuhiko Inoue',\n",
       " 'Rikiya Koyama',\n",
       " 'Showtaro Morikubo',\n",
       " 'Nana Mizuki',\n",
       " 'Satoshi Hino',\n",
       " 'Shinji Kawada',\n",
       " 'Junko Takeuchi',\n",
       " 'Chie Nakamura',\n",
       " 'Kazuhiko Inoue',\n",
       " 'Satoshi Hino',\n",
       " 'Showtaro Morikubo',\n",
       " 'Kentaro Ito',\n",
       " 'Ryoka Yuzuki',\n",
       " 'Kohsuke Toriumi',\n",
       " 'Nana Mizuki',\n",
       " 'Shinji Kawada',\n",
       " 'Yoichi Masukawa',\n",
       " 'Koichi Tochika',\n",
       " 'Yukari Tamura',\n",
       " 'Junko Takeuchi',\n",
       " 'Chie Nakamura',\n",
       " 'Yoichi Masukawa',\n",
       " 'Koichi Tochika',\n",
       " 'Ayumi Fujimura',\n",
       " 'Keisuke Oda',\n",
       " 'Daisuke Kishio',\n",
       " 'Fumiko Orikasa',\n",
       " 'Hidetoshi Nakamura',\n",
       " 'Tetsuya Kakihara',\n",
       " 'Kisho Taniyama',\n",
       " 'Miyuki Sawashiro',\n",
       " 'Katsuyuki Konishi',\n",
       " 'Masako Katsuki',\n",
       " 'Keiko Nemoto',\n",
       " 'Masashi Ebara',\n",
       " 'Kazuhiko Inoue',\n",
       " 'Showtaro Morikubo',\n",
       " 'Romi Park',\n",
       " 'Daisuke Ono',\n",
       " 'Seizo Kato',\n",
       " 'Junko Takeuchi',\n",
       " 'Chie Nakamura',\n",
       " 'Satoshi Hino',\n",
       " 'Rikiya Koyama',\n",
       " 'Nobuaki Fukuda',\n",
       " 'Kenji Hamada',\n",
       " 'Keiko Nemoto',\n",
       " 'Saori Hayami',\n",
       " 'Yumi Toma',\n",
       " 'Yuko Kobayashi',\n",
       " 'Fujiko Takimoto',\n",
       " 'Mutsumi Tamura',\n",
       " 'Mayuki Makiguchi',\n",
       " 'Toshiyuki Morikawa',\n",
       " 'Junko Takeuchi',\n",
       " 'Gamon Kaai',\n",
       " 'Chie Nakamura',\n",
       " 'Showtaro Morikubo',\n",
       " 'Akira Ishida',\n",
       " 'Yasuyuki Kase',\n",
       " 'Urara Takano',\n",
       " 'Sachiko Kojima',\n",
       " 'Houko Kuwashima',\n",
       " 'Takako Honda',\n",
       " 'Junko Takeuchi',\n",
       " 'Chie Nakamura',\n",
       " 'Yoichi Masukawa',\n",
       " 'Kazuhiko Inoue',\n",
       " 'Akio Otsuka',\n",
       " 'Kyousuke Ikeda',\n",
       " 'Marika Hayashi',\n",
       " 'Umeji Sasaki',\n",
       " 'Masashi Sugawara',\n",
       " 'Hisao Egawa',\n",
       " 'Junko Takeuchi',\n",
       " 'Noriaki Sugiyama',\n",
       " 'Chie Nakamura',\n",
       " 'Kazuhiko Inoue',\n",
       " 'Yuhko Kaida',\n",
       " 'Tsutomu Isobe',\n",
       " 'Hirotaka Suzuoki',\n",
       " 'Jun Karasawa',\n",
       " 'Harii Kaneko',\n",
       " 'Ikuo Nishikawa',\n",
       " 'Beth Chalmers',\n",
       " 'David Holt',\n",
       " 'Marcel McCalla',\n",
       " 'Teresa Gallagher',\n",
       " 'No Data',\n",
       " 'Mark-Paul Gosselaar',\n",
       " 'Tiffani Thiessen',\n",
       " 'Mario Lopez',\n",
       " 'Lark Voorhies',\n",
       " 'Elizabeth Berkley',\n",
       " 'Dustin Diamond',\n",
       " 'Dennis Haskins',\n",
       " 'No Data',\n",
       " 'Jack Whitehall',\n",
       " 'Michael Whitehall',\n",
       " 'Sola Sobowale',\n",
       " 'Adesua Etomi',\n",
       " 'Remilekun \"Reminisce\" Safaru',\n",
       " 'Tobechukwu \"iLLbliss\" Ejiofor',\n",
       " 'Toni Tones',\n",
       " 'Paul Sambo',\n",
       " 'Jide Kosoko',\n",
       " 'Sharon Ooja',\n",
       " 'Daiki Yamashita',\n",
       " 'Kohsuke Toriumi',\n",
       " 'Jun Fukushima',\n",
       " 'Hiroki Yasumoto',\n",
       " 'Showtaro Morikubo',\n",
       " 'Kentaro Ito',\n",
       " 'Daisuke Kishio',\n",
       " 'Yoshitsugu Matsuoka',\n",
       " 'Junichi Suwabe',\n",
       " 'Ayaka Suwa',\n",
       " 'Megumi Han',\n",
       " 'Tomoaki Maeno',\n",
       " 'Tsubasa Yonaga',\n",
       " 'Tetsuya Kakihara',\n",
       " 'Satoshi Hino',\n",
       " 'Hiroyuki Yoshino',\n",
       " 'Atsushi Abe',\n",
       " 'Koji Yusa',\n",
       " 'Kouki Miyata',\n",
       " 'Hiro Shimono',\n",
       " 'Wataru Hatano',\n",
       " 'Yuichi Nakamura',\n",
       " 'Kenji Nojima',\n",
       " 'Mamoru Miyano',\n",
       " 'Daisuke Ono',\n",
       " 'Yuma Uchida',\n",
       " 'Jun Fukuyama',\n",
       " 'Mary Elizabeth Winstead',\n",
       " 'Jun Kunimura',\n",
       " 'Woody Harrelson',\n",
       " 'Tadanobu Asano',\n",
       " 'Miyavi',\n",
       " 'Michiel Huisman',\n",
       " 'Miku Martineau',\n",
       " 'Tom Ellis',\n",
       " 'Lauren German',\n",
       " 'Kevin Alejandro',\n",
       " 'D.B. Woodside',\n",
       " 'Lesley-Ann Brandt',\n",
       " 'Scarlett Estevez',\n",
       " 'Rachael Harris',\n",
       " 'Aimee Garcia',\n",
       " 'Tricia Helfer',\n",
       " 'Tom Welling',\n",
       " 'Jeremiah W. Birkett',\n",
       " 'Pej Vahdat',\n",
       " 'Michael Gladis',\n",
       " 'Funke Akindele',\n",
       " 'Ayo Makun',\n",
       " 'Chioma Chukwuka Akpotha',\n",
       " 'Yemi Eberechi Alade',\n",
       " 'Blossom Chukwujekwu',\n",
       " 'Deyemi Okanlawon',\n",
       " 'Alexx Ekubo',\n",
       " 'Zubby Michael',\n",
       " 'Tina Mba',\n",
       " 'Femi Jacobs',\n",
       " 'Emma Roberts',\n",
       " 'Danielle Macdonald',\n",
       " 'Awkwafina',\n",
       " 'Eiza González',\n",
       " 'Milla Jovovich',\n",
       " 'Jeremy Irvine',\n",
       " 'Arnaud Valois',\n",
       " 'Daniel Horvath',\n",
       " 'No Data',\n",
       " 'Pauline Etienne',\n",
       " 'Laurent Capelluto',\n",
       " 'Stefano Cassetti',\n",
       " 'Mehmet Kurtuluş',\n",
       " 'Babetida Sadjo',\n",
       " 'Jan Bijvoet',\n",
       " 'Ksawery Szlenkier',\n",
       " 'Vincent Londez',\n",
       " 'Regina Bikkinina',\n",
       " 'Alba Gaïa Kraghede Bellugi',\n",
       " 'Nabil Mallat',\n",
       " 'Will Arnett',\n",
       " 'Ludacris',\n",
       " 'Natasha Lyonne',\n",
       " 'Stanley Tucci',\n",
       " 'Jordin Sparks',\n",
       " 'Gabriel Iglesias',\n",
       " \"Shaquille O'Neal\",\n",
       " 'Omar Chaparro',\n",
       " 'Alan Cumming',\n",
       " 'Andy Beckwith',\n",
       " 'Delia Sheppard',\n",
       " 'Kerry Shale',\n",
       " 'Michelle Buteau',\n",
       " 'Ronnie Van Zandt',\n",
       " 'Gary Rossington',\n",
       " 'Allen Collins',\n",
       " 'Leon Wilkeson',\n",
       " 'Bob Burns',\n",
       " 'Billy Powell',\n",
       " 'Ed King',\n",
       " 'Artimus Pyle',\n",
       " 'Steve Gaines',\n",
       " 'Johnny Van Zant',\n",
       " 'Jack Fisher',\n",
       " 'Tom Kenny',\n",
       " 'Amanda C. Miller',\n",
       " 'Kim Yarbrough',\n",
       " 'Keith Ferguson',\n",
       " 'Grey Griffin',\n",
       " 'Lily Rose Silver',\n",
       " 'Antonio Aakeel',\n",
       " 'Chipo Chung',\n",
       " 'Simon Foster',\n",
       " 'Teresa Gallagher',\n",
       " 'Simon Greenall',\n",
       " 'Kate Harbour',\n",
       " 'Paul Panting',\n",
       " 'Rob Rackstraw',\n",
       " 'William Vanderpuye',\n",
       " 'Helen Walsh',\n",
       " 'Keith Wickham',\n",
       " 'Andres Williams',\n",
       " 'Jo Wyatt',\n",
       " 'Julie Delpy',\n",
       " 'Elisabeth Shue',\n",
       " 'Sarah Jones',\n",
       " 'Alexia Landeau',\n",
       " 'Mathieu Demy',\n",
       " 'Troy Garity',\n",
       " 'Timm Sharp',\n",
       " 'Giovanni Ribisi',\n",
       " 'No Data',\n",
       " 'Robyn Slade',\n",
       " 'Kami Desilets',\n",
       " 'Antony Varghese',\n",
       " 'Reshma Rajan',\n",
       " 'Binny Rinky Benjamin',\n",
       " 'Vineeth Vishwam',\n",
       " 'Kichu Tellus',\n",
       " 'Sreekanth Dasan',\n",
       " 'Sarath Kumar',\n",
       " 'Tito Wilson',\n",
       " 'Anandhu',\n",
       " 'Bitto Davis',\n",
       " 'Sinoj Varghese',\n",
       " 'Peyton List',\n",
       " 'Karan Brar',\n",
       " 'Skai Jackson',\n",
       " 'Miranda May',\n",
       " 'Kevin G. Quinn',\n",
       " 'Nathan Arenas',\n",
       " 'Nina Lu',\n",
       " 'Mandy Grace',\n",
       " 'David de Vos',\n",
       " 'Donna Rusch',\n",
       " 'Devan Key',\n",
       " 'Isabella Mancuso',\n",
       " 'Ariana Guido',\n",
       " 'Aubri Ibrag',\n",
       " \"Sana'a Shaik\",\n",
       " 'Miah Madden',\n",
       " 'Mercy Cornwall',\n",
       " 'Georgia-May Davis',\n",
       " 'Ryan Harrison',\n",
       " 'Josh Heuston',\n",
       " 'Alexander Grant',\n",
       " 'Úrsula Corberó',\n",
       " 'Itziar Ituño',\n",
       " 'Álvaro Morte',\n",
       " 'Paco Tous',\n",
       " 'Enrique Arce',\n",
       " 'Pedro Alonso',\n",
       " 'María Pedraza',\n",
       " 'Alba Flores',\n",
       " 'Miguel Herrán',\n",
       " 'Jaime Lorente',\n",
       " 'Esther Acebo',\n",
       " 'Darko Peric',\n",
       " 'Kiti Mánver',\n",
       " 'Liam Mitchell',\n",
       " 'Dee Bradley Baker',\n",
       " 'Grey Griffin',\n",
       " 'Josh McDermitt',\n",
       " 'Kari Wahlgren',\n",
       " 'Judy Alice Lee',\n",
       " 'Ali Mawji',\n",
       " 'Madhuri Dixit',\n",
       " 'Shah Rukh Khan',\n",
       " 'Tinnu Anand',\n",
       " 'Johny Lever',\n",
       " 'Kalpana Iyer',\n",
       " 'Himani Shivpuri',\n",
       " 'Sudha Chandran',\n",
       " 'Beena',\n",
       " 'Kiran Kumar',\n",
       " 'Abbie Cornish',\n",
       " 'Ben Whishaw',\n",
       " 'Paul Schneider',\n",
       " 'Kerry Fox',\n",
       " 'Edie Martin',\n",
       " 'Thomas Brodie-Sangster',\n",
       " 'Claudie Blakley',\n",
       " 'Gerard Monaco',\n",
       " 'Antonia Campbell-Hughes',\n",
       " 'Samuel Roukin',\n",
       " 'Krrish Chhabria',\n",
       " 'Hetal Gada',\n",
       " 'Vipin Sharma',\n",
       " 'Gulfam Khan',\n",
       " 'Suresh Menon',\n",
       " 'Vijay Maurya',\n",
       " 'Rajiv Lakshman',\n",
       " 'Ninad Kamat',\n",
       " 'No Data',\n",
       " 'Akshay Oberoi',\n",
       " 'Pankaj Tripathi',\n",
       " 'Ragini Khanna',\n",
       " 'Aamir Bashir',\n",
       " 'Shalini Vatsa',\n",
       " 'Ashish Verma',\n",
       " 'Jon Allen',\n",
       " 'Kellen Goff',\n",
       " 'Joe Hernandez',\n",
       " 'Kaiji Tang',\n",
       " 'Meg Ryan',\n",
       " 'Mark Ruffalo',\n",
       " 'Jennifer Jason Leigh',\n",
       " 'Nick Damici',\n",
       " 'Sharrieff Pugh',\n",
       " 'Kevin Bacon',\n",
       " 'Yaani King Mondschein',\n",
       " 'Heather Litteer',\n",
       " 'No Data',\n",
       " 'Sean Hayes',\n",
       " 'Wanda Sykes',\n",
       " 'Laurie Metcalf',\n",
       " 'David Harbour',\n",
       " 'Gary Cole',\n",
       " 'Patti Harrison',\n",
       " 'Matt Rogers',\n",
       " 'Aadil Khan',\n",
       " 'Sadia Khateeb',\n",
       " 'Zain Khan Durrani',\n",
       " 'Priyanshu Chatterjee',\n",
       " 'Bhavna Chauhan',\n",
       " 'Ashwin Dhar',\n",
       " 'Farid Azad Khan',\n",
       " 'Saghar Sehrai',\n",
       " 'Hilary Duff',\n",
       " 'Chad Michael Murray',\n",
       " 'Jennifer Coolidge',\n",
       " 'Dan Byrd',\n",
       " 'Regina King',\n",
       " 'Julie Gonzalo',\n",
       " 'Lin Shaye',\n",
       " 'Madeline Zima',\n",
       " 'Andrea Avery',\n",
       " 'Mary Pat Gleason',\n",
       " 'Paul Rodriguez',\n",
       " 'Whip Hubley',\n",
       " 'Kevin Kilner',\n",
       " 'Erica Hubbard',\n",
       " 'Simon Helberg',\n",
       " 'Robert Redford',\n",
       " 'Jennifer Lopez',\n",
       " 'Morgan Freeman',\n",
       " 'Josh Lucas',\n",
       " 'Damian Lewis',\n",
       " 'Camryn Manheim',\n",
       " 'Becca Gardner',\n",
       " 'Lynda Boyd',\n",
       " 'Rob Hayter',\n",
       " 'P. Lynn Johnson',\n",
       " 'Harrison Ford',\n",
       " 'Rutger Hauer',\n",
       " 'Sean Young',\n",
       " 'Edward James Olmos',\n",
       " 'M. Emmet Walsh',\n",
       " 'Daryl Hannah',\n",
       " 'William Sanderson',\n",
       " 'Brion James',\n",
       " 'Joe Turkel',\n",
       " 'Joanna Cassidy',\n",
       " 'James Hong',\n",
       " 'Morgan Paull',\n",
       " 'Sharlto Copley',\n",
       " 'Hugh Jackman',\n",
       " 'Sigourney Weaver',\n",
       " 'Dev Patel',\n",
       " 'Ninja',\n",
       " 'Yo-Landi Visser',\n",
       " 'Jose Pablo Cantillo',\n",
       " 'Brandon Auret',\n",
       " 'Johnny Selema',\n",
       " 'Maurice Carpede',\n",
       " 'Harrison Ford',\n",
       " 'Willem Dafoe',\n",
       " 'Anne Archer',\n",
       " 'Joaquim de Almeida',\n",
       " 'Henry Czerny',\n",
       " 'Harris Yulin',\n",
       " 'Donald Moffat',\n",
       " 'Miguel Sandoval',\n",
       " 'Benjamin Bratt',\n",
       " 'Dean Jones',\n",
       " 'Thora Birch',\n",
       " 'James Earl Jones',\n",
       " 'Raymond Cruz',\n",
       " 'Sylvester Stallone',\n",
       " 'John Lithgow',\n",
       " 'Michael Rooker',\n",
       " 'Janine Turner',\n",
       " 'Rex Linn',\n",
       " 'Caroline Goodall',\n",
       " 'Leon',\n",
       " 'Craig Fairbrass',\n",
       " 'Ralph Waite',\n",
       " 'Max Perlich',\n",
       " 'Paul Winfield',\n",
       " 'Jude Law',\n",
       " 'Nicole Kidman',\n",
       " 'Renée Zellweger',\n",
       " 'Eileen Atkins',\n",
       " 'Brendan Gleeson',\n",
       " 'Philip Seymour Hoffman',\n",
       " 'Natalie Portman',\n",
       " 'Giovanni Ribisi',\n",
       " 'Donald Sutherland',\n",
       " 'Ray Winstone',\n",
       " 'Paul Hogan',\n",
       " 'Linda Kozlowski',\n",
       " 'Jere Burns',\n",
       " 'Jonathan Banks',\n",
       " 'Aida Turturro',\n",
       " 'Alec Wilson',\n",
       " 'Gerry Skilton',\n",
       " 'Steve Rackman',\n",
       " 'Serge Cockburn',\n",
       " 'Paul Rodriguez',\n",
       " 'Mark Adair-Rios',\n",
       " 'Tiriel Mora',\n",
       " 'Grant Piro',\n",
       " 'Mike Tyson',\n",
       " 'Channing Tatum',\n",
       " 'Amanda Seyfried',\n",
       " 'Richard Jenkins',\n",
       " 'Henry Thomas',\n",
       " 'D.J. Cotrona',\n",
       " 'Cullen Moss',\n",
       " 'Gavin McCulley',\n",
       " 'Jose Lucena Jr.',\n",
       " 'Keith Robinson',\n",
       " 'Scott Porter',\n",
       " 'Danny Aiello',\n",
       " 'Ossie Davis',\n",
       " 'Ruby Dee',\n",
       " 'Richard Edson',\n",
       " 'Giancarlo Esposito',\n",
       " 'Spike Lee',\n",
       " 'Bill Nunn',\n",
       " 'John Turturro',\n",
       " 'Paul Benjamin',\n",
       " 'Frankie Faison',\n",
       " 'Samuel L. Jackson',\n",
       " 'Rosie Perez',\n",
       " 'Martin Lawrence',\n",
       " 'Miguel Sandoval',\n",
       " 'Joaquín Furriel',\n",
       " 'Luis Ziembrowski',\n",
       " 'Guillermo Pfening',\n",
       " 'Mónica Lairana',\n",
       " 'Germán de Silva',\n",
       " 'Victoria Raposo',\n",
       " 'Andrea Garrote',\n",
       " 'Bruce Willis',\n",
       " 'Kellan Lutz',\n",
       " 'Gina Carano',\n",
       " 'D.B. Sweeney',\n",
       " 'Joshua Mikel',\n",
       " 'Steve Coulter',\n",
       " 'Dan Bilzerian',\n",
       " 'Heather Johansen',\n",
       " 'Hilary Swank',\n",
       " 'Patrick Dempsey',\n",
       " 'Scott Glenn',\n",
       " 'Imelda Staunton',\n",
       " 'April L. Hernandez',\n",
       " 'Mario',\n",
       " 'Kristin Herrera',\n",
       " 'Jaclyn Ngan',\n",
       " 'Sergio Montalvo',\n",
       " 'Jason Finn',\n",
       " 'Deance Wyatt',\n",
       " 'Vanetta Smith',\n",
       " 'Ryan Reynolds',\n",
       " 'Blake Lively',\n",
       " 'Peter Sarsgaard',\n",
       " 'Mark Strong',\n",
       " 'Tim Robbins',\n",
       " 'Jay O. Sanders',\n",
       " 'Taika Waititi',\n",
       " 'Angela Bassett',\n",
       " 'Christopher Reid',\n",
       " 'Christopher Martin',\n",
       " 'Robin Harris',\n",
       " 'Tisha Campbell',\n",
       " 'A.J. Johnson',\n",
       " 'Martin Lawrence',\n",
       " 'Paul Anthony',\n",
       " 'Bowlegged Lou',\n",
       " 'B-Fine',\n",
       " 'Edith Fields',\n",
       " 'Kelly Jo Minter',\n",
       " 'Clifton Powell',\n",
       " 'Verda Bridges',\n",
       " 'Christopher Reid',\n",
       " 'Christopher Martin',\n",
       " 'Martin Lawrence',\n",
       " 'Bowlegged Lou',\n",
       " 'Paul Anthony',\n",
       " 'B-Fine',\n",
       " 'Tisha Campbell',\n",
       " 'Kamron',\n",
       " 'Iman',\n",
       " 'Queen Latifah',\n",
       " 'Christopher Reid',\n",
       " 'Christopher Martin',\n",
       " 'Tisha Campbell',\n",
       " 'David Edwards',\n",
       " 'Angela Means',\n",
       " 'Ketty Lester',\n",
       " 'Bernie Mac',\n",
       " 'Michael Colyar',\n",
       " 'Chris Tucker',\n",
       " 'Khandi Alexander',\n",
       " 'Master P',\n",
       " 'Anthony Johnson',\n",
       " 'Gretchen Palmer',\n",
       " 'Frantz Turner',\n",
       " 'Richard Keats',\n",
       " 'Joe Estevez',\n",
       " 'William Knight',\n",
       " 'Anthony Boswell',\n",
       " \"Tommy 'Tiny' Lister\",\n",
       " 'Helen Martin',\n",
       " 'John Witherspoon',\n",
       " 'Mia X',\n",
       " 'Omar Epps',\n",
       " 'LL Cool J',\n",
       " 'Nia Long',\n",
       " 'Stanley Tucci',\n",
       " 'Pam Grier',\n",
       " 'Hill Harper',\n",
       " 'Jake Weber',\n",
       " 'David Patrick Kelly',\n",
       " 'Veronica Webb',\n",
       " 'Ron Canada',\n",
       " 'Robert LaSardo',\n",
       " 'Gano Grills',\n",
       " 'Ivonne Coll',\n",
       " 'Don Harvey',\n",
       " 'Mya',\n",
       " \"Nasir 'Nas' Jones\",\n",
       " 'Jermaine Dupri',\n",
       " 'Jay Chou',\n",
       " 'Anne Suzuki',\n",
       " 'Edison Chen',\n",
       " 'Anthony Wong Chau-sang',\n",
       " 'Shawn Yue',\n",
       " 'Chapman To',\n",
       " 'Jordan Chan',\n",
       " 'Kenny Bee',\n",
       " 'Jai Brooks',\n",
       " 'Luke Brooks',\n",
       " 'James Yammouni',\n",
       " 'Daniel Sahyounie',\n",
       " 'Beau Brooks',\n",
       " 'Lori Gardner',\n",
       " 'Kate Bristol',\n",
       " 'Billy Bob Thompson',\n",
       " 'Marc Thompson',\n",
       " 'Erica Schroeder',\n",
       " 'Kensho Ono',\n",
       " 'Yuki Ono',\n",
       " 'Chiwa Saito',\n",
       " 'Yoshimasa Hosoya',\n",
       " 'Hirofumi Nojima',\n",
       " 'Kenji Hamada',\n",
       " 'Takuya Eguchi',\n",
       " 'Soichiro Hoshi',\n",
       " 'Tatsuhisa Suzuki',\n",
       " 'Go Inoue',\n",
       " 'Daisuke Ono',\n",
       " 'Ryohei Kimura',\n",
       " 'Junichi Suwabe',\n",
       " 'Kazuya Nakai',\n",
       " 'Fumiko Orikasa',\n",
       " 'Kenichi Suzumura',\n",
       " 'Kisho Taniyama',\n",
       " 'Hiroshi Kamiya',\n",
       " 'David Bowie',\n",
       " 'Jennifer Connelly',\n",
       " 'Frank Oz',\n",
       " 'Kevin Clash',\n",
       " 'Anthony Asbury',\n",
       " 'Dave Goelz',\n",
       " 'Brian Henson',\n",
       " 'Ron Mueck',\n",
       " 'Karen Prell',\n",
       " 'Shari Weiser',\n",
       " 'Amanda Seyfried',\n",
       " 'Christopher Egan',\n",
       " 'Gael García Bernal',\n",
       " 'Vanessa Redgrave',\n",
       " 'Franco Nero',\n",
       " 'Luisa Ranieri',\n",
       " 'Marina Massironi',\n",
       " 'Milena Vukotic',\n",
       " 'Marcia DeBonis',\n",
       " 'Luisa De Santis',\n",
       " 'Lidia Biondi',\n",
       " 'Giordano Formenti',\n",
       " 'Chris Egan',\n",
       " 'Katie Douglas',\n",
       " 'Celina Martin',\n",
       " 'Peter Outerbridge',\n",
       " 'Sara Canning',\n",
       " 'Alexis Whelan',\n",
       " 'Amalia Williamson',\n",
       " 'Josette Halpert',\n",
       " 'Kiana Madeira',\n",
       " 'Nick Cannon',\n",
       " 'Christina Milian',\n",
       " 'Kenan Thompson',\n",
       " 'Kal Penn',\n",
       " 'Steve Harvey',\n",
       " 'Al Thompson',\n",
       " 'Ashley Monique Clark',\n",
       " 'Elimu Nelson',\n",
       " 'Nichole Robinson',\n",
       " 'Melissa Schuman',\n",
       " 'Miriam Chin Wah Yeung',\n",
       " 'Shawn Yue',\n",
       " 'Singh Hartihan Bitto',\n",
       " 'Isabel Chan',\n",
       " 'Cheung Tat-ming',\n",
       " 'Matt Chow',\n",
       " 'Chui Tien-you',\n",
       " 'Queenie Chu',\n",
       " 'Charmaine Fong',\n",
       " 'Vincent Kok',\n",
       " 'Gerald McRaney',\n",
       " 'Shanna Reed',\n",
       " 'Nicole Dubuc',\n",
       " 'Chelsea Hertford',\n",
       " 'Marisa Ryan',\n",
       " 'Matt Mulhern',\n",
       " 'Beverly Archer',\n",
       " 'Jon Cypher',\n",
       " 'Jack Nicholson',\n",
       " 'Glenn Close',\n",
       " 'Annette Bening',\n",
       " 'Pierce Brosnan',\n",
       " 'Danny DeVito',\n",
       " 'Martin Short',\n",
       " 'Sarah Jessica Parker',\n",
       " 'Michael J. Fox',\n",
       " 'Rod Steiger',\n",
       " 'Tom Jones',\n",
       " 'Lukas Haas',\n",
       " 'Natalie Portman',\n",
       " 'Chadwick Boseman',\n",
       " 'Josh Gad',\n",
       " 'Kate Hudson',\n",
       " 'Sterling K. Brown',\n",
       " 'Dan Stevens',\n",
       " 'James Cromwell',\n",
       " 'Keesha Sharp',\n",
       " 'Roger Guenveur Smith',\n",
       " 'Derrick Baskin',\n",
       " 'Barrett Doss',\n",
       " 'Ashton Kutcher',\n",
       " 'Tara Reid',\n",
       " 'Jeffrey Tambor',\n",
       " 'Andy Richter',\n",
       " 'Michael Madsen',\n",
       " 'Jon Abrahams',\n",
       " 'David Koechner',\n",
       " 'Carmen Electra',\n",
       " 'Kenan Thompson',\n",
       " 'Terence Stamp',\n",
       " 'Molly Shannon',\n",
       " ...]"
      ]
     },
     "execution_count": 1143,
     "metadata": {},
     "output_type": "execute_result"
    }
   ],
   "source": [
    "# 1- Top 10 atores/atrizes considerando todos os dados\n",
    "actor = df['cast']\n",
    "actor = actor.dropna()\n",
    "\n",
    "new = actor.str.split(', ').tolist()\n",
    "actor_list = sum(new, [])\n",
    "actor_list"
   ]
  },
  {
   "cell_type": "code",
   "execution_count": 1144,
   "metadata": {},
   "outputs": [
    {
     "data": {
      "text/plain": [
       "actors\n",
       "Anupam Kher         59\n",
       "Maggie Binkley      56\n",
       "Amitabh Bachchan    47\n",
       "Shah Rukh Khan      45\n",
       "Akshay Kumar        41\n",
       "Paresh Rawal        39\n",
       "Danny Trejo         38\n",
       "Naseeruddin Shah    38\n",
       "Nassar              36\n",
       "Om Puri             35\n",
       "dtype: int64"
      ]
     },
     "execution_count": 1144,
     "metadata": {},
     "output_type": "execute_result"
    }
   ],
   "source": [
    "df_actor = pd.DataFrame(actor_list, columns=['actors'])\n",
    "top_10_actor = df_actor.groupby(['actors']).size().sort_values(ascending=False)[1:11]\n",
    "top_10_actor"
   ]
  },
  {
   "cell_type": "code",
   "execution_count": 1145,
   "metadata": {},
   "outputs": [
    {
     "data": {
      "image/png": "[encoded data removed]",
      "text/plain": [
       "<Figure size 640x480 with 1 Axes>"
      ]
     },
     "metadata": {},
     "output_type": "display_data"
    }
   ],
   "source": [
    "# Gráfico Top 10 atores considerando as duas plataformas\n",
    "sns.barplot(x=top_10_actor, y=top_10_actor.index, orient='h', color = sns.xkcd_rgb['windows blue'])\n",
    "plt.title('Top 10 atores', fontsize=12, loc='left', pad=10)\n",
    "\n",
    "plt.tight_layout()\n",
    "plt.xlabel('')\n",
    "plt.ylabel('')\n",
    "plt.show()"
   ]
  },
  {
   "cell_type": "code",
   "execution_count": 1146,
   "metadata": {},
   "outputs": [
    {
     "data": {
      "image/png": "[encoded data removed]",
      "text/plain": [
       "<Figure size 640x480 with 1 Axes>"
      ]
     },
     "metadata": {},
     "output_type": "display_data"
    }
   ],
   "source": [
    "# 2- Top 5 países produtores de conteúdos considerando todos os dados e comparando as duas plataformas\n",
    "top_5_city = df.groupby(['country']).size().sort_values(ascending=False)[1:6]\n",
    "\n",
    "ax = sns.barplot(x=top_5_city.index, y=top_5_city, color = sns.xkcd_rgb['windows blue'])\n",
    "plt.title('Top 5 países produtores de conteúdo', fontsize=12, loc='left', pad=10)\n",
    "\n",
    "for i in ax.patches:\n",
    "    h = i.get_height()\n",
    "    ax.annotate('{:.0f}'.format(h),\n",
    "                  (i.get_x() + i.get_width()/2, h),\n",
    "                  ha='center',\n",
    "                  va='baseline',\n",
    "                  fontsize=10,\n",
    "                  color='black',\n",
    "                  xytext=(0, 2),\n",
    "                  textcoords='offset points')\n",
    "plt.tight_layout()\n",
    "\n",
    "for i in [\"top\", \"left\", \"right\"]:\n",
    "    ax.spines[i].set_visible(False)\n",
    "\n",
    "plt.yticks([])\n",
    "plt.xlabel('')\n",
    "plt.show()"
   ]
  },
  {
   "attachments": {},
   "cell_type": "markdown",
   "metadata": {},
   "source": [
    "Os EUA são os maiores produtores de conteúdco considerando as duas plataforma, seguido da India e Reino Unido."
   ]
  },
  {
   "cell_type": "code",
   "execution_count": 1147,
   "metadata": {},
   "outputs": [
    {
     "data": {
      "text/plain": [
       "[('United States', 2809),\n",
       " ('India', 972),\n",
       " ('United Kingdom', 418),\n",
       " ('Japan', 243),\n",
       " ('South Korea', 199)]"
      ]
     },
     "execution_count": 1147,
     "metadata": {},
     "output_type": "execute_result"
    }
   ],
   "source": [
    "countries = Counter(df_netflix.country)\n",
    "topcountries = countries.most_common()[0:5]\n",
    "topcountries"
   ]
  },
  {
   "cell_type": "code",
   "execution_count": 1148,
   "metadata": {},
   "outputs": [
    {
     "data": {
      "text/plain": [
       "[('United States', 253),\n",
       " ('India', 229),\n",
       " ('United Kingdom', 28),\n",
       " ('Canada', 16),\n",
       " ('United Kingdom, United States', 12)]"
      ]
     },
     "execution_count": 1148,
     "metadata": {},
     "output_type": "execute_result"
    }
   ],
   "source": [
    "acountry = Counter(df_amazon.country)\n",
    "atopcountry = acountry.most_common()[1:6]\n",
    "atopcountry"
   ]
  },
  {
   "cell_type": "code",
   "execution_count": 1149,
   "metadata": {},
   "outputs": [
    {
     "data": {
      "application/vnd.plotly.v1+json": {
       "config": {
        "plotlyServerURL": "https://plot.ly"
       },
       "data": [
        {
         "marker": {
          "color": "#D81F26"
         },
         "name": "Netflix",
         "type": "bar",
         "x": [
          "United States",
          "India",
          "United Kingdom",
          "Japan",
          "South Korea"
         ],
         "y": [
          2809,
          972,
          418,
          243,
          199
         ]
        },
        {
         "marker": {
          "color": "#00A8E1"
         },
         "name": "Amazon Prime",
         "type": "bar",
         "x": [
          "United States",
          "India",
          "United Kingdom",
          "Canada",
          "United Kingdom, United States"
         ],
         "y": [
          253,
          229,
          28,
          16,
          12
         ]
        }
       ],
       "layout": {
        "height": 600,
        "template": {
         "data": {
          "bar": [
           {
            "error_x": {
             "color": "#2a3f5f"
            },
            "error_y": {
             "color": "#2a3f5f"
            },
            "marker": {
             "line": {
              "color": "white",
              "width": 0.5
             },
             "pattern": {
              "fillmode": "overlay",
              "size": 10,
              "solidity": 0.2
             }
            },
            "type": "bar"
           }
          ],
          "barpolar": [
           {
            "marker": {
             "line": {
              "color": "white",
              "width": 0.5
             },
             "pattern": {
              "fillmode": "overlay",
              "size": 10,
              "solidity": 0.2
             }
            },
            "type": "barpolar"
           }
          ],
          "carpet": [
           {
            "aaxis": {
             "endlinecolor": "#2a3f5f",
             "gridcolor": "#C8D4E3",
             "linecolor": "#C8D4E3",
             "minorgridcolor": "#C8D4E3",
             "startlinecolor": "#2a3f5f"
            },
            "baxis": {
             "endlinecolor": "#2a3f5f",
             "gridcolor": "#C8D4E3",
             "linecolor": "#C8D4E3",
             "minorgridcolor": "#C8D4E3",
             "startlinecolor": "#2a3f5f"
            },
            "type": "carpet"
           }
          ],
          "choropleth": [
           {
            "colorbar": {
             "outlinewidth": 0,
             "ticks": ""
            },
            "type": "choropleth"
           }
          ],
          "contour": [
           {
            "colorbar": {
             "outlinewidth": 0,
             "ticks": ""
            },
            "colorscale": [
             [
              0,
              "#0d0887"
             ],
             [
              0.1111111111111111,
              "#46039f"
             ],
             [
              0.2222222222222222,
              "#7201a8"
             ],
             [
              0.3333333333333333,
              "#9c179e"
             ],
             [
              0.4444444444444444,
              "#bd3786"
             ],
             [
              0.5555555555555556,
              "#d8576b"
             ],
             [
              0.6666666666666666,
              "#ed7953"
             ],
             [
              0.7777777777777778,
              "#fb9f3a"
             ],
             [
              0.8888888888888888,
              "#fdca26"
             ],
             [
              1,
              "#f0f921"
             ]
            ],
            "type": "contour"
           }
          ],
          "contourcarpet": [
           {
            "colorbar": {
             "outlinewidth": 0,
             "ticks": ""
            },
            "type": "contourcarpet"
           }
          ],
          "heatmap": [
           {
            "colorbar": {
             "outlinewidth": 0,
             "ticks": ""
            },
            "colorscale": [
             [
              0,
              "#0d0887"
             ],
             [
              0.1111111111111111,
              "#46039f"
             ],
             [
              0.2222222222222222,
              "#7201a8"
             ],
             [
              0.3333333333333333,
              "#9c179e"
             ],
             [
              0.4444444444444444,
              "#bd3786"
             ],
             [
              0.5555555555555556,
              "#d8576b"
             ],
             [
              0.6666666666666666,
              "#ed7953"
             ],
             [
              0.7777777777777778,
              "#fb9f3a"
             ],
             [
              0.8888888888888888,
              "#fdca26"
             ],
             [
              1,
              "#f0f921"
             ]
            ],
            "type": "heatmap"
           }
          ],
          "heatmapgl": [
           {
            "colorbar": {
             "outlinewidth": 0,
             "ticks": ""
            },
            "colorscale": [
             [
              0,
              "#0d0887"
             ],
             [
              0.1111111111111111,
              "#46039f"
             ],
             [
              0.2222222222222222,
              "#7201a8"
             ],
             [
              0.3333333333333333,
              "#9c179e"
             ],
             [
              0.4444444444444444,
              "#bd3786"
             ],
             [
              0.5555555555555556,
              "#d8576b"
             ],
             [
              0.6666666666666666,
              "#ed7953"
             ],
             [
              0.7777777777777778,
              "#fb9f3a"
             ],
             [
              0.8888888888888888,
              "#fdca26"
             ],
             [
              1,
              "#f0f921"
             ]
            ],
            "type": "heatmapgl"
           }
          ],
          "histogram": [
           {
            "marker": {
             "pattern": {
              "fillmode": "overlay",
              "size": 10,
              "solidity": 0.2
             }
            },
            "type": "histogram"
           }
          ],
          "histogram2d": [
           {
            "colorbar": {
             "outlinewidth": 0,
             "ticks": ""
            },
            "colorscale": [
             [
              0,
              "#0d0887"
             ],
             [
              0.1111111111111111,
              "#46039f"
             ],
             [
              0.2222222222222222,
              "#7201a8"
             ],
             [
              0.3333333333333333,
              "#9c179e"
             ],
             [
              0.4444444444444444,
              "#bd3786"
             ],
             [
              0.5555555555555556,
              "#d8576b"
             ],
             [
              0.6666666666666666,
              "#ed7953"
             ],
             [
              0.7777777777777778,
              "#fb9f3a"
             ],
             [
              0.8888888888888888,
              "#fdca26"
             ],
             [
              1,
              "#f0f921"
             ]
            ],
            "type": "histogram2d"
           }
          ],
          "histogram2dcontour": [
           {
            "colorbar": {
             "outlinewidth": 0,
             "ticks": ""
            },
            "colorscale": [
             [
              0,
              "#0d0887"
             ],
             [
              0.1111111111111111,
              "#46039f"
             ],
             [
              0.2222222222222222,
              "#7201a8"
             ],
             [
              0.3333333333333333,
              "#9c179e"
             ],
             [
              0.4444444444444444,
              "#bd3786"
             ],
             [
              0.5555555555555556,
              "#d8576b"
             ],
             [
              0.6666666666666666,
              "#ed7953"
             ],
             [
              0.7777777777777778,
              "#fb9f3a"
             ],
             [
              0.8888888888888888,
              "#fdca26"
             ],
             [
              1,
              "#f0f921"
             ]
            ],
            "type": "histogram2dcontour"
           }
          ],
          "mesh3d": [
           {
            "colorbar": {
             "outlinewidth": 0,
             "ticks": ""
            },
            "type": "mesh3d"
           }
          ],
          "parcoords": [
           {
            "line": {
             "colorbar": {
              "outlinewidth": 0,
              "ticks": ""
             }
            },
            "type": "parcoords"
           }
          ],
          "pie": [
           {
            "automargin": true,
            "type": "pie"
           }
          ],
          "scatter": [
           {
            "fillpattern": {
             "fillmode": "overlay",
             "size": 10,
             "solidity": 0.2
            },
            "type": "scatter"
           }
          ],
          "scatter3d": [
           {
            "line": {
             "colorbar": {
              "outlinewidth": 0,
              "ticks": ""
             }
            },
            "marker": {
             "colorbar": {
              "outlinewidth": 0,
              "ticks": ""
             }
            },
            "type": "scatter3d"
           }
          ],
          "scattercarpet": [
           {
            "marker": {
             "colorbar": {
              "outlinewidth": 0,
              "ticks": ""
             }
            },
            "type": "scattercarpet"
           }
          ],
          "scattergeo": [
           {
            "marker": {
             "colorbar": {
              "outlinewidth": 0,
              "ticks": ""
             }
            },
            "type": "scattergeo"
           }
          ],
          "scattergl": [
           {
            "marker": {
             "colorbar": {
              "outlinewidth": 0,
              "ticks": ""
             }
            },
            "type": "scattergl"
           }
          ],
          "scattermapbox": [
           {
            "marker": {
             "colorbar": {
              "outlinewidth": 0,
              "ticks": ""
             }
            },
            "type": "scattermapbox"
           }
          ],
          "scatterpolar": [
           {
            "marker": {
             "colorbar": {
              "outlinewidth": 0,
              "ticks": ""
             }
            },
            "type": "scatterpolar"
           }
          ],
          "scatterpolargl": [
           {
            "marker": {
             "colorbar": {
              "outlinewidth": 0,
              "ticks": ""
             }
            },
            "type": "scatterpolargl"
           }
          ],
          "scatterternary": [
           {
            "marker": {
             "colorbar": {
              "outlinewidth": 0,
              "ticks": ""
             }
            },
            "type": "scatterternary"
           }
          ],
          "surface": [
           {
            "colorbar": {
             "outlinewidth": 0,
             "ticks": ""
            },
            "colorscale": [
             [
              0,
              "#0d0887"
             ],
             [
              0.1111111111111111,
              "#46039f"
             ],
             [
              0.2222222222222222,
              "#7201a8"
             ],
             [
              0.3333333333333333,
              "#9c179e"
             ],
             [
              0.4444444444444444,
              "#bd3786"
             ],
             [
              0.5555555555555556,
              "#d8576b"
             ],
             [
              0.6666666666666666,
              "#ed7953"
             ],
             [
              0.7777777777777778,
              "#fb9f3a"
             ],
             [
              0.8888888888888888,
              "#fdca26"
             ],
             [
              1,
              "#f0f921"
             ]
            ],
            "type": "surface"
           }
          ],
          "table": [
           {
            "cells": {
             "fill": {
              "color": "#EBF0F8"
             },
             "line": {
              "color": "white"
             }
            },
            "header": {
             "fill": {
              "color": "#C8D4E3"
             },
             "line": {
              "color": "white"
             }
            },
            "type": "table"
           }
          ]
         },
         "layout": {
          "annotationdefaults": {
           "arrowcolor": "#2a3f5f",
           "arrowhead": 0,
           "arrowwidth": 1
          },
          "autotypenumbers": "strict",
          "coloraxis": {
           "colorbar": {
            "outlinewidth": 0,
            "ticks": ""
           }
          },
          "colorscale": {
           "diverging": [
            [
             0,
             "#8e0152"
            ],
            [
             0.1,
             "#c51b7d"
            ],
            [
             0.2,
             "#de77ae"
            ],
            [
             0.3,
             "#f1b6da"
            ],
            [
             0.4,
             "#fde0ef"
            ],
            [
             0.5,
             "#f7f7f7"
            ],
            [
             0.6,
             "#e6f5d0"
            ],
            [
             0.7,
             "#b8e186"
            ],
            [
             0.8,
             "#7fbc41"
            ],
            [
             0.9,
             "#4d9221"
            ],
            [
             1,
             "#276419"
            ]
           ],
           "sequential": [
            [
             0,
             "#0d0887"
            ],
            [
             0.1111111111111111,
             "#46039f"
            ],
            [
             0.2222222222222222,
             "#7201a8"
            ],
            [
             0.3333333333333333,
             "#9c179e"
            ],
            [
             0.4444444444444444,
             "#bd3786"
            ],
            [
             0.5555555555555556,
             "#d8576b"
            ],
            [
             0.6666666666666666,
             "#ed7953"
            ],
            [
             0.7777777777777778,
             "#fb9f3a"
            ],
            [
             0.8888888888888888,
             "#fdca26"
            ],
            [
             1,
             "#f0f921"
            ]
           ],
           "sequentialminus": [
            [
             0,
             "#0d0887"
            ],
            [
             0.1111111111111111,
             "#46039f"
            ],
            [
             0.2222222222222222,
             "#7201a8"
            ],
            [
             0.3333333333333333,
             "#9c179e"
            ],
            [
             0.4444444444444444,
             "#bd3786"
            ],
            [
             0.5555555555555556,
             "#d8576b"
            ],
            [
             0.6666666666666666,
             "#ed7953"
            ],
            [
             0.7777777777777778,
             "#fb9f3a"
            ],
            [
             0.8888888888888888,
             "#fdca26"
            ],
            [
             1,
             "#f0f921"
            ]
           ]
          },
          "colorway": [
           "#636efa",
           "#EF553B",
           "#00cc96",
           "#ab63fa",
           "#FFA15A",
           "#19d3f3",
           "#FF6692",
           "#B6E880",
           "#FF97FF",
           "#FECB52"
          ],
          "font": {
           "color": "#2a3f5f"
          },
          "geo": {
           "bgcolor": "white",
           "lakecolor": "white",
           "landcolor": "white",
           "showlakes": true,
           "showland": true,
           "subunitcolor": "#C8D4E3"
          },
          "hoverlabel": {
           "align": "left"
          },
          "hovermode": "closest",
          "mapbox": {
           "style": "light"
          },
          "paper_bgcolor": "white",
          "plot_bgcolor": "white",
          "polar": {
           "angularaxis": {
            "gridcolor": "#EBF0F8",
            "linecolor": "#EBF0F8",
            "ticks": ""
           },
           "bgcolor": "white",
           "radialaxis": {
            "gridcolor": "#EBF0F8",
            "linecolor": "#EBF0F8",
            "ticks": ""
           }
          },
          "scene": {
           "xaxis": {
            "backgroundcolor": "white",
            "gridcolor": "#DFE8F3",
            "gridwidth": 2,
            "linecolor": "#EBF0F8",
            "showbackground": true,
            "ticks": "",
            "zerolinecolor": "#EBF0F8"
           },
           "yaxis": {
            "backgroundcolor": "white",
            "gridcolor": "#DFE8F3",
            "gridwidth": 2,
            "linecolor": "#EBF0F8",
            "showbackground": true,
            "ticks": "",
            "zerolinecolor": "#EBF0F8"
           },
           "zaxis": {
            "backgroundcolor": "white",
            "gridcolor": "#DFE8F3",
            "gridwidth": 2,
            "linecolor": "#EBF0F8",
            "showbackground": true,
            "ticks": "",
            "zerolinecolor": "#EBF0F8"
           }
          },
          "shapedefaults": {
           "line": {
            "color": "#2a3f5f"
           }
          },
          "ternary": {
           "aaxis": {
            "gridcolor": "#DFE8F3",
            "linecolor": "#A2B1C6",
            "ticks": ""
           },
           "baxis": {
            "gridcolor": "#DFE8F3",
            "linecolor": "#A2B1C6",
            "ticks": ""
           },
           "bgcolor": "white",
           "caxis": {
            "gridcolor": "#DFE8F3",
            "linecolor": "#A2B1C6",
            "ticks": ""
           }
          },
          "title": {
           "x": 0.05
          },
          "xaxis": {
           "automargin": true,
           "gridcolor": "#EBF0F8",
           "linecolor": "#EBF0F8",
           "ticks": "",
           "title": {
            "standoff": 15
           },
           "zerolinecolor": "#EBF0F8",
           "zerolinewidth": 2
          },
          "yaxis": {
           "automargin": true,
           "gridcolor": "#EBF0F8",
           "linecolor": "#EBF0F8",
           "ticks": "",
           "title": {
            "standoff": 15
           },
           "zerolinecolor": "#EBF0F8",
           "zerolinewidth": 2
          }
         }
        },
        "title": {
         "text": "Top 5 países produtores de conteúdo - Amazon Prime x Netflix"
        },
        "width": 900,
        "xaxis": {
         "anchor": "y",
         "domain": [
          0,
          1
         ]
        },
        "yaxis": {
         "anchor": "x",
         "domain": [
          0,
          1
         ]
        }
       }
      }
     },
     "metadata": {},
     "output_type": "display_data"
    }
   ],
   "source": [
    "# Gráfico Top 5 comparando as duas plataformas\n",
    "\n",
    "custom_colors = ['#00A8E1', '#D81F26']\n",
    "customPalette = sns.set_palette(sns.color_palette(custom_colors))\n",
    "\n",
    "fig = make_subplots(rows=1, cols=1)\n",
    "fig.add_trace(go.Bar(x = [i[0] for i in topcountries],y = [i[1] for i in topcountries], name = 'Netflix', marker_color='#D81F26'))\n",
    "fig.add_trace(go.Bar(x = [i[0] for i in atopcountry],y = [i[1] for i in atopcountry], name = 'Amazon Prime', marker_color='#00A8E1'))\n",
    "fig.update_layout(height=600, width=900, title_text='Top 5 países produtores de conteúdo - Amazon Prime x Netflix', template='plotly_white')"
   ]
  },
  {
   "attachments": {},
   "cell_type": "markdown",
   "metadata": {},
   "source": [
    "Faz sentido que os EUA produzam mais conteúdo, afinal, a Netflix é uma empresa americana."
   ]
  },
  {
   "cell_type": "code",
   "execution_count": 1150,
   "metadata": {},
   "outputs": [
    {
     "data": {
      "image/png": "[encoded data removed]",
      "text/plain": [
       "<Figure size 640x480 with 1 Axes>"
      ]
     },
     "metadata": {},
     "output_type": "display_data"
    }
   ],
   "source": [
    "# 3- Mês no qual há mais adições de filmes na plataforma Netflix\n",
    "add = df[df['plataforma'] == 'Netflix']\n",
    "\n",
    "movie_add = add[add['type'] == 'Movie'].groupby(['month_added']).size().sort_values(ascending=False)\n",
    "\n",
    "sns.barplot(x=movie_add, y=movie_add.index, color = '#D81F26', orient='h')\n",
    "plt.title('Mês com mais adições de filmes - Netflix', fontsize=12, loc='left', pad=10)\n",
    "\n",
    "plt.tight_layout()\n",
    "plt.xlabel('')\n",
    "plt.ylabel('')\n",
    "plt.show()"
   ]
  },
  {
   "cell_type": "code",
   "execution_count": 1151,
   "metadata": {},
   "outputs": [
    {
     "name": "stdout",
     "output_type": "stream",
     "text": [
      "No dataset possui 442 filmes listados como comédia.\n"
     ]
    }
   ],
   "source": [
    "# 4- Quantidade de filmes listados como comédia\n",
    "comedy_filme = df[(df.type == 'Movie') & (df.listed_in == 'Comedy')].shape[0]\n",
    "print('No dataset possui {} filmes listados como comédia.'.format(comedy_filme))"
   ]
  },
  {
   "cell_type": "code",
   "execution_count": 1152,
   "metadata": {},
   "outputs": [
    {
     "data": {
      "text/html": [
       "<div>\n",
       "<style scoped>\n",
       "    .dataframe tbody tr th:only-of-type {\n",
       "        vertical-align: middle;\n",
       "    }\n",
       "\n",
       "    .dataframe tbody tr th {\n",
       "        vertical-align: top;\n",
       "    }\n",
       "\n",
       "    .dataframe thead th {\n",
       "        text-align: right;\n",
       "    }\n",
       "</style>\n",
       "<table border=\"1\" class=\"dataframe\">\n",
       "  <thead>\n",
       "    <tr style=\"text-align: right;\">\n",
       "      <th></th>\n",
       "      <th>genero</th>\n",
       "    </tr>\n",
       "  </thead>\n",
       "  <tbody>\n",
       "    <tr>\n",
       "      <th>0</th>\n",
       "      <td>Documentaries</td>\n",
       "    </tr>\n",
       "    <tr>\n",
       "      <th>1</th>\n",
       "      <td>Dramas</td>\n",
       "    </tr>\n",
       "    <tr>\n",
       "      <th>2</th>\n",
       "      <td>Independent Movies</td>\n",
       "    </tr>\n",
       "    <tr>\n",
       "      <th>3</th>\n",
       "      <td>International Movies</td>\n",
       "    </tr>\n",
       "    <tr>\n",
       "      <th>4</th>\n",
       "      <td>Comedies</td>\n",
       "    </tr>\n",
       "    <tr>\n",
       "      <th>10</th>\n",
       "      <td>Romantic Movies</td>\n",
       "    </tr>\n",
       "    <tr>\n",
       "      <th>12</th>\n",
       "      <td>Horror Movies</td>\n",
       "    </tr>\n",
       "    <tr>\n",
       "      <th>13</th>\n",
       "      <td>Sci-Fi &amp; Fantasy</td>\n",
       "    </tr>\n",
       "    <tr>\n",
       "      <th>14</th>\n",
       "      <td>Thrillers</td>\n",
       "    </tr>\n",
       "    <tr>\n",
       "      <th>15</th>\n",
       "      <td>Action &amp; Adventure</td>\n",
       "    </tr>\n",
       "    <tr>\n",
       "      <th>18</th>\n",
       "      <td>Classic Movies</td>\n",
       "    </tr>\n",
       "    <tr>\n",
       "      <th>33</th>\n",
       "      <td>Anime Features</td>\n",
       "    </tr>\n",
       "    <tr>\n",
       "      <th>78</th>\n",
       "      <td>Children &amp; Family Movies</td>\n",
       "    </tr>\n",
       "    <tr>\n",
       "      <th>81</th>\n",
       "      <td>Music &amp; Musicals</td>\n",
       "    </tr>\n",
       "    <tr>\n",
       "      <th>83</th>\n",
       "      <td>Sports Movies</td>\n",
       "    </tr>\n",
       "    <tr>\n",
       "      <th>110</th>\n",
       "      <td>Cult Movies</td>\n",
       "    </tr>\n",
       "    <tr>\n",
       "      <th>178</th>\n",
       "      <td>Faith &amp; Spirituality</td>\n",
       "    </tr>\n",
       "    <tr>\n",
       "      <th>182</th>\n",
       "      <td>LGBTQ Movies</td>\n",
       "    </tr>\n",
       "    <tr>\n",
       "      <th>280</th>\n",
       "      <td>Stand-Up Comedy</td>\n",
       "    </tr>\n",
       "    <tr>\n",
       "      <th>328</th>\n",
       "      <td>Movies</td>\n",
       "    </tr>\n",
       "    <tr>\n",
       "      <th>12328</th>\n",
       "      <td>Comedy</td>\n",
       "    </tr>\n",
       "    <tr>\n",
       "      <th>12329</th>\n",
       "      <td>Drama</td>\n",
       "    </tr>\n",
       "    <tr>\n",
       "      <th>12331</th>\n",
       "      <td>International</td>\n",
       "    </tr>\n",
       "    <tr>\n",
       "      <th>12332</th>\n",
       "      <td>Action</td>\n",
       "    </tr>\n",
       "    <tr>\n",
       "      <th>12334</th>\n",
       "      <td>Suspense</td>\n",
       "    </tr>\n",
       "    <tr>\n",
       "      <th>12335</th>\n",
       "      <td>Documentary</td>\n",
       "    </tr>\n",
       "    <tr>\n",
       "      <th>12337</th>\n",
       "      <td>Fantasy</td>\n",
       "    </tr>\n",
       "    <tr>\n",
       "      <th>12339</th>\n",
       "      <td>Kids</td>\n",
       "    </tr>\n",
       "    <tr>\n",
       "      <th>12341</th>\n",
       "      <td>Special Interest</td>\n",
       "    </tr>\n",
       "    <tr>\n",
       "      <th>12344</th>\n",
       "      <td>Science Fiction</td>\n",
       "    </tr>\n",
       "    <tr>\n",
       "      <th>12347</th>\n",
       "      <td>Adventure</td>\n",
       "    </tr>\n",
       "    <tr>\n",
       "      <th>12350</th>\n",
       "      <td>Horror</td>\n",
       "    </tr>\n",
       "    <tr>\n",
       "      <th>12353</th>\n",
       "      <td>Sports</td>\n",
       "    </tr>\n",
       "    <tr>\n",
       "      <th>12360</th>\n",
       "      <td>Arts</td>\n",
       "    </tr>\n",
       "    <tr>\n",
       "      <th>12361</th>\n",
       "      <td>Entertainment</td>\n",
       "    </tr>\n",
       "    <tr>\n",
       "      <th>12362</th>\n",
       "      <td>and Culture</td>\n",
       "    </tr>\n",
       "    <tr>\n",
       "      <th>12368</th>\n",
       "      <td>Music Videos and Concerts</td>\n",
       "    </tr>\n",
       "    <tr>\n",
       "      <th>12373</th>\n",
       "      <td>Fitness</td>\n",
       "    </tr>\n",
       "    <tr>\n",
       "      <th>12375</th>\n",
       "      <td>Faith and Spirituality</td>\n",
       "    </tr>\n",
       "    <tr>\n",
       "      <th>12397</th>\n",
       "      <td>Military and War</td>\n",
       "    </tr>\n",
       "    <tr>\n",
       "      <th>12398</th>\n",
       "      <td>Western</td>\n",
       "    </tr>\n",
       "    <tr>\n",
       "      <th>12408</th>\n",
       "      <td>LGBTQ</td>\n",
       "    </tr>\n",
       "    <tr>\n",
       "      <th>12474</th>\n",
       "      <td>Animation</td>\n",
       "    </tr>\n",
       "    <tr>\n",
       "      <th>12483</th>\n",
       "      <td>Young Adult Audience</td>\n",
       "    </tr>\n",
       "    <tr>\n",
       "      <th>12487</th>\n",
       "      <td>Arthouse</td>\n",
       "    </tr>\n",
       "    <tr>\n",
       "      <th>12500</th>\n",
       "      <td>Anime</td>\n",
       "    </tr>\n",
       "    <tr>\n",
       "      <th>12506</th>\n",
       "      <td>Romance</td>\n",
       "    </tr>\n",
       "    <tr>\n",
       "      <th>12792</th>\n",
       "      <td>Talk Show and Variety</td>\n",
       "    </tr>\n",
       "    <tr>\n",
       "      <th>13870</th>\n",
       "      <td>Historical</td>\n",
       "    </tr>\n",
       "    <tr>\n",
       "      <th>19489</th>\n",
       "      <td>Unscripted</td>\n",
       "    </tr>\n",
       "  </tbody>\n",
       "</table>\n",
       "</div>"
      ],
      "text/plain": [
       "                          genero\n",
       "0                  Documentaries\n",
       "1                         Dramas\n",
       "2             Independent Movies\n",
       "3           International Movies\n",
       "4                       Comedies\n",
       "10               Romantic Movies\n",
       "12                 Horror Movies\n",
       "13              Sci-Fi & Fantasy\n",
       "14                     Thrillers\n",
       "15            Action & Adventure\n",
       "18                Classic Movies\n",
       "33                Anime Features\n",
       "78      Children & Family Movies\n",
       "81              Music & Musicals\n",
       "83                 Sports Movies\n",
       "110                  Cult Movies\n",
       "178         Faith & Spirituality\n",
       "182                 LGBTQ Movies\n",
       "280              Stand-Up Comedy\n",
       "328                       Movies\n",
       "12328                     Comedy\n",
       "12329                      Drama\n",
       "12331              International\n",
       "12332                     Action\n",
       "12334                   Suspense\n",
       "12335                Documentary\n",
       "12337                    Fantasy\n",
       "12339                       Kids\n",
       "12341           Special Interest\n",
       "12344            Science Fiction\n",
       "12347                  Adventure\n",
       "12350                     Horror\n",
       "12353                     Sports\n",
       "12360                       Arts\n",
       "12361              Entertainment\n",
       "12362                and Culture\n",
       "12368  Music Videos and Concerts\n",
       "12373                    Fitness\n",
       "12375     Faith and Spirituality\n",
       "12397           Military and War\n",
       "12398                    Western\n",
       "12408                      LGBTQ\n",
       "12474                  Animation\n",
       "12483       Young Adult Audience\n",
       "12487                   Arthouse\n",
       "12500                      Anime\n",
       "12506                    Romance\n",
       "12792      Talk Show and Variety\n",
       "13870                 Historical\n",
       "19489                 Unscripted"
      ]
     },
     "execution_count": 1152,
     "metadata": {},
     "output_type": "execute_result"
    }
   ],
   "source": [
    "# 5- Lista de todos os gêneros de filmes\n",
    "listed_in_filme = df[(df.type == 'Movie')]['listed_in']\n",
    "new = listed_in_filme.str.split(', ').to_list()\n",
    "\n",
    "listed = sum(new, [])\n",
    "\n",
    "# Eliminar palavras duplicadas em uma lista\n",
    "resultantList = []\n",
    " \n",
    "for element in listed:\n",
    "    if element not in resultantList:\n",
    "        resultantList.append(element)\n",
    "\n",
    "\n",
    "resultantList = pd.DataFrame(listed, columns = ['genero'])\n",
    "resultantList = resultantList.drop_duplicates()\n",
    "resultantList"
   ]
  },
  {
   "cell_type": "code",
   "execution_count": 1153,
   "metadata": {},
   "outputs": [
    {
     "data": {
      "application/vnd.plotly.v1+json": {
       "config": {
        "plotlyServerURL": "https://plot.ly"
       },
       "data": [
        {
         "cells": {
          "values": [
           [
            "Documentaries",
            "Dramas",
            "Independent Movies",
            "International Movies",
            "Comedies",
            "Romantic Movies",
            "Horror Movies",
            "Sci-Fi & Fantasy",
            "Thrillers",
            "Action & Adventure",
            "Classic Movies",
            "Anime Features",
            "Children & Family Movies",
            "Music & Musicals",
            "Sports Movies",
            "Cult Movies",
            "Faith & Spirituality",
            "LGBTQ Movies",
            "Stand-Up Comedy",
            "Movies",
            "Comedy",
            "Drama",
            "International",
            "Action",
            "Suspense",
            "Documentary",
            "Fantasy",
            "Kids",
            "Special Interest",
            "Science Fiction",
            "Adventure",
            "Horror",
            "Sports",
            "Arts",
            "Entertainment",
            "and Culture",
            "Music Videos and Concerts",
            "Fitness",
            "Faith and Spirituality",
            "Military and War",
            "Western",
            "LGBTQ",
            "Animation",
            "Young Adult Audience",
            "Arthouse",
            "Anime",
            "Romance",
            "Talk Show and Variety",
            "Historical",
            "Unscripted"
           ]
          ]
         },
         "header": {
          "values": [
           "Lista de todos os gêneros de filmes"
          ]
         },
         "type": "table"
        }
       ],
       "layout": {
        "template": {
         "data": {
          "bar": [
           {
            "error_x": {
             "color": "#2a3f5f"
            },
            "error_y": {
             "color": "#2a3f5f"
            },
            "marker": {
             "line": {
              "color": "#E5ECF6",
              "width": 0.5
             },
             "pattern": {
              "fillmode": "overlay",
              "size": 10,
              "solidity": 0.2
             }
            },
            "type": "bar"
           }
          ],
          "barpolar": [
           {
            "marker": {
             "line": {
              "color": "#E5ECF6",
              "width": 0.5
             },
             "pattern": {
              "fillmode": "overlay",
              "size": 10,
              "solidity": 0.2
             }
            },
            "type": "barpolar"
           }
          ],
          "carpet": [
           {
            "aaxis": {
             "endlinecolor": "#2a3f5f",
             "gridcolor": "white",
             "linecolor": "white",
             "minorgridcolor": "white",
             "startlinecolor": "#2a3f5f"
            },
            "baxis": {
             "endlinecolor": "#2a3f5f",
             "gridcolor": "white",
             "linecolor": "white",
             "minorgridcolor": "white",
             "startlinecolor": "#2a3f5f"
            },
            "type": "carpet"
           }
          ],
          "choropleth": [
           {
            "colorbar": {
             "outlinewidth": 0,
             "ticks": ""
            },
            "type": "choropleth"
           }
          ],
          "contour": [
           {
            "colorbar": {
             "outlinewidth": 0,
             "ticks": ""
            },
            "colorscale": [
             [
              0,
              "#0d0887"
             ],
             [
              0.1111111111111111,
              "#46039f"
             ],
             [
              0.2222222222222222,
              "#7201a8"
             ],
             [
              0.3333333333333333,
              "#9c179e"
             ],
             [
              0.4444444444444444,
              "#bd3786"
             ],
             [
              0.5555555555555556,
              "#d8576b"
             ],
             [
              0.6666666666666666,
              "#ed7953"
             ],
             [
              0.7777777777777778,
              "#fb9f3a"
             ],
             [
              0.8888888888888888,
              "#fdca26"
             ],
             [
              1,
              "#f0f921"
             ]
            ],
            "type": "contour"
           }
          ],
          "contourcarpet": [
           {
            "colorbar": {
             "outlinewidth": 0,
             "ticks": ""
            },
            "type": "contourcarpet"
           }
          ],
          "heatmap": [
           {
            "colorbar": {
             "outlinewidth": 0,
             "ticks": ""
            },
            "colorscale": [
             [
              0,
              "#0d0887"
             ],
             [
              0.1111111111111111,
              "#46039f"
             ],
             [
              0.2222222222222222,
              "#7201a8"
             ],
             [
              0.3333333333333333,
              "#9c179e"
             ],
             [
              0.4444444444444444,
              "#bd3786"
             ],
             [
              0.5555555555555556,
              "#d8576b"
             ],
             [
              0.6666666666666666,
              "#ed7953"
             ],
             [
              0.7777777777777778,
              "#fb9f3a"
             ],
             [
              0.8888888888888888,
              "#fdca26"
             ],
             [
              1,
              "#f0f921"
             ]
            ],
            "type": "heatmap"
           }
          ],
          "heatmapgl": [
           {
            "colorbar": {
             "outlinewidth": 0,
             "ticks": ""
            },
            "colorscale": [
             [
              0,
              "#0d0887"
             ],
             [
              0.1111111111111111,
              "#46039f"
             ],
             [
              0.2222222222222222,
              "#7201a8"
             ],
             [
              0.3333333333333333,
              "#9c179e"
             ],
             [
              0.4444444444444444,
              "#bd3786"
             ],
             [
              0.5555555555555556,
              "#d8576b"
             ],
             [
              0.6666666666666666,
              "#ed7953"
             ],
             [
              0.7777777777777778,
              "#fb9f3a"
             ],
             [
              0.8888888888888888,
              "#fdca26"
             ],
             [
              1,
              "#f0f921"
             ]
            ],
            "type": "heatmapgl"
           }
          ],
          "histogram": [
           {
            "marker": {
             "pattern": {
              "fillmode": "overlay",
              "size": 10,
              "solidity": 0.2
             }
            },
            "type": "histogram"
           }
          ],
          "histogram2d": [
           {
            "colorbar": {
             "outlinewidth": 0,
             "ticks": ""
            },
            "colorscale": [
             [
              0,
              "#0d0887"
             ],
             [
              0.1111111111111111,
              "#46039f"
             ],
             [
              0.2222222222222222,
              "#7201a8"
             ],
             [
              0.3333333333333333,
              "#9c179e"
             ],
             [
              0.4444444444444444,
              "#bd3786"
             ],
             [
              0.5555555555555556,
              "#d8576b"
             ],
             [
              0.6666666666666666,
              "#ed7953"
             ],
             [
              0.7777777777777778,
              "#fb9f3a"
             ],
             [
              0.8888888888888888,
              "#fdca26"
             ],
             [
              1,
              "#f0f921"
             ]
            ],
            "type": "histogram2d"
           }
          ],
          "histogram2dcontour": [
           {
            "colorbar": {
             "outlinewidth": 0,
             "ticks": ""
            },
            "colorscale": [
             [
              0,
              "#0d0887"
             ],
             [
              0.1111111111111111,
              "#46039f"
             ],
             [
              0.2222222222222222,
              "#7201a8"
             ],
             [
              0.3333333333333333,
              "#9c179e"
             ],
             [
              0.4444444444444444,
              "#bd3786"
             ],
             [
              0.5555555555555556,
              "#d8576b"
             ],
             [
              0.6666666666666666,
              "#ed7953"
             ],
             [
              0.7777777777777778,
              "#fb9f3a"
             ],
             [
              0.8888888888888888,
              "#fdca26"
             ],
             [
              1,
              "#f0f921"
             ]
            ],
            "type": "histogram2dcontour"
           }
          ],
          "mesh3d": [
           {
            "colorbar": {
             "outlinewidth": 0,
             "ticks": ""
            },
            "type": "mesh3d"
           }
          ],
          "parcoords": [
           {
            "line": {
             "colorbar": {
              "outlinewidth": 0,
              "ticks": ""
             }
            },
            "type": "parcoords"
           }
          ],
          "pie": [
           {
            "automargin": true,
            "type": "pie"
           }
          ],
          "scatter": [
           {
            "fillpattern": {
             "fillmode": "overlay",
             "size": 10,
             "solidity": 0.2
            },
            "type": "scatter"
           }
          ],
          "scatter3d": [
           {
            "line": {
             "colorbar": {
              "outlinewidth": 0,
              "ticks": ""
             }
            },
            "marker": {
             "colorbar": {
              "outlinewidth": 0,
              "ticks": ""
             }
            },
            "type": "scatter3d"
           }
          ],
          "scattercarpet": [
           {
            "marker": {
             "colorbar": {
              "outlinewidth": 0,
              "ticks": ""
             }
            },
            "type": "scattercarpet"
           }
          ],
          "scattergeo": [
           {
            "marker": {
             "colorbar": {
              "outlinewidth": 0,
              "ticks": ""
             }
            },
            "type": "scattergeo"
           }
          ],
          "scattergl": [
           {
            "marker": {
             "colorbar": {
              "outlinewidth": 0,
              "ticks": ""
             }
            },
            "type": "scattergl"
           }
          ],
          "scattermapbox": [
           {
            "marker": {
             "colorbar": {
              "outlinewidth": 0,
              "ticks": ""
             }
            },
            "type": "scattermapbox"
           }
          ],
          "scatterpolar": [
           {
            "marker": {
             "colorbar": {
              "outlinewidth": 0,
              "ticks": ""
             }
            },
            "type": "scatterpolar"
           }
          ],
          "scatterpolargl": [
           {
            "marker": {
             "colorbar": {
              "outlinewidth": 0,
              "ticks": ""
             }
            },
            "type": "scatterpolargl"
           }
          ],
          "scatterternary": [
           {
            "marker": {
             "colorbar": {
              "outlinewidth": 0,
              "ticks": ""
             }
            },
            "type": "scatterternary"
           }
          ],
          "surface": [
           {
            "colorbar": {
             "outlinewidth": 0,
             "ticks": ""
            },
            "colorscale": [
             [
              0,
              "#0d0887"
             ],
             [
              0.1111111111111111,
              "#46039f"
             ],
             [
              0.2222222222222222,
              "#7201a8"
             ],
             [
              0.3333333333333333,
              "#9c179e"
             ],
             [
              0.4444444444444444,
              "#bd3786"
             ],
             [
              0.5555555555555556,
              "#d8576b"
             ],
             [
              0.6666666666666666,
              "#ed7953"
             ],
             [
              0.7777777777777778,
              "#fb9f3a"
             ],
             [
              0.8888888888888888,
              "#fdca26"
             ],
             [
              1,
              "#f0f921"
             ]
            ],
            "type": "surface"
           }
          ],
          "table": [
           {
            "cells": {
             "fill": {
              "color": "#EBF0F8"
             },
             "line": {
              "color": "white"
             }
            },
            "header": {
             "fill": {
              "color": "#C8D4E3"
             },
             "line": {
              "color": "white"
             }
            },
            "type": "table"
           }
          ]
         },
         "layout": {
          "annotationdefaults": {
           "arrowcolor": "#2a3f5f",
           "arrowhead": 0,
           "arrowwidth": 1
          },
          "autotypenumbers": "strict",
          "coloraxis": {
           "colorbar": {
            "outlinewidth": 0,
            "ticks": ""
           }
          },
          "colorscale": {
           "diverging": [
            [
             0,
             "#8e0152"
            ],
            [
             0.1,
             "#c51b7d"
            ],
            [
             0.2,
             "#de77ae"
            ],
            [
             0.3,
             "#f1b6da"
            ],
            [
             0.4,
             "#fde0ef"
            ],
            [
             0.5,
             "#f7f7f7"
            ],
            [
             0.6,
             "#e6f5d0"
            ],
            [
             0.7,
             "#b8e186"
            ],
            [
             0.8,
             "#7fbc41"
            ],
            [
             0.9,
             "#4d9221"
            ],
            [
             1,
             "#276419"
            ]
           ],
           "sequential": [
            [
             0,
             "#0d0887"
            ],
            [
             0.1111111111111111,
             "#46039f"
            ],
            [
             0.2222222222222222,
             "#7201a8"
            ],
            [
             0.3333333333333333,
             "#9c179e"
            ],
            [
             0.4444444444444444,
             "#bd3786"
            ],
            [
             0.5555555555555556,
             "#d8576b"
            ],
            [
             0.6666666666666666,
             "#ed7953"
            ],
            [
             0.7777777777777778,
             "#fb9f3a"
            ],
            [
             0.8888888888888888,
             "#fdca26"
            ],
            [
             1,
             "#f0f921"
            ]
           ],
           "sequentialminus": [
            [
             0,
             "#0d0887"
            ],
            [
             0.1111111111111111,
             "#46039f"
            ],
            [
             0.2222222222222222,
             "#7201a8"
            ],
            [
             0.3333333333333333,
             "#9c179e"
            ],
            [
             0.4444444444444444,
             "#bd3786"
            ],
            [
             0.5555555555555556,
             "#d8576b"
            ],
            [
             0.6666666666666666,
             "#ed7953"
            ],
            [
             0.7777777777777778,
             "#fb9f3a"
            ],
            [
             0.8888888888888888,
             "#fdca26"
            ],
            [
             1,
             "#f0f921"
            ]
           ]
          },
          "colorway": [
           "#636efa",
           "#EF553B",
           "#00cc96",
           "#ab63fa",
           "#FFA15A",
           "#19d3f3",
           "#FF6692",
           "#B6E880",
           "#FF97FF",
           "#FECB52"
          ],
          "font": {
           "color": "#2a3f5f"
          },
          "geo": {
           "bgcolor": "white",
           "lakecolor": "white",
           "landcolor": "#E5ECF6",
           "showlakes": true,
           "showland": true,
           "subunitcolor": "white"
          },
          "hoverlabel": {
           "align": "left"
          },
          "hovermode": "closest",
          "mapbox": {
           "style": "light"
          },
          "paper_bgcolor": "white",
          "plot_bgcolor": "#E5ECF6",
          "polar": {
           "angularaxis": {
            "gridcolor": "white",
            "linecolor": "white",
            "ticks": ""
           },
           "bgcolor": "#E5ECF6",
           "radialaxis": {
            "gridcolor": "white",
            "linecolor": "white",
            "ticks": ""
           }
          },
          "scene": {
           "xaxis": {
            "backgroundcolor": "#E5ECF6",
            "gridcolor": "white",
            "gridwidth": 2,
            "linecolor": "white",
            "showbackground": true,
            "ticks": "",
            "zerolinecolor": "white"
           },
           "yaxis": {
            "backgroundcolor": "#E5ECF6",
            "gridcolor": "white",
            "gridwidth": 2,
            "linecolor": "white",
            "showbackground": true,
            "ticks": "",
            "zerolinecolor": "white"
           },
           "zaxis": {
            "backgroundcolor": "#E5ECF6",
            "gridcolor": "white",
            "gridwidth": 2,
            "linecolor": "white",
            "showbackground": true,
            "ticks": "",
            "zerolinecolor": "white"
           }
          },
          "shapedefaults": {
           "line": {
            "color": "#2a3f5f"
           }
          },
          "ternary": {
           "aaxis": {
            "gridcolor": "white",
            "linecolor": "white",
            "ticks": ""
           },
           "baxis": {
            "gridcolor": "white",
            "linecolor": "white",
            "ticks": ""
           },
           "bgcolor": "#E5ECF6",
           "caxis": {
            "gridcolor": "white",
            "linecolor": "white",
            "ticks": ""
           }
          },
          "title": {
           "x": 0.05
          },
          "xaxis": {
           "automargin": true,
           "gridcolor": "white",
           "linecolor": "white",
           "ticks": "",
           "title": {
            "standoff": 15
           },
           "zerolinecolor": "white",
           "zerolinewidth": 2
          },
          "yaxis": {
           "automargin": true,
           "gridcolor": "white",
           "linecolor": "white",
           "ticks": "",
           "title": {
            "standoff": 15
           },
           "zerolinecolor": "white",
           "zerolinewidth": 2
          }
         }
        }
       }
      }
     },
     "metadata": {},
     "output_type": "display_data"
    }
   ],
   "source": [
    "fig = go.Figure(data=[go.Table(header=dict(values=['Lista de todos os gêneros de filmes']),cells=dict(values=[resultantList['genero']]))])\n",
    "fig.show()"
   ]
  },
  {
   "cell_type": "code",
   "execution_count": 1154,
   "metadata": {},
   "outputs": [
    {
     "data": {
      "text/html": [
       "<div>\n",
       "<style scoped>\n",
       "    .dataframe tbody tr th:only-of-type {\n",
       "        vertical-align: middle;\n",
       "    }\n",
       "\n",
       "    .dataframe tbody tr th {\n",
       "        vertical-align: top;\n",
       "    }\n",
       "\n",
       "    .dataframe thead th {\n",
       "        text-align: right;\n",
       "    }\n",
       "</style>\n",
       "<table border=\"1\" class=\"dataframe\">\n",
       "  <thead>\n",
       "    <tr style=\"text-align: right;\">\n",
       "      <th></th>\n",
       "      <th>year_added</th>\n",
       "      <th>plataforma</th>\n",
       "      <th>total</th>\n",
       "    </tr>\n",
       "  </thead>\n",
       "  <tbody>\n",
       "    <tr>\n",
       "      <th>0</th>\n",
       "      <td>2020</td>\n",
       "      <td>Netflix</td>\n",
       "      <td>548</td>\n",
       "    </tr>\n",
       "    <tr>\n",
       "      <th>1</th>\n",
       "      <td>2019</td>\n",
       "      <td>Netflix</td>\n",
       "      <td>509</td>\n",
       "    </tr>\n",
       "    <tr>\n",
       "      <th>2</th>\n",
       "      <td>2021</td>\n",
       "      <td>Amazon Prime</td>\n",
       "      <td>389</td>\n",
       "    </tr>\n",
       "    <tr>\n",
       "      <th>3</th>\n",
       "      <td>2021</td>\n",
       "      <td>Netflix</td>\n",
       "      <td>370</td>\n",
       "    </tr>\n",
       "    <tr>\n",
       "      <th>4</th>\n",
       "      <td>2018</td>\n",
       "      <td>Netflix</td>\n",
       "      <td>337</td>\n",
       "    </tr>\n",
       "    <tr>\n",
       "      <th>5</th>\n",
       "      <td>2017</td>\n",
       "      <td>Netflix</td>\n",
       "      <td>309</td>\n",
       "    </tr>\n",
       "    <tr>\n",
       "      <th>6</th>\n",
       "      <td>2020</td>\n",
       "      <td>Amazon Prime</td>\n",
       "      <td>215</td>\n",
       "    </tr>\n",
       "    <tr>\n",
       "      <th>7</th>\n",
       "      <td>2019</td>\n",
       "      <td>Amazon Prime</td>\n",
       "      <td>188</td>\n",
       "    </tr>\n",
       "    <tr>\n",
       "      <th>8</th>\n",
       "      <td>2018</td>\n",
       "      <td>Amazon Prime</td>\n",
       "      <td>174</td>\n",
       "    </tr>\n",
       "    <tr>\n",
       "      <th>9</th>\n",
       "      <td>2016</td>\n",
       "      <td>Netflix</td>\n",
       "      <td>165</td>\n",
       "    </tr>\n",
       "    <tr>\n",
       "      <th>10</th>\n",
       "      <td>2017</td>\n",
       "      <td>Amazon Prime</td>\n",
       "      <td>151</td>\n",
       "    </tr>\n",
       "    <tr>\n",
       "      <th>11</th>\n",
       "      <td>2016</td>\n",
       "      <td>Amazon Prime</td>\n",
       "      <td>112</td>\n",
       "    </tr>\n",
       "    <tr>\n",
       "      <th>12</th>\n",
       "      <td>2014</td>\n",
       "      <td>Amazon Prime</td>\n",
       "      <td>93</td>\n",
       "    </tr>\n",
       "    <tr>\n",
       "      <th>13</th>\n",
       "      <td>2015</td>\n",
       "      <td>Amazon Prime</td>\n",
       "      <td>91</td>\n",
       "    </tr>\n",
       "    <tr>\n",
       "      <th>14</th>\n",
       "      <td>2013</td>\n",
       "      <td>Amazon Prime</td>\n",
       "      <td>58</td>\n",
       "    </tr>\n",
       "    <tr>\n",
       "      <th>15</th>\n",
       "      <td>2012</td>\n",
       "      <td>Amazon Prime</td>\n",
       "      <td>52</td>\n",
       "    </tr>\n",
       "    <tr>\n",
       "      <th>16</th>\n",
       "      <td>2011</td>\n",
       "      <td>Amazon Prime</td>\n",
       "      <td>38</td>\n",
       "    </tr>\n",
       "    <tr>\n",
       "      <th>17</th>\n",
       "      <td>2010</td>\n",
       "      <td>Amazon Prime</td>\n",
       "      <td>34</td>\n",
       "    </tr>\n",
       "    <tr>\n",
       "      <th>18</th>\n",
       "      <td>2008</td>\n",
       "      <td>Amazon Prime</td>\n",
       "      <td>31</td>\n",
       "    </tr>\n",
       "    <tr>\n",
       "      <th>19</th>\n",
       "      <td>2009</td>\n",
       "      <td>Amazon Prime</td>\n",
       "      <td>29</td>\n",
       "    </tr>\n",
       "    <tr>\n",
       "      <th>20</th>\n",
       "      <td>2015</td>\n",
       "      <td>Netflix</td>\n",
       "      <td>25</td>\n",
       "    </tr>\n",
       "    <tr>\n",
       "      <th>22</th>\n",
       "      <td>2007</td>\n",
       "      <td>Amazon Prime</td>\n",
       "      <td>18</td>\n",
       "    </tr>\n",
       "    <tr>\n",
       "      <th>23</th>\n",
       "      <td>2006</td>\n",
       "      <td>Amazon Prime</td>\n",
       "      <td>15</td>\n",
       "    </tr>\n",
       "    <tr>\n",
       "      <th>34</th>\n",
       "      <td>2014</td>\n",
       "      <td>Netflix</td>\n",
       "      <td>5</td>\n",
       "    </tr>\n",
       "    <tr>\n",
       "      <th>35</th>\n",
       "      <td>2013</td>\n",
       "      <td>Netflix</td>\n",
       "      <td>5</td>\n",
       "    </tr>\n",
       "    <tr>\n",
       "      <th>58</th>\n",
       "      <td>2008</td>\n",
       "      <td>Netflix</td>\n",
       "      <td>1</td>\n",
       "    </tr>\n",
       "  </tbody>\n",
       "</table>\n",
       "</div>"
      ],
      "text/plain": [
       "    year_added    plataforma  total\n",
       "0         2020       Netflix    548\n",
       "1         2019       Netflix    509\n",
       "2         2021  Amazon Prime    389\n",
       "3         2021       Netflix    370\n",
       "4         2018       Netflix    337\n",
       "5         2017       Netflix    309\n",
       "6         2020  Amazon Prime    215\n",
       "7         2019  Amazon Prime    188\n",
       "8         2018  Amazon Prime    174\n",
       "9         2016       Netflix    165\n",
       "10        2017  Amazon Prime    151\n",
       "11        2016  Amazon Prime    112\n",
       "12        2014  Amazon Prime     93\n",
       "13        2015  Amazon Prime     91\n",
       "14        2013  Amazon Prime     58\n",
       "15        2012  Amazon Prime     52\n",
       "16        2011  Amazon Prime     38\n",
       "17        2010  Amazon Prime     34\n",
       "18        2008  Amazon Prime     31\n",
       "19        2009  Amazon Prime     29\n",
       "20        2015       Netflix     25\n",
       "22        2007  Amazon Prime     18\n",
       "23        2006  Amazon Prime     15\n",
       "34        2014       Netflix      5\n",
       "35        2013       Netflix      5\n",
       "58        2008       Netflix      1"
      ]
     },
     "execution_count": 1154,
     "metadata": {},
     "output_type": "execute_result"
    }
   ],
   "source": [
    "# 6- A frequência de \"TV Show\" de todos os dados e comparativamente em relação as duas plataformas\n",
    "df_tvshow = df[df['type'] == 'TV Show'].groupby(['year_added', 'plataforma']).size().sort_values(ascending=False).reset_index()\n",
    "df_tvshow.rename(columns = {0: 'total'}, inplace = True)\n",
    "df_tvshow['year_added'] = df_tvshow['year_added'].astype(int)\n",
    "df_tvshow\n",
    "\n",
    "filtered_df_tvshow = df_tvshow[df_tvshow.year_added >= 2006]\n",
    "filtered_df_tvshow\n"
   ]
  },
  {
   "cell_type": "code",
   "execution_count": null,
   "metadata": {},
   "outputs": [],
   "source": []
  },
  {
   "cell_type": "code",
   "execution_count": 1155,
   "metadata": {},
   "outputs": [
    {
     "data": {
      "image/png": "[encoded data removed]",
      "text/plain": [
       "<Figure size 1200x500 with 1 Axes>"
      ]
     },
     "metadata": {},
     "output_type": "display_data"
    }
   ],
   "source": [
    "# Gáfico de frequência de \"TV Show\"\n",
    "fig, ax = plt.subplots(nrows=1, ncols=1, figsize=(12,5))\n",
    "\n",
    "sns.barplot(x=filtered_df_tvshow.year_added, y=filtered_df_tvshow.total, hue=filtered_df_tvshow['plataforma'], hue_order=['Amazon Prime', 'Netflix'])\n",
    "plt.title('Frequência de TV Show - Amazon Prime x Netflix', fontsize=12, loc='left', pad=10)\n",
    "\n",
    "ax.legend(ncol=1, loc=\"upper right\", frameon=True)\n",
    "\n",
    "for i in ax.patches:\n",
    "    h = i.get_height()\n",
    "    ax.annotate('{:.0f}'.format(h),\n",
    "                  (i.get_x() + i.get_width()/2, h),\n",
    "                  ha='center',\n",
    "                  va='baseline',\n",
    "                  fontsize=10,\n",
    "                  color='black',\n",
    "                  xytext=(0, 2),\n",
    "                  textcoords='offset points')\n",
    "plt.tight_layout()\n",
    "\n",
    "plt.xlabel('')\n",
    "plt.ylabel('')\n",
    "plt.tight_layout()\n",
    "plt.show()"
   ]
  },
  {
   "cell_type": "code",
   "execution_count": 1156,
   "metadata": {},
   "outputs": [
    {
     "data": {
      "text/html": [
       "<div>\n",
       "<style scoped>\n",
       "    .dataframe tbody tr th:only-of-type {\n",
       "        vertical-align: middle;\n",
       "    }\n",
       "\n",
       "    .dataframe tbody tr th {\n",
       "        vertical-align: top;\n",
       "    }\n",
       "\n",
       "    .dataframe thead th {\n",
       "        text-align: right;\n",
       "    }\n",
       "</style>\n",
       "<table border=\"1\" class=\"dataframe\">\n",
       "  <thead>\n",
       "    <tr style=\"text-align: right;\">\n",
       "      <th></th>\n",
       "      <th>year_added</th>\n",
       "      <th>plataforma</th>\n",
       "      <th>total</th>\n",
       "    </tr>\n",
       "  </thead>\n",
       "  <tbody>\n",
       "    <tr>\n",
       "      <th>0</th>\n",
       "      <td>2019</td>\n",
       "      <td>Netflix</td>\n",
       "      <td>1349</td>\n",
       "    </tr>\n",
       "    <tr>\n",
       "      <th>1</th>\n",
       "      <td>2020</td>\n",
       "      <td>Netflix</td>\n",
       "      <td>1223</td>\n",
       "    </tr>\n",
       "    <tr>\n",
       "      <th>2</th>\n",
       "      <td>2018</td>\n",
       "      <td>Netflix</td>\n",
       "      <td>1192</td>\n",
       "    </tr>\n",
       "    <tr>\n",
       "      <th>3</th>\n",
       "      <td>2021</td>\n",
       "      <td>Amazon Prime</td>\n",
       "      <td>1155</td>\n",
       "    </tr>\n",
       "    <tr>\n",
       "      <th>4</th>\n",
       "      <td>2017</td>\n",
       "      <td>Netflix</td>\n",
       "      <td>812</td>\n",
       "    </tr>\n",
       "    <tr>\n",
       "      <th>5</th>\n",
       "      <td>2021</td>\n",
       "      <td>Netflix</td>\n",
       "      <td>770</td>\n",
       "    </tr>\n",
       "    <tr>\n",
       "      <th>6</th>\n",
       "      <td>2020</td>\n",
       "      <td>Amazon Prime</td>\n",
       "      <td>735</td>\n",
       "    </tr>\n",
       "    <tr>\n",
       "      <th>7</th>\n",
       "      <td>2019</td>\n",
       "      <td>Amazon Prime</td>\n",
       "      <td>729</td>\n",
       "    </tr>\n",
       "    <tr>\n",
       "      <th>8</th>\n",
       "      <td>2018</td>\n",
       "      <td>Amazon Prime</td>\n",
       "      <td>435</td>\n",
       "    </tr>\n",
       "    <tr>\n",
       "      <th>9</th>\n",
       "      <td>2017</td>\n",
       "      <td>Amazon Prime</td>\n",
       "      <td>401</td>\n",
       "    </tr>\n",
       "    <tr>\n",
       "      <th>10</th>\n",
       "      <td>2016</td>\n",
       "      <td>Amazon Prime</td>\n",
       "      <td>400</td>\n",
       "    </tr>\n",
       "    <tr>\n",
       "      <th>11</th>\n",
       "      <td>2014</td>\n",
       "      <td>Amazon Prime</td>\n",
       "      <td>292</td>\n",
       "    </tr>\n",
       "    <tr>\n",
       "      <th>12</th>\n",
       "      <td>2015</td>\n",
       "      <td>Amazon Prime</td>\n",
       "      <td>282</td>\n",
       "    </tr>\n",
       "    <tr>\n",
       "      <th>13</th>\n",
       "      <td>2016</td>\n",
       "      <td>Netflix</td>\n",
       "      <td>242</td>\n",
       "    </tr>\n",
       "    <tr>\n",
       "      <th>14</th>\n",
       "      <td>2013</td>\n",
       "      <td>Amazon Prime</td>\n",
       "      <td>227</td>\n",
       "    </tr>\n",
       "    <tr>\n",
       "      <th>15</th>\n",
       "      <td>2011</td>\n",
       "      <td>Amazon Prime</td>\n",
       "      <td>212</td>\n",
       "    </tr>\n",
       "    <tr>\n",
       "      <th>16</th>\n",
       "      <td>2012</td>\n",
       "      <td>Amazon Prime</td>\n",
       "      <td>197</td>\n",
       "    </tr>\n",
       "    <tr>\n",
       "      <th>17</th>\n",
       "      <td>2007</td>\n",
       "      <td>Amazon Prime</td>\n",
       "      <td>157</td>\n",
       "    </tr>\n",
       "    <tr>\n",
       "      <th>18</th>\n",
       "      <td>2010</td>\n",
       "      <td>Amazon Prime</td>\n",
       "      <td>152</td>\n",
       "    </tr>\n",
       "    <tr>\n",
       "      <th>19</th>\n",
       "      <td>2008</td>\n",
       "      <td>Amazon Prime</td>\n",
       "      <td>138</td>\n",
       "    </tr>\n",
       "    <tr>\n",
       "      <th>20</th>\n",
       "      <td>2006</td>\n",
       "      <td>Amazon Prime</td>\n",
       "      <td>120</td>\n",
       "    </tr>\n",
       "    <tr>\n",
       "      <th>21</th>\n",
       "      <td>2009</td>\n",
       "      <td>Amazon Prime</td>\n",
       "      <td>117</td>\n",
       "    </tr>\n",
       "    <tr>\n",
       "      <th>32</th>\n",
       "      <td>2015</td>\n",
       "      <td>Netflix</td>\n",
       "      <td>54</td>\n",
       "    </tr>\n",
       "    <tr>\n",
       "      <th>58</th>\n",
       "      <td>2014</td>\n",
       "      <td>Netflix</td>\n",
       "      <td>19</td>\n",
       "    </tr>\n",
       "    <tr>\n",
       "      <th>83</th>\n",
       "      <td>2011</td>\n",
       "      <td>Netflix</td>\n",
       "      <td>13</td>\n",
       "    </tr>\n",
       "    <tr>\n",
       "      <th>98</th>\n",
       "      <td>2013</td>\n",
       "      <td>Netflix</td>\n",
       "      <td>6</td>\n",
       "    </tr>\n",
       "    <tr>\n",
       "      <th>105</th>\n",
       "      <td>2012</td>\n",
       "      <td>Netflix</td>\n",
       "      <td>3</td>\n",
       "    </tr>\n",
       "    <tr>\n",
       "      <th>106</th>\n",
       "      <td>2009</td>\n",
       "      <td>Netflix</td>\n",
       "      <td>2</td>\n",
       "    </tr>\n",
       "    <tr>\n",
       "      <th>109</th>\n",
       "      <td>2010</td>\n",
       "      <td>Netflix</td>\n",
       "      <td>1</td>\n",
       "    </tr>\n",
       "    <tr>\n",
       "      <th>111</th>\n",
       "      <td>2008</td>\n",
       "      <td>Netflix</td>\n",
       "      <td>1</td>\n",
       "    </tr>\n",
       "  </tbody>\n",
       "</table>\n",
       "</div>"
      ],
      "text/plain": [
       "     year_added    plataforma  total\n",
       "0          2019       Netflix   1349\n",
       "1          2020       Netflix   1223\n",
       "2          2018       Netflix   1192\n",
       "3          2021  Amazon Prime   1155\n",
       "4          2017       Netflix    812\n",
       "5          2021       Netflix    770\n",
       "6          2020  Amazon Prime    735\n",
       "7          2019  Amazon Prime    729\n",
       "8          2018  Amazon Prime    435\n",
       "9          2017  Amazon Prime    401\n",
       "10         2016  Amazon Prime    400\n",
       "11         2014  Amazon Prime    292\n",
       "12         2015  Amazon Prime    282\n",
       "13         2016       Netflix    242\n",
       "14         2013  Amazon Prime    227\n",
       "15         2011  Amazon Prime    212\n",
       "16         2012  Amazon Prime    197\n",
       "17         2007  Amazon Prime    157\n",
       "18         2010  Amazon Prime    152\n",
       "19         2008  Amazon Prime    138\n",
       "20         2006  Amazon Prime    120\n",
       "21         2009  Amazon Prime    117\n",
       "32         2015       Netflix     54\n",
       "58         2014       Netflix     19\n",
       "83         2011       Netflix     13\n",
       "98         2013       Netflix      6\n",
       "105        2012       Netflix      3\n",
       "106        2009       Netflix      2\n",
       "109        2010       Netflix      1\n",
       "111        2008       Netflix      1"
      ]
     },
     "execution_count": 1156,
     "metadata": {},
     "output_type": "execute_result"
    }
   ],
   "source": [
    "# 7- A frequência de \"Movies\" de todos os dados e comparativamente em relação as duas plataformas\n",
    "df_movies = df[df['type'] == 'Movie'].groupby(['year_added', 'plataforma']).size().sort_values(ascending=False).reset_index()\n",
    "df_movies.rename(columns = {0: 'total'}, inplace = True)\n",
    "df_movies['year_added'] = df_movies['year_added'].astype(int)\n",
    "\n",
    "filtered_df_movies = df_movies[df_movies.year_added >= 2006]\n",
    "filtered_df_movies"
   ]
  },
  {
   "cell_type": "code",
   "execution_count": 1157,
   "metadata": {},
   "outputs": [
    {
     "data": {
      "image/png": "[encoded data removed]",
      "text/plain": [
       "<Figure size 1200x500 with 1 Axes>"
      ]
     },
     "metadata": {},
     "output_type": "display_data"
    }
   ],
   "source": [
    "# Gáfico de frequência de \"Movies\"\n",
    "fig, ax = plt.subplots(nrows=1, ncols=1, figsize=(12,5))\n",
    "sns.barplot(x=filtered_df_movies.year_added, y=filtered_df_movies.total, hue=filtered_df_movies['plataforma'], hue_order=['Amazon Prime', 'Netflix'])\n",
    "plt.title('Frequência de Movies - Amazon Prime x Netflix', fontsize=12, loc='left', pad=10)\n",
    "\n",
    "ax.legend(ncol=1, loc=\"upper right\", frameon=True)\n",
    "\n",
    "for i in ax.patches:\n",
    "    h = i.get_height()\n",
    "    ax.annotate('{:.0f}'.format(h),\n",
    "                  (i.get_x() + i.get_width()/2, h),\n",
    "                  ha='center',\n",
    "                  va='baseline',\n",
    "                  fontsize=10,\n",
    "                  color='black',\n",
    "                  xytext=(0, 2),\n",
    "                  textcoords='offset points')\n",
    "plt.tight_layout()\n",
    "\n",
    "plt.xlabel('')\n",
    "plt.ylabel('')\n",
    "plt.tight_layout()\n",
    "plt.show()"
   ]
  }
 ],
 "metadata": {
  "kernelspec": {
   "display_name": "venv",
   "language": "python",
   "name": "python3"
  },
  "language_info": {
   "codemirror_mode": {
    "name": "ipython",
    "version": 3
   },
   "file_extension": ".py",
   "mimetype": "text/x-python",
   "name": "python",
   "nbconvert_exporter": "python",
   "pygments_lexer": "ipython3",
   "version": "3.10.0"
  },
  "orig_nbformat": 4
 },
 "nbformat": 4,
 "nbformat_minor": 2
}
